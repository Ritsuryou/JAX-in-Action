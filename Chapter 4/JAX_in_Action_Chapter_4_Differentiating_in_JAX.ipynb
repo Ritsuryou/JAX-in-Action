{
  "nbformat": 4,
  "nbformat_minor": 0,
  "metadata": {
    "colab": {
      "name": "JAX in Action - Chapter 4 - Differentiating in JAX",
      "provenance": [],
      "collapsed_sections": [],
      "toc_visible": true
    },
    "kernelspec": {
      "name": "python3",
      "display_name": "Python 3"
    },
    "language_info": {
      "name": "python"
    }
  },
  "cells": [
    {
      "cell_type": "code",
      "execution_count": 1,
      "metadata": {
        "id": "pULeWpb_V1an"
      },
      "outputs": [],
      "source": [
        "import numpy as np\n",
        "import matplotlib.pyplot as plt"
      ]
    },
    {
      "cell_type": "code",
      "source": [
        "import jax\n",
        "import jax.numpy as jnp"
      ],
      "metadata": {
        "id": "zeEW8C9oWLoe"
      },
      "execution_count": 2,
      "outputs": []
    },
    {
      "cell_type": "markdown",
      "source": [
        "## When differentiating with respect to the first parameter is not enough"
      ],
      "metadata": {
        "id": "xxfy0vIEwUhs"
      }
    },
    {
      "cell_type": "code",
      "source": [
        "def dist(order, x, y):\n",
        "  return jnp.power(jnp.sum(jnp.abs(x-y)**order), 1.0/order)"
      ],
      "metadata": {
        "id": "UxLj0c5OwVm2"
      },
      "execution_count": 3,
      "outputs": []
    },
    {
      "cell_type": "code",
      "source": [
        "dist_d_x = jax.grad(dist, argnums=1) "
      ],
      "metadata": {
        "id": "yntT1Gucw5Uk"
      },
      "execution_count": 4,
      "outputs": []
    },
    {
      "cell_type": "code",
      "source": [
        "dist_d_xy = jax.grad(dist, argnums=(1,2)) "
      ],
      "metadata": {
        "id": "jKBZ-qW_w7Av"
      },
      "execution_count": 5,
      "outputs": []
    },
    {
      "cell_type": "code",
      "source": [
        "dist_d_x(1, jnp.array([1.0,1.0,1.0]), jnp.array([2.0,2.0,2.0]))\n"
      ],
      "metadata": {
        "colab": {
          "base_uri": "https://localhost:8080/"
        },
        "id": "h5kM5DmsylXF",
        "outputId": "c45864fe-409d-4903-d405-e7c3abfdbbe7"
      },
      "execution_count": 6,
      "outputs": [
        {
          "output_type": "stream",
          "name": "stderr",
          "text": [
            "WARNING:absl:No GPU/TPU found, falling back to CPU. (Set TF_CPP_MIN_LOG_LEVEL=0 and rerun for more info.)\n"
          ]
        },
        {
          "output_type": "execute_result",
          "data": {
            "text/plain": [
              "DeviceArray([-1., -1., -1.], dtype=float32)"
            ]
          },
          "metadata": {},
          "execution_count": 6
        }
      ]
    },
    {
      "cell_type": "code",
      "source": [
        "dist_d_xy(1, jnp.array([1.0,1.0,1.0]), jnp.array([2.0,2.0,2.0]))"
      ],
      "metadata": {
        "colab": {
          "base_uri": "https://localhost:8080/"
        },
        "id": "FgERWvLHwisd",
        "outputId": "2ab9d817-472a-4b32-ffb7-c02f44f70a6d"
      },
      "execution_count": 7,
      "outputs": [
        {
          "output_type": "execute_result",
          "data": {
            "text/plain": [
              "(DeviceArray([-1., -1., -1.], dtype=float32),\n",
              " DeviceArray([1., 1., 1.], dtype=float32))"
            ]
          },
          "metadata": {},
          "execution_count": 7
        }
      ]
    },
    {
      "cell_type": "markdown",
      "source": [
        "## Differentiating with respect to multiple parameters"
      ],
      "metadata": {
        "id": "D0jIp_Zd6QyT"
      }
    },
    {
      "cell_type": "code",
      "source": [
        "x = np.linspace(0, 10*np.pi, num=1000)\n",
        "e = np.random.normal(scale=10.0, size=x.size)\n",
        "y = 65.0 + 1.8*x + 40*np.cos(x) + e \n",
        "\n",
        "xt = jnp.array(x)\n",
        "yt = jnp.array(y)\n",
        "learning_rate = 1e-2"
      ],
      "metadata": {
        "id": "bxbZpTxyDXIr"
      },
      "execution_count": 12,
      "outputs": []
    },
    {
      "cell_type": "code",
      "source": [
        "model_parameters = {\n",
        "    'w': jnp.array([1.]),\n",
        "    'b': jnp.array([1.])\n",
        "    }\n",
        "\n",
        "def model(param_dict, x):\n",
        "    w, b = param_dict['w'], param_dict['b']\n",
        "    return w * x + b\n",
        "\n",
        "def loss_fn(model_parameters, x, y):\n",
        "    prediction = model(model_parameters, x)\n",
        "    return jnp.mean((prediction-y)**2)\n",
        "\n",
        "grads_fn = jax.grad(loss_fn)\n",
        "grads = grads_fn(model_parameters, xt, yt)\n"
      ],
      "metadata": {
        "id": "tjj3o9UcwkRO"
      },
      "execution_count": 13,
      "outputs": []
    },
    {
      "cell_type": "code",
      "source": [
        "print(grads)"
      ],
      "metadata": {
        "colab": {
          "base_uri": "https://localhost:8080/"
        },
        "id": "8gZLSxf56ygP",
        "outputId": "734b01bf-d236-4f96-f659-f9116323cee9"
      },
      "execution_count": 14,
      "outputs": [
        {
          "output_type": "stream",
          "name": "stdout",
          "text": [
            "{'b': DeviceArray([-153.65527], dtype=float32), 'w': DeviceArray([-2554.9482], dtype=float32)}\n"
          ]
        }
      ]
    },
    {
      "cell_type": "markdown",
      "source": [
        "## Returning auxiliary data from a function"
      ],
      "metadata": {
        "id": "fd81jpFs9tNe"
      }
    },
    {
      "cell_type": "code",
      "source": [
        "model_parameters = jnp.array([1., 1.])\n",
        "\n",
        "def model(theta, x):\n",
        "    w, b = theta\n",
        "    return w * x + b\n",
        "\n",
        "def loss_fn(model_parameters, x, y):\n",
        "    prediction = model(model_parameters, x)\n",
        "    return jnp.mean((prediction-y)**2), prediction\n",
        "\n",
        "grads_fn = jax.grad(loss_fn, has_aux=True)\n",
        "grads, preds  = grads_fn(model_parameters, xt, yt)\n",
        "model_parameters -= learning_rate * grads\n"
      ],
      "metadata": {
        "id": "Yy5ReYiV7Dr4"
      },
      "execution_count": 15,
      "outputs": []
    },
    {
      "cell_type": "code",
      "source": [
        "model_parameters"
      ],
      "metadata": {
        "colab": {
          "base_uri": "https://localhost:8080/"
        },
        "id": "OKRqjmrG94rq",
        "outputId": "078c8fc0-a5d4-4d82-ef6c-857dc229f520"
      },
      "execution_count": 16,
      "outputs": [
        {
          "output_type": "execute_result",
          "data": {
            "text/plain": [
              "DeviceArray([26.549482 ,  2.5365527], dtype=float32)"
            ]
          },
          "metadata": {},
          "execution_count": 16
        }
      ]
    },
    {
      "cell_type": "code",
      "source": [
        "grads"
      ],
      "metadata": {
        "colab": {
          "base_uri": "https://localhost:8080/"
        },
        "id": "e2h3GXHJ-Fcj",
        "outputId": "26fb2598-97fb-4247-c178-324065e1d1d3"
      },
      "execution_count": 17,
      "outputs": [
        {
          "output_type": "execute_result",
          "data": {
            "text/plain": [
              "DeviceArray([-2554.9482 ,  -153.65527], dtype=float32)"
            ]
          },
          "metadata": {},
          "execution_count": 17
        }
      ]
    },
    {
      "cell_type": "code",
      "source": [
        "preds.shape"
      ],
      "metadata": {
        "colab": {
          "base_uri": "https://localhost:8080/"
        },
        "id": "rm5xjXXL-G_R",
        "outputId": "32ac8557-4ad5-41b8-a912-616e1956b07c"
      },
      "execution_count": 18,
      "outputs": [
        {
          "output_type": "execute_result",
          "data": {
            "text/plain": [
              "(1000,)"
            ]
          },
          "metadata": {},
          "execution_count": 18
        }
      ]
    },
    {
      "cell_type": "markdown",
      "source": [
        "## Obtaining both gradient and value of the function"
      ],
      "metadata": {
        "id": "vdTzrN1p_Uyb"
      }
    },
    {
      "cell_type": "code",
      "source": [
        "model_parameters = jnp.array([1., 1.])\n",
        "\n",
        "def model(theta, x):\n",
        "    w, b = theta\n",
        "    return w * x + b\n",
        "\n",
        "def loss_fn(model_parameters, x, y):\n",
        "    prediction = model(model_parameters, x)\n",
        "    return jnp.mean((prediction-y)**2), prediction\n",
        "\n",
        "grads_fn = jax.value_and_grad(loss_fn, has_aux=True)\n",
        "(loss, preds), grads  = grads_fn(model_parameters, xt, yt)\n",
        "model_parameters -= learning_rate * grads\n"
      ],
      "metadata": {
        "id": "4tUfYJ6z-JDM"
      },
      "execution_count": 19,
      "outputs": []
    },
    {
      "cell_type": "code",
      "source": [
        "loss"
      ],
      "metadata": {
        "colab": {
          "base_uri": "https://localhost:8080/"
        },
        "id": "uOnyuOrq_huU",
        "outputId": "131f6f9a-6a31-4955-cab1-c8c5024da0e6"
      },
      "execution_count": 20,
      "outputs": [
        {
          "output_type": "execute_result",
          "data": {
            "text/plain": [
              "DeviceArray(6865.2383, dtype=float32)"
            ]
          },
          "metadata": {},
          "execution_count": 20
        }
      ]
    },
    {
      "cell_type": "code",
      "source": [
        "preds.shape"
      ],
      "metadata": {
        "colab": {
          "base_uri": "https://localhost:8080/"
        },
        "id": "lSE9nhJ__iz_",
        "outputId": "ffe7f0a5-8551-4b1d-d951-6b4c5d1d4918"
      },
      "execution_count": 21,
      "outputs": [
        {
          "output_type": "execute_result",
          "data": {
            "text/plain": [
              "(1000,)"
            ]
          },
          "metadata": {},
          "execution_count": 21
        }
      ]
    },
    {
      "cell_type": "code",
      "source": [
        "grads"
      ],
      "metadata": {
        "colab": {
          "base_uri": "https://localhost:8080/"
        },
        "id": "gJONT9X2_jtR",
        "outputId": "6d986560-b1e9-46eb-ec51-ee4339544a82"
      },
      "execution_count": 22,
      "outputs": [
        {
          "output_type": "execute_result",
          "data": {
            "text/plain": [
              "DeviceArray([-2554.9482 ,  -153.65527], dtype=float32)"
            ]
          },
          "metadata": {},
          "execution_count": 22
        }
      ]
    },
    {
      "cell_type": "markdown",
      "source": [
        "## Higher-order derivatives"
      ],
      "metadata": {
        "id": "LTzq3EMO_3Qt"
      }
    },
    {
      "cell_type": "code",
      "source": [
        "def f(x):\n",
        "    return x**4 + 12*x + 1/x\n",
        "\n",
        "f_d1 = jax.grad(f)\n",
        "f_d2 = jax.grad(f_d1)\n",
        "f_d3 = jax.grad(f_d2)\n",
        "\n",
        "x = 11.0\n",
        "\n",
        "print(f_d1(x))\n",
        "print(f_d2(x))\n",
        "print(f_d3(x))\n"
      ],
      "metadata": {
        "colab": {
          "base_uri": "https://localhost:8080/"
        },
        "id": "0WQ2yIUN_kS3",
        "outputId": "86181011-027a-4019-d10c-cc909ca27e66"
      },
      "execution_count": 23,
      "outputs": [
        {
          "output_type": "stream",
          "name": "stdout",
          "text": [
            "5335.9917\n",
            "1452.0015\n",
            "263.9996\n"
          ]
        }
      ]
    },
    {
      "cell_type": "code",
      "source": [
        "f_d3 = jax.grad(jax.grad(jax.grad(f)))\n",
        "\n",
        "print(f_d3(x))"
      ],
      "metadata": {
        "colab": {
          "base_uri": "https://localhost:8080/"
        },
        "id": "_J9xXyvR__me",
        "outputId": "7cddc6df-7010-4d14-ac08-86b5effa9150"
      },
      "execution_count": 24,
      "outputs": [
        {
          "output_type": "stream",
          "name": "stdout",
          "text": [
            "263.9996\n"
          ]
        }
      ]
    },
    {
      "cell_type": "markdown",
      "source": [
        "Displaying several derivatives:"
      ],
      "metadata": {
        "id": "TEtuJEX1LMiK"
      }
    },
    {
      "cell_type": "code",
      "source": [
        "def f(x):\n",
        "    return x**3 + 12*x + 7*x*jnp.sin(x)\n",
        "\n",
        "x = np.linspace(-10, 10, num=500)\n",
        "\n",
        "fig, ax = plt.subplots(figsize=(10,10))\n",
        "ax.plot(x, f(x), label = r\"$y = x^3 + 12x + 7x*sin(x)$\")\n",
        "\n",
        "df = f\n",
        "for d in range(1,4):\n",
        "  df = jax.grad(df)\n",
        "  #ax.plot(x, (df)(x), label=f'#{d} derivative')\n",
        "  ax.plot(x, jax.vmap(df)(x), label=f'#{d} derivative')\n",
        "  ax.legend()"
      ],
      "metadata": {
        "colab": {
          "base_uri": "https://localhost:8080/",
          "height": 592
        },
        "id": "5qa-jMcTLuXe",
        "outputId": "d0198d63-fb8b-4aa4-bb8e-cc4cec99a7d9"
      },
      "execution_count": 25,
      "outputs": [
        {
          "output_type": "display_data",
          "data": {
            "text/plain": [
              "<Figure size 720x720 with 1 Axes>"
            ],
            "image/png": "[encoded data removed]"
          },
          "metadata": {
            "needs_background": "light"
          }
        }
      ]
    },
    {
      "cell_type": "markdown",
      "source": [
        "# Jacobians"
      ],
      "metadata": {
        "id": "bBfuOkmQjunq"
      }
    },
    {
      "cell_type": "code",
      "source": [
        "def f(x):\n",
        "  return [\n",
        "      x[0]**2 + x[1]**2 - x[1]*x[2],\n",
        "      x[0]**2 - x[1]**2 + 3*x[0]*x[2]\n",
        "  ]  "
      ],
      "metadata": {
        "id": "CeBNWRtCogD8"
      },
      "execution_count": 26,
      "outputs": []
    },
    {
      "cell_type": "code",
      "source": [
        "print(jax.jacrev(f)(jnp.array([3.0, 4.0, 5.0])))"
      ],
      "metadata": {
        "colab": {
          "base_uri": "https://localhost:8080/"
        },
        "id": "0T_xB5L0pXo6",
        "outputId": "ebf0f13d-c63b-4e3d-8e81-5fd7aafdece9"
      },
      "execution_count": 27,
      "outputs": [
        {
          "output_type": "stream",
          "name": "stdout",
          "text": [
            "[DeviceArray([ 6.,  3., -4.], dtype=float32), DeviceArray([21., -8.,  9.], dtype=float32)]\n"
          ]
        }
      ]
    },
    {
      "cell_type": "code",
      "source": [
        "print(jax.jacfwd(f)(jnp.array([3.0, 4.0, 5.0])))"
      ],
      "metadata": {
        "colab": {
          "base_uri": "https://localhost:8080/"
        },
        "id": "-_FVRvIUpbGu",
        "outputId": "450e0d96-7e05-4a2c-ebbe-c057976bc7ac"
      },
      "execution_count": 28,
      "outputs": [
        {
          "output_type": "stream",
          "name": "stdout",
          "text": [
            "[DeviceArray([ 6.,  3., -4.], dtype=float32), DeviceArray([21., -8.,  9.], dtype=float32)]\n"
          ]
        }
      ]
    },
    {
      "cell_type": "code",
      "source": [
        "%timeit -n 100 jax.jacrev(f)(jnp.array([3.0, 4.0, 5.0]))"
      ],
      "metadata": {
        "colab": {
          "base_uri": "https://localhost:8080/"
        },
        "id": "Ioh2KzHZsXW1",
        "outputId": "d6aeb364-c814-4433-e36c-c89df4641ada"
      },
      "execution_count": 29,
      "outputs": [
        {
          "output_type": "stream",
          "name": "stdout",
          "text": [
            "23.8 ms ± 269 µs per loop (mean ± std. dev. of 7 runs, 100 loops each)\n"
          ]
        }
      ]
    },
    {
      "cell_type": "code",
      "source": [
        "%timeit -n 100 jax.jacfwd(f)(jnp.array([3.0, 4.0, 5.0]))"
      ],
      "metadata": {
        "colab": {
          "base_uri": "https://localhost:8080/"
        },
        "id": "eHsTWT_IspdL",
        "outputId": "23b7d8ae-8697-456a-f67a-e9fd25394bbc"
      },
      "execution_count": 30,
      "outputs": [
        {
          "output_type": "stream",
          "name": "stdout",
          "text": [
            "14.8 ms ± 169 µs per loop (mean ± std. dev. of 7 runs, 100 loops each)\n"
          ]
        }
      ]
    },
    {
      "cell_type": "markdown",
      "source": [
        "# Hessian"
      ],
      "metadata": {
        "id": "sb6bSzWtykRc"
      }
    },
    {
      "cell_type": "code",
      "source": [
        "def f(x):\n",
        "  return x[0]**2 - x[1]**2 + 3*x[0]*x[2]"
      ],
      "metadata": {
        "id": "Q9tvKi7wvZpe"
      },
      "execution_count": 31,
      "outputs": []
    },
    {
      "cell_type": "code",
      "source": [
        "jax.hessian(f)(jnp.array([3.0, 4.0, 5.0]))"
      ],
      "metadata": {
        "colab": {
          "base_uri": "https://localhost:8080/"
        },
        "id": "EdgLzQD-zIGq",
        "outputId": "bb3c4566-abb9-4441-f549-a7ebf2bf64ab"
      },
      "execution_count": 32,
      "outputs": [
        {
          "output_type": "execute_result",
          "data": {
            "text/plain": [
              "DeviceArray([[ 2.,  0.,  3.],\n",
              "             [ 0., -2.,  0.],\n",
              "             [ 3.,  0.,  0.]], dtype=float32)"
            ]
          },
          "metadata": {},
          "execution_count": 32
        }
      ]
    },
    {
      "cell_type": "code",
      "source": [
        "jax.jacfwd(jax.grad(f))(jnp.array([3.0, 4.0, 5.0]))"
      ],
      "metadata": {
        "colab": {
          "base_uri": "https://localhost:8080/"
        },
        "id": "jfdaGk3dzNws",
        "outputId": "169d5b1d-36dd-43c1-8cbd-6f3fd7c66f64"
      },
      "execution_count": 33,
      "outputs": [
        {
          "output_type": "execute_result",
          "data": {
            "text/plain": [
              "DeviceArray([[ 2.,  0.,  3.],\n",
              "             [ 0., -2.,  0.],\n",
              "             [ 3.,  0.,  0.]], dtype=float32)"
            ]
          },
          "metadata": {},
          "execution_count": 33
        }
      ]
    },
    {
      "cell_type": "code",
      "source": [
        "jax.jacfwd(jax.grad(f))(jnp.array([3.0, 4.0, 5.0]))"
      ],
      "metadata": {
        "colab": {
          "base_uri": "https://localhost:8080/"
        },
        "id": "g8XNX0j60wE7",
        "outputId": "60f85aca-eda1-484e-a202-d483ec2f77ed"
      },
      "execution_count": 34,
      "outputs": [
        {
          "output_type": "execute_result",
          "data": {
            "text/plain": [
              "DeviceArray([[ 2.,  0.,  3.],\n",
              "             [ 0., -2.,  0.],\n",
              "             [ 3.,  0.,  0.]], dtype=float32)"
            ]
          },
          "metadata": {},
          "execution_count": 34
        }
      ]
    },
    {
      "cell_type": "markdown",
      "source": [
        "# JVP"
      ],
      "metadata": {
        "id": "-iSR6E4VMhyA"
      }
    },
    {
      "cell_type": "markdown",
      "source": [
        "Code for checking manual computations"
      ],
      "metadata": {
        "id": "hFWQ_DMREUwZ"
      }
    },
    {
      "cell_type": "code",
      "source": [
        "def f(x1,x2):\n",
        "  return x1*x2 + jnp.sin(x1*x2)"
      ],
      "metadata": {
        "id": "ljLgxOoMEUNK"
      },
      "execution_count": 44,
      "outputs": []
    },
    {
      "cell_type": "code",
      "source": [
        "x = (7.0, 2.0)"
      ],
      "metadata": {
        "id": "4W3UCl6pKRJb"
      },
      "execution_count": 45,
      "outputs": []
    },
    {
      "cell_type": "code",
      "source": [
        "f(*x)"
      ],
      "metadata": {
        "colab": {
          "base_uri": "https://localhost:8080/"
        },
        "id": "bkwUlzg9Enrj",
        "outputId": "295ec99e-5316-423f-e246-3311fa69adc8"
      },
      "execution_count": 46,
      "outputs": [
        {
          "output_type": "execute_result",
          "data": {
            "text/plain": [
              "DeviceArray(14.990607, dtype=float32, weak_type=True)"
            ]
          },
          "metadata": {},
          "execution_count": 46
        }
      ]
    },
    {
      "cell_type": "code",
      "source": [
        "jax.grad(f)(*x)"
      ],
      "metadata": {
        "colab": {
          "base_uri": "https://localhost:8080/"
        },
        "id": "WMq50nHyHDQU",
        "outputId": "865e366a-30a4-4c0b-90b1-7c044e5cf1d2"
      },
      "execution_count": 47,
      "outputs": [
        {
          "output_type": "execute_result",
          "data": {
            "text/plain": [
              "DeviceArray(2.2734745, dtype=float32, weak_type=True)"
            ]
          },
          "metadata": {},
          "execution_count": 47
        }
      ]
    },
    {
      "cell_type": "code",
      "source": [
        "jax.grad(f, argnums=(0,1))(*x)"
      ],
      "metadata": {
        "colab": {
          "base_uri": "https://localhost:8080/"
        },
        "id": "2r2YVkMuHIdI",
        "outputId": "041ed58e-f3e1-4a24-967c-c7051434b4a9"
      },
      "execution_count": 48,
      "outputs": [
        {
          "output_type": "execute_result",
          "data": {
            "text/plain": [
              "(DeviceArray(2.2734745, dtype=float32, weak_type=True),\n",
              " DeviceArray(7.9571605, dtype=float32, weak_type=True))"
            ]
          },
          "metadata": {},
          "execution_count": 48
        }
      ]
    },
    {
      "cell_type": "markdown",
      "source": [
        "JVP example"
      ],
      "metadata": {
        "id": "EFzdtG0XEY2F"
      }
    },
    {
      "cell_type": "code",
      "source": [
        "def f2(x):\n",
        "  return [\n",
        "      x[0]**2 + x[1]**2 - x[1]*x[2],\n",
        "      x[0]**2 - x[1]**2 + 3*x[0]*x[2]\n",
        "  ]  \n",
        "\n",
        "x = jnp.array([3.0, 4.0, 5.0])\n",
        "v = jnp.array([1.0, 1.0, 1.0])"
      ],
      "metadata": {
        "id": "-Zxx6pas1f-V"
      },
      "execution_count": 67,
      "outputs": []
    },
    {
      "cell_type": "code",
      "source": [
        "p,t = jax.jvp(f2, x, v)"
      ],
      "metadata": {
        "colab": {
          "base_uri": "https://localhost:8080/",
          "height": 381
        },
        "id": "hLn7D5XlcCPJ",
        "outputId": "084c6a85-6d24-4f0a-f6e1-54d1bb8d359f"
      },
      "execution_count": 69,
      "outputs": [
        {
          "output_type": "error",
          "ename": "TypeError",
          "evalue": "ignored",
          "traceback": [
            "\u001b[0;31m---------------------------------------------------------------------------\u001b[0m",
            "\u001b[0;31mTypeError\u001b[0m                                 Traceback (most recent call last)",
            "\u001b[0;32m<ipython-input-69-562f2469f886>\u001b[0m in \u001b[0;36m<module>\u001b[0;34m\u001b[0m\n\u001b[0;32m----> 1\u001b[0;31m \u001b[0mp\u001b[0m\u001b[0;34m,\u001b[0m\u001b[0mt\u001b[0m \u001b[0;34m=\u001b[0m \u001b[0mjax\u001b[0m\u001b[0;34m.\u001b[0m\u001b[0mjvp\u001b[0m\u001b[0;34m(\u001b[0m\u001b[0mf2\u001b[0m\u001b[0;34m,\u001b[0m \u001b[0mx\u001b[0m\u001b[0;34m,\u001b[0m \u001b[0mv\u001b[0m\u001b[0;34m)\u001b[0m\u001b[0;34m\u001b[0m\u001b[0;34m\u001b[0m\u001b[0m\n\u001b[0m",
            "\u001b[0;32m/usr/local/lib/python3.7/dist-packages/jax/_src/api.py\u001b[0m in \u001b[0;36mjvp\u001b[0;34m(fun, primals, tangents, has_aux)\u001b[0m\n\u001b[1;32m   2330\u001b[0m   \"\"\"\n\u001b[1;32m   2331\u001b[0m   \u001b[0m_check_callable\u001b[0m\u001b[0;34m(\u001b[0m\u001b[0mfun\u001b[0m\u001b[0;34m)\u001b[0m\u001b[0;34m\u001b[0m\u001b[0;34m\u001b[0m\u001b[0m\n\u001b[0;32m-> 2332\u001b[0;31m   \u001b[0;32mreturn\u001b[0m \u001b[0m_jvp\u001b[0m\u001b[0;34m(\u001b[0m\u001b[0mlu\u001b[0m\u001b[0;34m.\u001b[0m\u001b[0mwrap_init\u001b[0m\u001b[0;34m(\u001b[0m\u001b[0mfun\u001b[0m\u001b[0;34m)\u001b[0m\u001b[0;34m,\u001b[0m \u001b[0mprimals\u001b[0m\u001b[0;34m,\u001b[0m \u001b[0mtangents\u001b[0m\u001b[0;34m,\u001b[0m \u001b[0mhas_aux\u001b[0m\u001b[0;34m=\u001b[0m\u001b[0mhas_aux\u001b[0m\u001b[0;34m)\u001b[0m\u001b[0;34m\u001b[0m\u001b[0;34m\u001b[0m\u001b[0m\n\u001b[0m\u001b[1;32m   2333\u001b[0m \u001b[0;34m\u001b[0m\u001b[0m\n\u001b[1;32m   2334\u001b[0m \u001b[0;32mdef\u001b[0m \u001b[0m_jvp\u001b[0m\u001b[0;34m(\u001b[0m\u001b[0mfun\u001b[0m\u001b[0;34m:\u001b[0m \u001b[0mlu\u001b[0m\u001b[0;34m.\u001b[0m\u001b[0mWrappedFun\u001b[0m\u001b[0;34m,\u001b[0m \u001b[0mprimals\u001b[0m\u001b[0;34m,\u001b[0m \u001b[0mtangents\u001b[0m\u001b[0;34m,\u001b[0m \u001b[0mhas_aux\u001b[0m\u001b[0;34m=\u001b[0m\u001b[0;32mFalse\u001b[0m\u001b[0;34m)\u001b[0m\u001b[0;34m:\u001b[0m\u001b[0;34m\u001b[0m\u001b[0;34m\u001b[0m\u001b[0m\n",
            "\u001b[0;32m/usr/local/lib/python3.7/dist-packages/jax/_src/api.py\u001b[0m in \u001b[0;36m_jvp\u001b[0;34m(fun, primals, tangents, has_aux)\u001b[0m\n\u001b[1;32m   2336\u001b[0m   if (not isinstance(primals, (tuple, list)) or\n\u001b[1;32m   2337\u001b[0m       not isinstance(tangents, (tuple, list))):\n\u001b[0;32m-> 2338\u001b[0;31m     raise TypeError(\"primal and tangent arguments to jax.jvp must be tuples or lists; \"\n\u001b[0m\u001b[1;32m   2339\u001b[0m                     f\"found {type(primals).__name__} and {type(tangents).__name__}.\")\n\u001b[1;32m   2340\u001b[0m \u001b[0;34m\u001b[0m\u001b[0m\n",
            "\u001b[0;31mTypeError\u001b[0m: primal and tangent arguments to jax.jvp must be tuples or lists; found DeviceArray and DeviceArray."
          ]
        }
      ]
    },
    {
      "cell_type": "code",
      "source": [
        "p,t = jax.jvp(f2, (x,), (v,))"
      ],
      "metadata": {
        "id": "nWdFiwOCPQxM"
      },
      "execution_count": 68,
      "outputs": []
    },
    {
      "cell_type": "code",
      "source": [
        "p"
      ],
      "metadata": {
        "colab": {
          "base_uri": "https://localhost:8080/"
        },
        "id": "Ru17K471PXeT",
        "outputId": "d952c5b4-0247-44e1-8399-128778faa42f"
      },
      "execution_count": 51,
      "outputs": [
        {
          "output_type": "execute_result",
          "data": {
            "text/plain": [
              "[DeviceArray(5., dtype=float32), DeviceArray(38., dtype=float32)]"
            ]
          },
          "metadata": {},
          "execution_count": 51
        }
      ]
    },
    {
      "cell_type": "code",
      "source": [
        "t"
      ],
      "metadata": {
        "colab": {
          "base_uri": "https://localhost:8080/"
        },
        "id": "CxxtONHmRVJ9",
        "outputId": "8c7c58b9-36a5-4d7f-8c8d-d5b9fead088d"
      },
      "execution_count": 52,
      "outputs": [
        {
          "output_type": "execute_result",
          "data": {
            "text/plain": [
              "[DeviceArray(5., dtype=float32), DeviceArray(22., dtype=float32)]"
            ]
          },
          "metadata": {},
          "execution_count": 52
        }
      ]
    },
    {
      "cell_type": "code",
      "source": [
        "p,t = jax.jvp(f2, (x,), (jnp.array([1.0, 0.0, 0.0]),))\n",
        "t"
      ],
      "metadata": {
        "colab": {
          "base_uri": "https://localhost:8080/"
        },
        "id": "Dl6TsTXLRbE_",
        "outputId": "dd51da3e-0694-403f-803a-5591331a1586"
      },
      "execution_count": 53,
      "outputs": [
        {
          "output_type": "execute_result",
          "data": {
            "text/plain": [
              "[DeviceArray(6., dtype=float32), DeviceArray(21., dtype=float32)]"
            ]
          },
          "metadata": {},
          "execution_count": 53
        }
      ]
    },
    {
      "cell_type": "code",
      "source": [
        "p,t = jax.jvp(f2, (x,), (jnp.array([0.0, 1.0, 0.0]),))\n",
        "t"
      ],
      "metadata": {
        "colab": {
          "base_uri": "https://localhost:8080/"
        },
        "id": "2jiVZ0FUVQs_",
        "outputId": "05640f89-9abe-4b4b-c9c4-cb59b779c63a"
      },
      "execution_count": 54,
      "outputs": [
        {
          "output_type": "execute_result",
          "data": {
            "text/plain": [
              "[DeviceArray(3., dtype=float32), DeviceArray(-8., dtype=float32)]"
            ]
          },
          "metadata": {},
          "execution_count": 54
        }
      ]
    },
    {
      "cell_type": "code",
      "source": [
        "p,t = jax.jvp(f2, (x,), (jnp.array([0.0, 0.0, 1.0]),))\n",
        "t"
      ],
      "metadata": {
        "colab": {
          "base_uri": "https://localhost:8080/"
        },
        "id": "koMKGSWRVlnk",
        "outputId": "4a3ff8bc-3e50-4463-95cb-46b18a307e6b"
      },
      "execution_count": 55,
      "outputs": [
        {
          "output_type": "execute_result",
          "data": {
            "text/plain": [
              "[DeviceArray(-4., dtype=float32), DeviceArray(9., dtype=float32)]"
            ]
          },
          "metadata": {},
          "execution_count": 55
        }
      ]
    },
    {
      "cell_type": "markdown",
      "source": [
        "Checking manual computations with jvp()"
      ],
      "metadata": {
        "id": "4V1-MTDcW02R"
      }
    },
    {
      "cell_type": "code",
      "source": [
        "def f(x1,x2):\n",
        "  return x1*x2 + jnp.sin(x1*x2)\n",
        "\n",
        "x = (7.0, 2.0)\n",
        "\n",
        "p,t = jax.jvp(f, x, (1.0, 0.0))"
      ],
      "metadata": {
        "id": "0G-3yWHzW4L7"
      },
      "execution_count": 61,
      "outputs": []
    },
    {
      "cell_type": "code",
      "source": [
        "p"
      ],
      "metadata": {
        "colab": {
          "base_uri": "https://localhost:8080/"
        },
        "id": "H2XC1YtUZF7P",
        "outputId": "87aaa3c8-c519-4193-d9e4-fd9a65c404f4"
      },
      "execution_count": 62,
      "outputs": [
        {
          "output_type": "execute_result",
          "data": {
            "text/plain": [
              "DeviceArray(14.990607, dtype=float32, weak_type=True)"
            ]
          },
          "metadata": {},
          "execution_count": 62
        }
      ]
    },
    {
      "cell_type": "code",
      "source": [
        "t"
      ],
      "metadata": {
        "colab": {
          "base_uri": "https://localhost:8080/"
        },
        "id": "Uowcrn6qZIL_",
        "outputId": "499412ec-81f3-4c53-f631-4d3d97d4d3c1"
      },
      "execution_count": 63,
      "outputs": [
        {
          "output_type": "execute_result",
          "data": {
            "text/plain": [
              "DeviceArray(2.2734745, dtype=float32, weak_type=True)"
            ]
          },
          "metadata": {},
          "execution_count": 63
        }
      ]
    },
    {
      "cell_type": "markdown",
      "source": [
        "# VJP"
      ],
      "metadata": {
        "id": "ulC5nrNQVwFr"
      }
    },
    {
      "cell_type": "code",
      "source": [
        "def f(x1,x2):\n",
        "  return x1*x2 + jnp.sin(x1*x2)\n",
        "\n",
        "x = (7.0, 2.0)\n",
        "\n",
        "p,vjp_func = jax.vjp(f, *x)"
      ],
      "metadata": {
        "id": "YxaEy90hvGJ3"
      },
      "execution_count": 71,
      "outputs": []
    },
    {
      "cell_type": "code",
      "source": [
        "p"
      ],
      "metadata": {
        "colab": {
          "base_uri": "https://localhost:8080/"
        },
        "id": "1doEbYw2vQNI",
        "outputId": "d01795aa-0c58-4264-8c15-9119a2ee5dab"
      },
      "execution_count": 72,
      "outputs": [
        {
          "output_type": "execute_result",
          "data": {
            "text/plain": [
              "DeviceArray(14.990607, dtype=float32, weak_type=True)"
            ]
          },
          "metadata": {},
          "execution_count": 72
        }
      ]
    },
    {
      "cell_type": "code",
      "source": [
        "vjp_func(1.0)"
      ],
      "metadata": {
        "colab": {
          "base_uri": "https://localhost:8080/"
        },
        "id": "eNIvJhrcw1vL",
        "outputId": "885db4be-b1ac-4eeb-d4f8-4bcf291f15af"
      },
      "execution_count": 75,
      "outputs": [
        {
          "output_type": "execute_result",
          "data": {
            "text/plain": [
              "(DeviceArray(2.2734745, dtype=float32, weak_type=True),\n",
              " DeviceArray(7.9571605, dtype=float32, weak_type=True))"
            ]
          },
          "metadata": {},
          "execution_count": 75
        }
      ]
    },
    {
      "cell_type": "code",
      "source": [
        "vjp_func(2.0)"
      ],
      "metadata": {
        "colab": {
          "base_uri": "https://localhost:8080/"
        },
        "id": "pG7ivkazyde_",
        "outputId": "87ed1a1e-1de7-468b-f36b-77515c0055d7"
      },
      "execution_count": 76,
      "outputs": [
        {
          "output_type": "execute_result",
          "data": {
            "text/plain": [
              "(DeviceArray(4.546949, dtype=float32, weak_type=True),\n",
              " DeviceArray(15.914321, dtype=float32, weak_type=True))"
            ]
          },
          "metadata": {},
          "execution_count": 76
        }
      ]
    },
    {
      "cell_type": "markdown",
      "source": [
        "More complicated function"
      ],
      "metadata": {
        "id": "tW_rmFUp0Lqr"
      }
    },
    {
      "cell_type": "code",
      "source": [
        "def f2(x):\n",
        "  return [\n",
        "      x[0]**2 + x[1]**2 - x[1]*x[2],\n",
        "      x[0]**2 - x[1]**2 + 3*x[0]*x[2]\n",
        "  ]  \n",
        "\n",
        "x = jnp.array([3.0, 4.0, 5.0])"
      ],
      "metadata": {
        "id": "3GyTfHX9Voik"
      },
      "execution_count": 77,
      "outputs": []
    },
    {
      "cell_type": "code",
      "source": [
        "p,vjp_func = jax.vjp(f2, x)"
      ],
      "metadata": {
        "id": "jtDjTacyYVhZ"
      },
      "execution_count": 78,
      "outputs": []
    },
    {
      "cell_type": "code",
      "source": [
        "p"
      ],
      "metadata": {
        "colab": {
          "base_uri": "https://localhost:8080/"
        },
        "id": "SCF01wQNZDet",
        "outputId": "fa1a01ff-6471-43b2-adbd-b5a12195cef9"
      },
      "execution_count": 79,
      "outputs": [
        {
          "output_type": "execute_result",
          "data": {
            "text/plain": [
              "[DeviceArray(5., dtype=float32), DeviceArray(38., dtype=float32)]"
            ]
          },
          "metadata": {},
          "execution_count": 79
        }
      ]
    },
    {
      "cell_type": "markdown",
      "source": [
        "Restoring rows of the Jacobian"
      ],
      "metadata": {
        "id": "qCbEZi-J2HGy"
      }
    },
    {
      "cell_type": "code",
      "source": [
        "vjp_func([1.0, 0.0])"
      ],
      "metadata": {
        "colab": {
          "base_uri": "https://localhost:8080/"
        },
        "id": "aP1TpR_jZJQw",
        "outputId": "69b77c4f-918b-47b2-edfa-a6f9caaac648"
      },
      "execution_count": 82,
      "outputs": [
        {
          "output_type": "execute_result",
          "data": {
            "text/plain": [
              "(DeviceArray([ 6.,  3., -4.], dtype=float32),)"
            ]
          },
          "metadata": {},
          "execution_count": 82
        }
      ]
    },
    {
      "cell_type": "code",
      "source": [
        "vjp_func([0.0, 1.0])"
      ],
      "metadata": {
        "colab": {
          "base_uri": "https://localhost:8080/"
        },
        "id": "oMiX5_S_ZOBm",
        "outputId": "a76b38b3-bd62-4c22-8ef5-3a16042f08b3"
      },
      "execution_count": 83,
      "outputs": [
        {
          "output_type": "execute_result",
          "data": {
            "text/plain": [
              "(DeviceArray([21., -8.,  9.], dtype=float32),)"
            ]
          },
          "metadata": {},
          "execution_count": 83
        }
      ]
    },
    {
      "cell_type": "code",
      "source": [],
      "metadata": {
        "id": "974Wws9Y0qRl"
      },
      "execution_count": null,
      "outputs": []
    }
  ]
}