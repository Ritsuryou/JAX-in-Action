{
  "cells": [
    {
      "cell_type": "markdown",
      "metadata": {
        "id": "ZE6H-14Adw5d"
      },
      "source": [
        "## DeviceArray properties"
      ]
    },
    {
      "cell_type": "code",
      "execution_count": null,
      "metadata": {
        "id": "Xw26fWWnf8eB"
      },
      "outputs": [],
      "source": [
        "import numpy as np\n",
        "import jax.numpy as jnp"
      ]
    },
    {
      "cell_type": "code",
      "execution_count": null,
      "metadata": {
        "colab": {
          "base_uri": "https://localhost:8080/"
        },
        "id": "tyk_72Oxq4WG",
        "outputId": "0e49be6a-f231-4d02-f769-c907466bb456"
      },
      "outputs": [
        {
          "data": {
            "text/plain": [
              "array([    1,    42, 31337])"
            ]
          },
          "execution_count": 2,
          "metadata": {},
          "output_type": "execute_result"
        }
      ],
      "source": [
        "np.array([1, 42, 31337])"
      ]
    },
    {
      "cell_type": "code",
      "execution_count": null,
      "metadata": {
        "colab": {
          "base_uri": "https://localhost:8080/"
        },
        "id": "pZvJaXWTBm04",
        "outputId": "5e918efd-7eb1-4281-bf7f-7ad34c48990b"
      },
      "outputs": [
        {
          "data": {
            "text/plain": [
              "DeviceArray([    1,    42, 31337], dtype=int32)"
            ]
          },
          "execution_count": 3,
          "metadata": {},
          "output_type": "execute_result"
        }
      ],
      "source": [
        "jnp.array([1, 42, 31337])"
      ]
    },
    {
      "cell_type": "code",
      "execution_count": null,
      "metadata": {
        "colab": {
          "base_uri": "https://localhost:8080/"
        },
        "id": "JF5SSt3DBskh",
        "outputId": "511165d3-5490-4e0e-c5d9-661b6a6ce744"
      },
      "outputs": [
        {
          "data": {
            "text/plain": [
              "31380"
            ]
          },
          "execution_count": 4,
          "metadata": {},
          "output_type": "execute_result"
        }
      ],
      "source": [
        "np.sum([1, 42, 31337])"
      ]
    },
    {
      "cell_type": "code",
      "execution_count": null,
      "metadata": {
        "colab": {
          "base_uri": "https://localhost:8080/"
        },
        "id": "5O9F4CNYBymQ",
        "outputId": "49e72e6e-97db-461d-d8b0-f794f5f0e7c7"
      },
      "outputs": [
        {
          "name": "stdout",
          "output_type": "stream",
          "text": [
            "sum requires ndarray or scalar arguments, got <class 'list'> at position 0.\n"
          ]
        }
      ],
      "source": [
        "try:\n",
        "  jnp.sum([1, 42, 31337])\n",
        "except TypeError as e:\n",
        "  print(e)"
      ]
    },
    {
      "cell_type": "code",
      "execution_count": null,
      "metadata": {
        "colab": {
          "base_uri": "https://localhost:8080/"
        },
        "id": "x76jmBRaHvQp",
        "outputId": "4814dcce-f4c7-4465-a6a3-583446ecede6"
      },
      "outputs": [
        {
          "data": {
            "text/plain": [
              "DeviceArray(31380, dtype=int32)"
            ]
          },
          "execution_count": 14,
          "metadata": {},
          "output_type": "execute_result"
        }
      ],
      "source": [
        "jnp.sum(jnp.array([1, 42, 31337]))"
      ]
    },
    {
      "cell_type": "code",
      "execution_count": null,
      "metadata": {
        "id": "sX1UevU0K5AW"
      },
      "outputs": [],
      "source": [
        "arr = jnp.array([1, 42, 31337])"
      ]
    },
    {
      "cell_type": "code",
      "execution_count": null,
      "metadata": {
        "colab": {
          "base_uri": "https://localhost:8080/"
        },
        "id": "pDSN47PTRZHG",
        "outputId": "bf3b885d-97c4-4cbb-a44f-2fb18b9cf412"
      },
      "outputs": [
        {
          "data": {
            "text/plain": [
              "1"
            ]
          },
          "execution_count": null,
          "metadata": {},
          "output_type": "execute_result"
        }
      ],
      "source": [
        "arr.ndim"
      ]
    },
    {
      "cell_type": "code",
      "execution_count": null,
      "metadata": {
        "colab": {
          "base_uri": "https://localhost:8080/"
        },
        "id": "6pghF6HXLx5O",
        "outputId": "463567df-d8a3-4ebf-b1c9-5e7e2767e822"
      },
      "outputs": [
        {
          "data": {
            "text/plain": [
              "(3,)"
            ]
          },
          "execution_count": null,
          "metadata": {},
          "output_type": "execute_result"
        }
      ],
      "source": [
        "arr.shape"
      ]
    },
    {
      "cell_type": "code",
      "execution_count": null,
      "metadata": {
        "colab": {
          "base_uri": "https://localhost:8080/"
        },
        "id": "AXaNW2zaSzuR",
        "outputId": "ce552375-156a-41a2-bdda-ecb996222497"
      },
      "outputs": [
        {
          "data": {
            "text/plain": [
              "dtype('int32')"
            ]
          },
          "execution_count": 21,
          "metadata": {},
          "output_type": "execute_result"
        }
      ],
      "source": [
        "arr.dtype"
      ]
    },
    {
      "cell_type": "code",
      "execution_count": null,
      "metadata": {
        "colab": {
          "base_uri": "https://localhost:8080/"
        },
        "id": "G2GJkI3uRYYC",
        "outputId": "bbe3c4d2-e420-4bcf-f710-1f86addf9403"
      },
      "outputs": [
        {
          "data": {
            "text/plain": [
              "3"
            ]
          },
          "execution_count": null,
          "metadata": {},
          "output_type": "execute_result"
        }
      ],
      "source": [
        "arr.size"
      ]
    },
    {
      "cell_type": "code",
      "execution_count": null,
      "metadata": {
        "colab": {
          "base_uri": "https://localhost:8080/"
        },
        "id": "rDB_80JCSv_b",
        "outputId": "f24116b7-b6a2-473e-c4f4-a7c1706b124f"
      },
      "outputs": [
        {
          "data": {
            "text/plain": [
              "12"
            ]
          },
          "execution_count": 20,
          "metadata": {},
          "output_type": "execute_result"
        }
      ],
      "source": [
        "arr.nbytes"
      ]
    },
    {
      "cell_type": "markdown",
      "metadata": {
        "id": "BXbIZE5Vd39Z"
      },
      "source": [
        "## Devices"
      ]
    },
    {
      "cell_type": "code",
      "execution_count": null,
      "metadata": {
        "id": "1GAG9wYcaoSL"
      },
      "outputs": [],
      "source": [
        "import jax"
      ]
    },
    {
      "cell_type": "code",
      "execution_count": null,
      "metadata": {
        "colab": {
          "base_uri": "https://localhost:8080/"
        },
        "id": "gInETIcSakx6",
        "outputId": "fc52c1e1-5627-4445-a3b2-dda8c713e3b6"
      },
      "outputs": [
        {
          "data": {
            "text/plain": [
              "[GpuDevice(id=0, process_index=0)]"
            ]
          },
          "execution_count": 4,
          "metadata": {},
          "output_type": "execute_result"
        }
      ],
      "source": [
        "jax.devices()"
      ]
    },
    {
      "cell_type": "code",
      "execution_count": null,
      "metadata": {
        "colab": {
          "base_uri": "https://localhost:8080/"
        },
        "id": "AUOges5na8X9",
        "outputId": "0558433c-cbe5-4863-e5b9-72419bd0eb55"
      },
      "outputs": [
        {
          "data": {
            "text/plain": [
              "[CpuDevice(id=0)]"
            ]
          },
          "execution_count": 8,
          "metadata": {},
          "output_type": "execute_result"
        }
      ],
      "source": [
        "jax.devices('cpu')"
      ]
    },
    {
      "cell_type": "code",
      "execution_count": null,
      "metadata": {
        "colab": {
          "base_uri": "https://localhost:8080/"
        },
        "id": "cXKsGEZObOkH",
        "outputId": "c6c2566f-34ce-4751-b884-29a8d78f947e"
      },
      "outputs": [
        {
          "data": {
            "text/plain": [
              "1"
            ]
          },
          "execution_count": 10,
          "metadata": {},
          "output_type": "execute_result"
        }
      ],
      "source": [
        "jax.device_count('gpu')"
      ]
    },
    {
      "cell_type": "code",
      "execution_count": null,
      "metadata": {
        "colab": {
          "base_uri": "https://localhost:8080/"
        },
        "id": "LIFmPDWdamno",
        "outputId": "ab9584e8-fb9d-4ceb-b1fd-1af121726557"
      },
      "outputs": [
        {
          "data": {
            "text/plain": [
              "[GpuDevice(id=0, process_index=0)]"
            ]
          },
          "execution_count": 5,
          "metadata": {},
          "output_type": "execute_result"
        }
      ],
      "source": [
        "jax.local_devices()"
      ]
    },
    {
      "cell_type": "code",
      "execution_count": null,
      "metadata": {
        "id": "sy08TlUVfgY_"
      },
      "outputs": [],
      "source": [
        "arr = jnp.array([1, 42, 31337])"
      ]
    },
    {
      "cell_type": "code",
      "execution_count": null,
      "metadata": {
        "colab": {
          "base_uri": "https://localhost:8080/"
        },
        "id": "beWtlcssfl1g",
        "outputId": "e1413cfd-e770-474f-fae0-73494904dc1f"
      },
      "outputs": [
        {
          "data": {
            "text/plain": [
              "GpuDevice(id=0, process_index=0)"
            ]
          },
          "execution_count": 24,
          "metadata": {},
          "output_type": "execute_result"
        }
      ],
      "source": [
        "arr.device()"
      ]
    },
    {
      "cell_type": "code",
      "execution_count": null,
      "metadata": {
        "id": "HQrwov7Zig0t"
      },
      "outputs": [],
      "source": [
        "arr_cpu = jax.device_put(arr, jax.devices('cpu')[0])"
      ]
    },
    {
      "cell_type": "code",
      "execution_count": null,
      "metadata": {
        "colab": {
          "base_uri": "https://localhost:8080/"
        },
        "id": "fvhr-gSAivKy",
        "outputId": "fb217a52-ee1e-4b51-ae75-bf452d09689f"
      },
      "outputs": [
        {
          "data": {
            "text/plain": [
              "CpuDevice(id=0)"
            ]
          },
          "execution_count": 27,
          "metadata": {},
          "output_type": "execute_result"
        }
      ],
      "source": [
        "arr_cpu.device()"
      ]
    },
    {
      "cell_type": "code",
      "execution_count": null,
      "metadata": {
        "colab": {
          "base_uri": "https://localhost:8080/"
        },
        "id": "99hqLCwLin-w",
        "outputId": "e49f9147-c9bb-4b3a-856c-04fc1a1fe63b"
      },
      "outputs": [
        {
          "data": {
            "text/plain": [
              "GpuDevice(id=0, process_index=0)"
            ]
          },
          "execution_count": 28,
          "metadata": {},
          "output_type": "execute_result"
        }
      ],
      "source": [
        "arr.device()"
      ]
    },
    {
      "cell_type": "code",
      "execution_count": null,
      "metadata": {
        "id": "9aQL3DFtjJvm"
      },
      "outputs": [],
      "source": [
        "arr_host = jax.device_get(arr)"
      ]
    },
    {
      "cell_type": "code",
      "execution_count": null,
      "metadata": {
        "colab": {
          "base_uri": "https://localhost:8080/"
        },
        "id": "S6ep8EUPjarr",
        "outputId": "0641548c-0fd5-4ea0-e043-c4aa17163189"
      },
      "outputs": [
        {
          "data": {
            "text/plain": [
              "numpy.ndarray"
            ]
          },
          "execution_count": 33,
          "metadata": {},
          "output_type": "execute_result"
        }
      ],
      "source": [
        "type(arr_host)"
      ]
    },
    {
      "cell_type": "code",
      "execution_count": null,
      "metadata": {
        "colab": {
          "base_uri": "https://localhost:8080/"
        },
        "id": "7ela_gWXjRde",
        "outputId": "fe7f1225-fc79-4ef8-b0fd-c486cfb0e64c"
      },
      "outputs": [
        {
          "data": {
            "text/plain": [
              "array([    1,    42, 31337], dtype=int32)"
            ]
          },
          "execution_count": 32,
          "metadata": {},
          "output_type": "execute_result"
        }
      ],
      "source": [
        "arr_host"
      ]
    },
    {
      "cell_type": "code",
      "execution_count": null,
      "metadata": {
        "colab": {
          "base_uri": "https://localhost:8080/"
        },
        "id": "8H25pRzgkNnb",
        "outputId": "3f8fa60c-e23c-4f8b-e969-31b36cbfa30a"
      },
      "outputs": [
        {
          "data": {
            "text/plain": [
              "DeviceArray([    2,    84, 62674], dtype=int32)"
            ]
          },
          "execution_count": 43,
          "metadata": {},
          "output_type": "execute_result"
        }
      ],
      "source": [
        "arr + arr_cpu"
      ]
    },
    {
      "cell_type": "code",
      "execution_count": null,
      "metadata": {
        "id": "zMkcgodHknpu"
      },
      "outputs": [],
      "source": [
        "arr_gpu = jax.device_put(arr, jax.devices('gpu')[0])"
      ]
    },
    {
      "cell_type": "code",
      "execution_count": null,
      "metadata": {
        "colab": {
          "base_uri": "https://localhost:8080/"
        },
        "id": "gbpuMMGHk1tK",
        "outputId": "71c02d19-2071-4851-f64a-2d6b065498f3"
      },
      "outputs": [
        {
          "data": {
            "text/plain": [
              "GpuDevice(id=0, process_index=0)"
            ]
          },
          "execution_count": 40,
          "metadata": {},
          "output_type": "execute_result"
        }
      ],
      "source": [
        "arr_gpu.device()"
      ]
    },
    {
      "cell_type": "code",
      "execution_count": null,
      "metadata": {
        "colab": {
          "base_uri": "https://localhost:8080/"
        },
        "id": "xxTzC7Juk3vV",
        "outputId": "c91873d8-0baa-49f5-edd5-cb149be4e8ce"
      },
      "outputs": [
        {
          "name": "stdout",
          "output_type": "stream",
          "text": [
            "primitive arguments must be colocated on the same device (C++ jax.jit). Arguments are on devices: TFRT_CPU_0 and gpu:0\n"
          ]
        }
      ],
      "source": [
        "try:\n",
        "  arr_gpu + arr_cpu\n",
        "except ValueError as e:\n",
        "  print(e)"
      ]
    },
    {
      "cell_type": "markdown",
      "metadata": {
        "id": "MimQQxJVd8OT"
      },
      "source": [
        "## Asyncronous dispatch"
      ]
    },
    {
      "cell_type": "code",
      "execution_count": null,
      "metadata": {
        "id": "dkMYNMK8d-oZ"
      },
      "outputs": [],
      "source": [
        "import jax"
      ]
    },
    {
      "cell_type": "code",
      "execution_count": null,
      "metadata": {
        "id": "8TTzIPOud_c6"
      },
      "outputs": [],
      "source": [
        "a = jnp.array(range(1000000)).reshape((1000,1000))"
      ]
    },
    {
      "cell_type": "code",
      "execution_count": null,
      "metadata": {
        "colab": {
          "base_uri": "https://localhost:8080/"
        },
        "id": "WL4cK2EgeAOj",
        "outputId": "5bbbf055-6862-471a-f9e3-6d0749bcce39"
      },
      "outputs": [
        {
          "output_type": "execute_result",
          "data": {
            "text/plain": [
              "(1000, 1000)"
            ]
          },
          "metadata": {},
          "execution_count": 19
        }
      ],
      "source": [
        "a.shape"
      ]
    },
    {
      "cell_type": "code",
      "execution_count": null,
      "metadata": {
        "id": "81YXUMwfeUxL",
        "colab": {
          "base_uri": "https://localhost:8080/"
        },
        "outputId": "4a536273-397b-4dbd-90b5-dfd88f1d988e"
      },
      "outputs": [
        {
          "output_type": "execute_result",
          "data": {
            "text/plain": [
              "GpuDevice(id=0, process_index=0)"
            ]
          },
          "metadata": {},
          "execution_count": 20
        }
      ],
      "source": [
        "a.device()"
      ]
    },
    {
      "cell_type": "code",
      "source": [
        "%time x = jnp.dot(a,a)"
      ],
      "metadata": {
        "colab": {
          "base_uri": "https://localhost:8080/"
        },
        "id": "xXmU97i2jB2u",
        "outputId": "a1d3f50d-871b-432f-ce12-4aacaa8e8737"
      },
      "execution_count": null,
      "outputs": [
        {
          "output_type": "stream",
          "name": "stdout",
          "text": [
            "CPU times: user 757 µs, sys: 0 ns, total: 757 µs\n",
            "Wall time: 770 µs\n"
          ]
        }
      ]
    },
    {
      "cell_type": "code",
      "source": [
        "%time x = jnp.dot(a,a).block_until_ready()"
      ],
      "metadata": {
        "colab": {
          "base_uri": "https://localhost:8080/"
        },
        "id": "Q_LOBrs7jc1G",
        "outputId": "0f1b8ab5-2550-45c2-ff0e-69a04dbaff95"
      },
      "execution_count": null,
      "outputs": [
        {
          "output_type": "stream",
          "name": "stdout",
          "text": [
            "CPU times: user 1.34 ms, sys: 65 µs, total: 1.41 ms\n",
            "Wall time: 4.33 ms\n"
          ]
        }
      ]
    },
    {
      "cell_type": "code",
      "source": [
        "%time x = np.asarray(jnp.dot(a,a))"
      ],
      "metadata": {
        "id": "9wtnSBNGADQC"
      },
      "execution_count": null,
      "outputs": []
    },
    {
      "cell_type": "code",
      "source": [
        "a_cpu = jax.device_put(a, jax.devices('cpu')[0])"
      ],
      "metadata": {
        "id": "vHAlLz9Ck_1O"
      },
      "execution_count": null,
      "outputs": []
    },
    {
      "cell_type": "code",
      "source": [
        "a_cpu.device()"
      ],
      "metadata": {
        "colab": {
          "base_uri": "https://localhost:8080/"
        },
        "id": "blmetLnalEOq",
        "outputId": "26cccfb5-9223-4793-f823-98ba8e07f382"
      },
      "execution_count": null,
      "outputs": [
        {
          "output_type": "execute_result",
          "data": {
            "text/plain": [
              "CpuDevice(id=0)"
            ]
          },
          "metadata": {},
          "execution_count": 37
        }
      ]
    },
    {
      "cell_type": "code",
      "source": [
        "%time x = jnp.dot(a_cpu,a_cpu).block_until_ready()"
      ],
      "metadata": {
        "colab": {
          "base_uri": "https://localhost:8080/"
        },
        "id": "XSqQAxFRlQ4h",
        "outputId": "d08398f0-32c5-4b5b-9cce-02bf554e2c00"
      },
      "execution_count": null,
      "outputs": [
        {
          "output_type": "stream",
          "name": "stdout",
          "text": [
            "CPU times: user 272 ms, sys: 0 ns, total: 272 ms\n",
            "Wall time: 150 ms\n"
          ]
        }
      ]
    },
    {
      "cell_type": "markdown",
      "source": [
        "## Using TPU"
      ],
      "metadata": {
        "id": "2-xHOdq0Byrd"
      }
    },
    {
      "cell_type": "code",
      "source": [
        "# in order to use TPU you have to run this cell before importing JAX\n",
        "import jax.tools.colab_tpu\n",
        "jax.tools.colab_tpu.setup_tpu()"
      ],
      "metadata": {
        "id": "SwhOujcUCpZr"
      },
      "execution_count": null,
      "outputs": []
    },
    {
      "cell_type": "code",
      "source": [
        "from jax.lib import xla_bridge\n",
        "print(xla_bridge.get_backend().platform)"
      ],
      "metadata": {
        "colab": {
          "base_uri": "https://localhost:8080/"
        },
        "id": "9JQtp7xPB0TS",
        "outputId": "ae29be9f-f3e9-437f-f96b-a760544f3928"
      },
      "execution_count": null,
      "outputs": [
        {
          "output_type": "stream",
          "name": "stdout",
          "text": [
            "tpu\n"
          ]
        }
      ]
    },
    {
      "cell_type": "code",
      "source": [
        "import jax"
      ],
      "metadata": {
        "id": "xLV89tSnB7sR"
      },
      "execution_count": null,
      "outputs": []
    },
    {
      "cell_type": "code",
      "source": [
        "jax.local_devices()"
      ],
      "metadata": {
        "colab": {
          "base_uri": "https://localhost:8080/"
        },
        "id": "Yqyp3TG5C05T",
        "outputId": "56aac769-2b32-4a0c-d3f0-b442eeee86e5"
      },
      "execution_count": null,
      "outputs": [
        {
          "output_type": "execute_result",
          "data": {
            "text/plain": [
              "[TpuDevice(id=0, process_index=0, coords=(0,0,0), core_on_chip=0),\n",
              " TpuDevice(id=1, process_index=0, coords=(0,0,0), core_on_chip=1),\n",
              " TpuDevice(id=2, process_index=0, coords=(1,0,0), core_on_chip=0),\n",
              " TpuDevice(id=3, process_index=0, coords=(1,0,0), core_on_chip=1),\n",
              " TpuDevice(id=4, process_index=0, coords=(0,1,0), core_on_chip=0),\n",
              " TpuDevice(id=5, process_index=0, coords=(0,1,0), core_on_chip=1),\n",
              " TpuDevice(id=6, process_index=0, coords=(1,1,0), core_on_chip=0),\n",
              " TpuDevice(id=7, process_index=0, coords=(1,1,0), core_on_chip=1)]"
            ]
          },
          "metadata": {},
          "execution_count": 5
        }
      ]
    },
    {
      "cell_type": "code",
      "source": [
        "import jax.numpy as jnp"
      ],
      "metadata": {
        "id": "79WBr-ciERbr"
      },
      "execution_count": null,
      "outputs": []
    },
    {
      "cell_type": "code",
      "source": [
        "a = jnp.array(range(1000000)).reshape((1000,1000))"
      ],
      "metadata": {
        "id": "vlWMb-qsEQHA"
      },
      "execution_count": null,
      "outputs": []
    },
    {
      "cell_type": "code",
      "source": [
        "a.device()"
      ],
      "metadata": {
        "colab": {
          "base_uri": "https://localhost:8080/"
        },
        "id": "4lqR7nJcEUFL",
        "outputId": "75525dff-a4fe-44cd-90d0-701b2605e2f3"
      },
      "execution_count": null,
      "outputs": [
        {
          "output_type": "execute_result",
          "data": {
            "text/plain": [
              "TpuDevice(id=0, process_index=0, coords=(0,0,0), core_on_chip=0)"
            ]
          },
          "metadata": {},
          "execution_count": 7
        }
      ]
    },
    {
      "cell_type": "code",
      "source": [
        "%time x = jnp.dot(a,a)"
      ],
      "metadata": {
        "colab": {
          "base_uri": "https://localhost:8080/"
        },
        "id": "jM4Iqg2dEWQI",
        "outputId": "733d86a5-88af-4104-fc72-509756516532"
      },
      "execution_count": null,
      "outputs": [
        {
          "output_type": "stream",
          "name": "stdout",
          "text": [
            "CPU times: user 107 ms, sys: 256 ms, total: 363 ms\n",
            "Wall time: 726 ms\n"
          ]
        }
      ]
    },
    {
      "cell_type": "code",
      "source": [
        "%time x = jnp.dot(a,a).block_until_ready()"
      ],
      "metadata": {
        "colab": {
          "base_uri": "https://localhost:8080/"
        },
        "id": "DLPJppEDEY4m",
        "outputId": "edc4139d-1bd6-4c87-cae4-1e1a4b5784d0"
      },
      "execution_count": null,
      "outputs": [
        {
          "output_type": "stream",
          "name": "stdout",
          "text": [
            "CPU times: user 1.32 ms, sys: 2.63 ms, total: 3.94 ms\n",
            "Wall time: 4.19 ms\n"
          ]
        }
      ]
    },
    {
      "cell_type": "code",
      "source": [
        "import os\n",
        "from tensorflow.python.profiler import profiler_client\n",
        "\n",
        "tpu_profile_service_address = os.environ['COLAB_TPU_ADDR'].replace('8470', '8466')\n",
        "print(profiler_client.monitor(tpu_profile_service_address, 100, 2))"
      ],
      "metadata": {
        "colab": {
          "base_uri": "https://localhost:8080/"
        },
        "id": "3uHEEvoRHhIL",
        "outputId": "55627389-ee68-45a6-b243-6cc1afa694d2"
      },
      "execution_count": null,
      "outputs": [
        {
          "output_type": "stream",
          "name": "stdout",
          "text": [
            "  Timestamp: 08:53:30\n",
            "  TPU type: TPU v2\n",
            "  Utilization of TPU Matrix Units (higher is better): 0.000%\n",
            "\n",
            "\n"
          ]
        }
      ]
    },
    {
      "cell_type": "markdown",
      "metadata": {
        "id": "mhY8ShWHeBIc"
      },
      "source": [
        "## GPU diagnostics"
      ]
    },
    {
      "cell_type": "code",
      "execution_count": null,
      "metadata": {
        "colab": {
          "base_uri": "https://localhost:8080/"
        },
        "id": "VnA4LuxbTyKb",
        "outputId": "9475c5d3-752e-45f6-a6ec-5930b850f6bf"
      },
      "outputs": [
        {
          "output_type": "stream",
          "name": "stdout",
          "text": [
            "nvcc: NVIDIA (R) Cuda compiler driver\n",
            "Copyright (c) 2005-2020 NVIDIA Corporation\n",
            "Built on Mon_Oct_12_20:09:46_PDT_2020\n",
            "Cuda compilation tools, release 11.1, V11.1.105\n",
            "Build cuda_11.1.TC455_06.29190527_0\n"
          ]
        }
      ],
      "source": [
        "!nvcc --version"
      ]
    },
    {
      "cell_type": "code",
      "execution_count": null,
      "metadata": {
        "id": "DtPcc6kJUE50"
      },
      "outputs": [],
      "source": [
        "#!pip install --upgrade \"jax[cuda]\" -f https://storage.googleapis.com/jax-releases/jax_releases.html"
      ]
    },
    {
      "cell_type": "code",
      "execution_count": null,
      "metadata": {
        "colab": {
          "base_uri": "https://localhost:8080/"
        },
        "id": "sI5-pu0SUN_n",
        "outputId": "c42484bb-f5e9-443e-f112-6e2eb6809016"
      },
      "outputs": [
        {
          "output_type": "stream",
          "name": "stdout",
          "text": [
            "Select the Runtime > \"Change runtime type\" menu to enable a GPU accelerator, \n",
            "and then re-execute this cell.\n"
          ]
        }
      ],
      "source": [
        "gpu_info = !nvidia-smi\n",
        "gpu_info = '\\n'.join(gpu_info)\n",
        "if gpu_info.find('failed') >= 0:\n",
        "  print('Select the Runtime > \"Change runtime type\" menu to enable a GPU accelerator, ')\n",
        "  print('and then re-execute this cell.')\n",
        "else:\n",
        "  print(gpu_info)"
      ]
    },
    {
      "cell_type": "markdown",
      "source": [
        "## Immutability"
      ],
      "metadata": {
        "id": "OzNEJzADTvlC"
      }
    },
    {
      "cell_type": "code",
      "source": [
        "import numpy as np\n",
        "import jax.numpy as jnp"
      ],
      "metadata": {
        "id": "oKO_DNwDUPSf"
      },
      "execution_count": null,
      "outputs": []
    },
    {
      "cell_type": "code",
      "source": [
        "a_jnp = jnp.array(range(10))\n",
        "a_np  = np.array(range(10))"
      ],
      "metadata": {
        "id": "pHs4TJm1Ty7A"
      },
      "execution_count": null,
      "outputs": []
    },
    {
      "cell_type": "code",
      "source": [
        "a_jnp"
      ],
      "metadata": {
        "colab": {
          "base_uri": "https://localhost:8080/"
        },
        "id": "-Eplq9iRKHDM",
        "outputId": "9e3b0d25-22d4-46b2-ceb3-1d46d5e358f8"
      },
      "execution_count": null,
      "outputs": [
        {
          "output_type": "execute_result",
          "data": {
            "text/plain": [
              "DeviceArray([0, 1, 2, 3, 4, 5, 6, 7, 8, 9], dtype=int32)"
            ]
          },
          "metadata": {},
          "execution_count": 8
        }
      ]
    },
    {
      "cell_type": "code",
      "source": [
        "a_np[5], a_jnp[5]"
      ],
      "metadata": {
        "colab": {
          "base_uri": "https://localhost:8080/"
        },
        "id": "GjtKMYxnOqKO",
        "outputId": "de03b0fe-88b2-46d7-b230-717e7802ce86"
      },
      "execution_count": null,
      "outputs": [
        {
          "output_type": "execute_result",
          "data": {
            "text/plain": [
              "(5, DeviceArray(5, dtype=int32))"
            ]
          },
          "metadata": {},
          "execution_count": 30
        }
      ]
    },
    {
      "cell_type": "code",
      "source": [
        "a_np[5] = 100"
      ],
      "metadata": {
        "id": "9sZC4YCoUUnm"
      },
      "execution_count": null,
      "outputs": []
    },
    {
      "cell_type": "code",
      "source": [
        "a_np[5]"
      ],
      "metadata": {
        "colab": {
          "base_uri": "https://localhost:8080/"
        },
        "id": "HaRvmN0SUWnR",
        "outputId": "f7ebde06-f3f8-4257-b3cf-398dc762cdad"
      },
      "execution_count": null,
      "outputs": [
        {
          "output_type": "execute_result",
          "data": {
            "text/plain": [
              "100"
            ]
          },
          "metadata": {},
          "execution_count": 34
        }
      ]
    },
    {
      "cell_type": "code",
      "source": [
        "try:\n",
        "  a_jnp[5] = 100\n",
        "except TypeError as e:\n",
        "  print(e)"
      ],
      "metadata": {
        "colab": {
          "base_uri": "https://localhost:8080/"
        },
        "id": "zO8nRaogT3-N",
        "outputId": "e8052833-6442-4a73-8be7-a06c84d11fab"
      },
      "execution_count": null,
      "outputs": [
        {
          "output_type": "stream",
          "name": "stdout",
          "text": [
            "'<class 'jax._src.device_array._DeviceArray'>' object does not support item assignment. JAX arrays are immutable. Instead of ``x[idx] = y``, use ``x = x.at[idx].set(y)`` or another .at[] method: https://jax.readthedocs.io/en/latest/_autosummary/jax.numpy.ndarray.at.html\n"
          ]
        }
      ]
    },
    {
      "cell_type": "code",
      "source": [
        "a_jnp = a_jnp.at[5].set(100)"
      ],
      "metadata": {
        "id": "rxAB1h8jT7tb"
      },
      "execution_count": null,
      "outputs": []
    },
    {
      "cell_type": "code",
      "source": [
        "a_jnp[5]"
      ],
      "metadata": {
        "colab": {
          "base_uri": "https://localhost:8080/"
        },
        "id": "BhSZ0WrfZhsR",
        "outputId": "48dac37f-55e2-4a71-c22f-17eb1056b153"
      },
      "execution_count": null,
      "outputs": [
        {
          "output_type": "execute_result",
          "data": {
            "text/plain": [
              "DeviceArray(100, dtype=int32)"
            ]
          },
          "metadata": {},
          "execution_count": 38
        }
      ]
    },
    {
      "cell_type": "code",
      "source": [
        ""
      ],
      "metadata": {
        "id": "UllKFlP9KL69"
      },
      "execution_count": null,
      "outputs": []
    },
    {
      "cell_type": "code",
      "source": [
        "a_jnp[42]"
      ],
      "metadata": {
        "colab": {
          "base_uri": "https://localhost:8080/"
        },
        "id": "4W91vzNOZmSd",
        "outputId": "53fc3140-b538-4b11-f074-cab0ff0da25a"
      },
      "execution_count": null,
      "outputs": [
        {
          "output_type": "execute_result",
          "data": {
            "text/plain": [
              "DeviceArray(9, dtype=int32)"
            ]
          },
          "metadata": {},
          "execution_count": 9
        }
      ]
    },
    {
      "cell_type": "code",
      "source": [
        "a_jnp.at[42].get()"
      ],
      "metadata": {
        "colab": {
          "base_uri": "https://localhost:8080/"
        },
        "id": "KmbSWZrNirZd",
        "outputId": "26511806-9a82-4346-e6b5-659c5a89e7d5"
      },
      "execution_count": null,
      "outputs": [
        {
          "output_type": "execute_result",
          "data": {
            "text/plain": [
              "DeviceArray(9, dtype=int32)"
            ]
          },
          "metadata": {},
          "execution_count": 10
        }
      ]
    },
    {
      "cell_type": "code",
      "source": [
        "a_jnp.at[42].get(mode='clip')"
      ],
      "metadata": {
        "colab": {
          "base_uri": "https://localhost:8080/"
        },
        "id": "PFs6_qehi0Hk",
        "outputId": "106650ad-2d0d-4d34-eed1-487de1990ec1"
      },
      "execution_count": null,
      "outputs": [
        {
          "output_type": "execute_result",
          "data": {
            "text/plain": [
              "DeviceArray(9, dtype=int32)"
            ]
          },
          "metadata": {},
          "execution_count": 11
        }
      ]
    },
    {
      "cell_type": "code",
      "source": [
        "a_jnp.at[42].get(mode='drop')"
      ],
      "metadata": {
        "colab": {
          "base_uri": "https://localhost:8080/"
        },
        "id": "1F1dy5q7jLW3",
        "outputId": "02ff9a57-afb7-4601-ab80-af0172f79e94"
      },
      "execution_count": null,
      "outputs": [
        {
          "output_type": "execute_result",
          "data": {
            "text/plain": [
              "DeviceArray(-2147483648, dtype=int32)"
            ]
          },
          "metadata": {},
          "execution_count": 12
        }
      ]
    },
    {
      "cell_type": "code",
      "source": [
        "a_jnp.at[42].get(mode='fill', fill_value=-1)"
      ],
      "metadata": {
        "colab": {
          "base_uri": "https://localhost:8080/"
        },
        "id": "waFQQytXjcMl",
        "outputId": "8e4ed9f8-bc11-4877-cf03-3fdbccd9b7cf"
      },
      "execution_count": null,
      "outputs": [
        {
          "output_type": "execute_result",
          "data": {
            "text/plain": [
              "DeviceArray(-1, dtype=int32)"
            ]
          },
          "metadata": {},
          "execution_count": 13
        }
      ]
    },
    {
      "cell_type": "code",
      "source": [
        "a_jnp = a_jnp.at[42].set(100)\n",
        "a_jnp"
      ],
      "metadata": {
        "id": "6Q-IQhYAjdga",
        "colab": {
          "base_uri": "https://localhost:8080/"
        },
        "outputId": "cd8d4fb1-5cd4-4f4d-fa8e-40030f5078cc"
      },
      "execution_count": null,
      "outputs": [
        {
          "output_type": "execute_result",
          "data": {
            "text/plain": [
              "DeviceArray([0, 1, 2, 3, 4, 5, 6, 7, 8, 9], dtype=int32)"
            ]
          },
          "metadata": {},
          "execution_count": 18
        }
      ]
    },
    {
      "cell_type": "code",
      "source": [
        "a_jnp = a_jnp.at[42].set(100, mode='clip')\n",
        "a_jnp"
      ],
      "metadata": {
        "colab": {
          "base_uri": "https://localhost:8080/"
        },
        "id": "6pDDyLIxKkA2",
        "outputId": "cd89922b-d296-4a99-94ce-d5c242dd480c"
      },
      "execution_count": null,
      "outputs": [
        {
          "output_type": "execute_result",
          "data": {
            "text/plain": [
              "DeviceArray([  0,   1,   2,   3,   4,   5,   6,   7,   8, 100], dtype=int32)"
            ]
          },
          "metadata": {},
          "execution_count": 19
        }
      ]
    },
    {
      "cell_type": "markdown",
      "source": [
        "## Working with float64"
      ],
      "metadata": {
        "id": "ZQoM_CmGOvk5"
      }
    },
    {
      "cell_type": "code",
      "source": [
        "# this only works on startup!\n",
        "from jax.config import config\n",
        "config.update(\"jax_enable_x64\", True)"
      ],
      "metadata": {
        "id": "Mvz9-cWsOxPC"
      },
      "execution_count": null,
      "outputs": []
    },
    {
      "cell_type": "code",
      "source": [
        "import jax\n",
        "import jax.numpy as jnp"
      ],
      "metadata": {
        "id": "MtSHfhWyQYFZ"
      },
      "execution_count": null,
      "outputs": []
    },
    {
      "cell_type": "code",
      "source": [
        "# this will not work on TPU backend. Try using CPU or GPU.\n",
        "x = jnp.array(range(10), dtype=jnp.float64)\n",
        "x.dtype"
      ],
      "metadata": {
        "colab": {
          "base_uri": "https://localhost:8080/"
        },
        "id": "BsGsX08bKyFF",
        "outputId": "d252cfde-955f-4cf6-de9a-f5877ba92e38"
      },
      "execution_count": null,
      "outputs": [
        {
          "output_type": "execute_result",
          "data": {
            "text/plain": [
              "dtype('float64')"
            ]
          },
          "metadata": {},
          "execution_count": 4
        }
      ]
    },
    {
      "cell_type": "code",
      "source": [
        "x.device()"
      ],
      "metadata": {
        "colab": {
          "base_uri": "https://localhost:8080/"
        },
        "id": "_Jpy24rpO8xb",
        "outputId": "1ec80f4e-50a4-4ed4-92e7-3f044c123028"
      },
      "execution_count": null,
      "outputs": [
        {
          "output_type": "execute_result",
          "data": {
            "text/plain": [
              "GpuDevice(id=0, process_index=0)"
            ]
          },
          "metadata": {},
          "execution_count": 5
        }
      ]
    },
    {
      "cell_type": "code",
      "source": [
        "xc = jax.device_put(x, jax.devices('cpu')[0])"
      ],
      "metadata": {
        "id": "5c5u5JTGQ7wP"
      },
      "execution_count": null,
      "outputs": []
    },
    {
      "cell_type": "code",
      "source": [
        "xc.device()"
      ],
      "metadata": {
        "colab": {
          "base_uri": "https://localhost:8080/"
        },
        "id": "3vK1jjnlRCHF",
        "outputId": "cc5137b3-8c85-4356-e484-c946d86505dc"
      },
      "execution_count": null,
      "outputs": [
        {
          "output_type": "execute_result",
          "data": {
            "text/plain": [
              "CpuDevice(id=0)"
            ]
          },
          "metadata": {},
          "execution_count": 10
        }
      ]
    },
    {
      "cell_type": "code",
      "source": [
        "xc.dtype"
      ],
      "metadata": {
        "colab": {
          "base_uri": "https://localhost:8080/"
        },
        "id": "9bw68etaRHZD",
        "outputId": "23dd4b72-d8cc-4171-f70d-b7d8d4018cb3"
      },
      "execution_count": null,
      "outputs": [
        {
          "output_type": "execute_result",
          "data": {
            "text/plain": [
              "dtype('float64')"
            ]
          },
          "metadata": {},
          "execution_count": 11
        }
      ]
    },
    {
      "cell_type": "code",
      "source": [
        "xb16 = jnp.array(range(10), dtype=jnp.bfloat16)\n",
        "xb16.dtype"
      ],
      "metadata": {
        "colab": {
          "base_uri": "https://localhost:8080/"
        },
        "id": "DOFosWoRRJY0",
        "outputId": "b168a45e-25f2-479e-9112-3914ea976af3"
      },
      "execution_count": null,
      "outputs": [
        {
          "output_type": "execute_result",
          "data": {
            "text/plain": [
              "dtype(bfloat16)"
            ]
          },
          "metadata": {},
          "execution_count": 16
        }
      ]
    },
    {
      "cell_type": "code",
      "source": [
        "xb16.nbytes"
      ],
      "metadata": {
        "colab": {
          "base_uri": "https://localhost:8080/"
        },
        "id": "jcY_9IgXSzty",
        "outputId": "255da130-b0b7-4463-db32-6af07c801fa2"
      },
      "execution_count": null,
      "outputs": [
        {
          "output_type": "execute_result",
          "data": {
            "text/plain": [
              "20"
            ]
          },
          "metadata": {},
          "execution_count": 17
        }
      ]
    },
    {
      "cell_type": "code",
      "source": [
        "x16 = jnp.array(range(10), dtype=jnp.float16)\n",
        "x16.dtype"
      ],
      "metadata": {
        "colab": {
          "base_uri": "https://localhost:8080/"
        },
        "id": "EDxZWsldS4qU",
        "outputId": "387dd31d-20d3-4033-b383-3c6ec3ccf9bf"
      },
      "execution_count": null,
      "outputs": [
        {
          "output_type": "execute_result",
          "data": {
            "text/plain": [
              "dtype('float16')"
            ]
          },
          "metadata": {},
          "execution_count": 18
        }
      ]
    },
    {
      "cell_type": "code",
      "source": [
        "x16.nbytes"
      ],
      "metadata": {
        "colab": {
          "base_uri": "https://localhost:8080/"
        },
        "id": "_Z4NcluiUouv",
        "outputId": "1d5c9629-f789-4afe-f82a-750ca2ff3055"
      },
      "execution_count": null,
      "outputs": [
        {
          "output_type": "execute_result",
          "data": {
            "text/plain": [
              "20"
            ]
          },
          "metadata": {},
          "execution_count": 19
        }
      ]
    },
    {
      "cell_type": "code",
      "source": [
        "xb16+x16"
      ],
      "metadata": {
        "colab": {
          "base_uri": "https://localhost:8080/"
        },
        "id": "jC6ynjHBUp4q",
        "outputId": "239f5d50-3a9d-414a-e058-0ce373270d1d"
      },
      "execution_count": null,
      "outputs": [
        {
          "output_type": "execute_result",
          "data": {
            "text/plain": [
              "DeviceArray([ 0.,  2.,  4.,  6.,  8., 10., 12., 14., 16., 18.], dtype=float32)"
            ]
          },
          "metadata": {},
          "execution_count": 20
        }
      ]
    },
    {
      "cell_type": "code",
      "source": [
        "xb16+xb16"
      ],
      "metadata": {
        "colab": {
          "base_uri": "https://localhost:8080/"
        },
        "id": "d6KaXrhYVget",
        "outputId": "462667bf-cb93-4c13-e513-0f83a419e0ff"
      },
      "execution_count": null,
      "outputs": [
        {
          "output_type": "execute_result",
          "data": {
            "text/plain": [
              "DeviceArray([0, 2, 4, 6, 8, 10, 12, 14, 16, 18], dtype=bfloat16)"
            ]
          },
          "metadata": {},
          "execution_count": 21
        }
      ]
    },
    {
      "cell_type": "markdown",
      "source": [
        "## jax.numpy & jax.lax"
      ],
      "metadata": {
        "id": "XzqPR8GS-YzE"
      }
    },
    {
      "cell_type": "code",
      "source": [
        "import jax.numpy as jnp\n",
        "from jax import lax\n",
        "from jax import random"
      ],
      "metadata": {
        "id": "kNemPL6xVjSK"
      },
      "execution_count": null,
      "outputs": []
    },
    {
      "cell_type": "code",
      "source": [
        "jnp.add(42, 42.0)"
      ],
      "metadata": {
        "colab": {
          "base_uri": "https://localhost:8080/"
        },
        "id": "RE4Smt9e-ixs",
        "outputId": "62837cb0-4209-4123-b584-fedc5e5d4adb"
      },
      "execution_count": null,
      "outputs": [
        {
          "output_type": "execute_result",
          "data": {
            "text/plain": [
              "DeviceArray(84., dtype=float32, weak_type=True)"
            ]
          },
          "metadata": {},
          "execution_count": 2
        }
      ]
    },
    {
      "cell_type": "code",
      "source": [
        "jnp.add(42.0, 42.0)"
      ],
      "metadata": {
        "colab": {
          "base_uri": "https://localhost:8080/"
        },
        "id": "z8GOhmXB-mTr",
        "outputId": "d7a1661c-4000-44b7-b41f-5bb0dc3694b6"
      },
      "execution_count": null,
      "outputs": [
        {
          "output_type": "execute_result",
          "data": {
            "text/plain": [
              "DeviceArray(84., dtype=float32, weak_type=True)"
            ]
          },
          "metadata": {},
          "execution_count": 3
        }
      ]
    },
    {
      "cell_type": "code",
      "source": [
        "try:\n",
        "   lax.add(42, 42.0)\n",
        "except TypeError as e:\n",
        "  print(e)"
      ],
      "metadata": {
        "colab": {
          "base_uri": "https://localhost:8080/"
        },
        "id": "G1JzxdU_-rDS",
        "outputId": "9ca95abd-4105-42ae-c015-95980f6912a7"
      },
      "execution_count": null,
      "outputs": [
        {
          "output_type": "stream",
          "name": "stdout",
          "text": [
            "lax.add requires arguments to have the same dtypes, got int32, float32. (Tip: jnp.add is a similar function that does automatic type promotion on inputs).\n"
          ]
        }
      ]
    },
    {
      "cell_type": "code",
      "source": [
        "lax.add(jnp.float32(42), 42.0)"
      ],
      "metadata": {
        "colab": {
          "base_uri": "https://localhost:8080/"
        },
        "id": "MTBx3GE6-uNs",
        "outputId": "c65e33d8-3a97-4060-d115-544bf88e62ed"
      },
      "execution_count": null,
      "outputs": [
        {
          "output_type": "execute_result",
          "data": {
            "text/plain": [
              "DeviceArray(84., dtype=float32)"
            ]
          },
          "metadata": {},
          "execution_count": 6
        }
      ]
    },
    {
      "cell_type": "code",
      "source": [
        "def random_augmentation(image, augmentations, rng_key):\n",
        "   '''A function that applies a random transformation to an image'''\n",
        "   augmentation_index = random.randint(key=rng_key, minval=0, maxval=len(augmentations), shape=())\n",
        "   augmented_image = lax.switch(augmentation_index, augmentations, image)\n",
        "   return augmented_image"
      ],
      "metadata": {
        "id": "7fyJ9edV-8qO"
      },
      "execution_count": null,
      "outputs": []
    },
    {
      "cell_type": "code",
      "source": [
        "add_noise_func = lambda x: x+10\n",
        "horizontal_flip_func = lambda x: x+1\n",
        "rotate_func = lambda x: x+2\n",
        "adjust_colors_func = lambda x: x+3\n",
        "\n",
        "augmentations = [\n",
        "   add_noise_func,\n",
        "   horizontal_flip_func,\n",
        "   rotate_func,\n",
        "   adjust_colors_func\n",
        "]\n"
      ],
      "metadata": {
        "id": "3WJ66AgB_D_o"
      },
      "execution_count": null,
      "outputs": []
    },
    {
      "cell_type": "code",
      "source": [
        "image = jnp.array(range(100))"
      ],
      "metadata": {
        "id": "aH-ZJ-DV_Vlu"
      },
      "execution_count": null,
      "outputs": []
    },
    {
      "cell_type": "code",
      "source": [
        "random_augmentation(image, augmentations, random.PRNGKey(211))"
      ],
      "metadata": {
        "colab": {
          "base_uri": "https://localhost:8080/"
        },
        "id": "oRDNt3q1_RJ4",
        "outputId": "1120d210-dcc8-4c54-9683-4936c5f62ac6"
      },
      "execution_count": null,
      "outputs": [
        {
          "output_type": "execute_result",
          "data": {
            "text/plain": [
              "DeviceArray([  1,   2,   3,   4,   5,   6,   7,   8,   9,  10,  11,  12,\n",
              "              13,  14,  15,  16,  17,  18,  19,  20,  21,  22,  23,  24,\n",
              "              25,  26,  27,  28,  29,  30,  31,  32,  33,  34,  35,  36,\n",
              "              37,  38,  39,  40,  41,  42,  43,  44,  45,  46,  47,  48,\n",
              "              49,  50,  51,  52,  53,  54,  55,  56,  57,  58,  59,  60,\n",
              "              61,  62,  63,  64,  65,  66,  67,  68,  69,  70,  71,  72,\n",
              "              73,  74,  75,  76,  77,  78,  79,  80,  81,  82,  83,  84,\n",
              "              85,  86,  87,  88,  89,  90,  91,  92,  93,  94,  95,  96,\n",
              "              97,  98,  99, 100], dtype=int32)"
            ]
          },
          "metadata": {},
          "execution_count": 33
        }
      ]
    },
    {
      "cell_type": "code",
      "source": [
        ""
      ],
      "metadata": {
        "id": "mRahQ4xb_8ma"
      },
      "execution_count": null,
      "outputs": []
    }
  ],
  "metadata": {
    "accelerator": "GPU",
    "colab": {
      "collapsed_sections": [],
      "name": "JAX in Action Chapter 3 - DeviceArray",
      "provenance": []
    },
    "kernelspec": {
      "display_name": "Python 3",
      "name": "python3"
    },
    "language_info": {
      "name": "python"
    }
  },
  "nbformat": 4,
  "nbformat_minor": 0
}