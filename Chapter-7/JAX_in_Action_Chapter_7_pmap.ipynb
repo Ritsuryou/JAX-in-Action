{
  "cells": [
    {
      "cell_type": "markdown",
      "source": [
        "## ⚖️ Choose A or B:"
      ],
      "metadata": {
        "id": "JCirjpcFSPan"
      }
    },
    {
      "cell_type": "markdown",
      "source": [
        "## A: Emulating multi-device system on CPU\n",
        "\n",
        "Use this section to initialize a set of virtual devices on CPU if you have no access to a multi-device system.\n",
        "\n",
        "It can also help you prototype, debug and test your multi-device code locally before running it on the expensive system.\n",
        "\n",
        "Even in the case of using Google Colab it can help you prototype faster because a CPU runtime is faster to restart."
      ],
      "metadata": {
        "id": "N5lNqNEGtLyO"
      }
    },
    {
      "cell_type": "code",
      "source": [
        "import os\n",
        "os.environ['XLA_FLAGS'] = '--xla_force_host_platform_device_count=8'"
      ],
      "metadata": {
        "id": "ypaH8OgftR_H"
      },
      "execution_count": null,
      "outputs": []
    },
    {
      "cell_type": "code",
      "source": [
        "import jax\n",
        "import jax.numpy as jnp"
      ],
      "metadata": {
        "id": "n8ip1VKgterO"
      },
      "execution_count": null,
      "outputs": []
    },
    {
      "cell_type": "code",
      "source": [
        "jax.devices()"
      ],
      "metadata": {
        "colab": {
          "base_uri": "https://localhost:8080/"
        },
        "id": "Tlh75iWutfVT",
        "outputId": "30f1f859-db3b-497b-e1ec-67418f7fe4f1"
      },
      "execution_count": null,
      "outputs": [
        {
          "output_type": "stream",
          "name": "stderr",
          "text": [
            "WARNING:jax._src.lib.xla_bridge:No GPU/TPU found, falling back to CPU. (Set TF_CPP_MIN_LOG_LEVEL=0 and rerun for more info.)\n"
          ]
        },
        {
          "output_type": "execute_result",
          "data": {
            "text/plain": [
              "[CpuDevice(id=0),\n",
              " CpuDevice(id=1),\n",
              " CpuDevice(id=2),\n",
              " CpuDevice(id=3),\n",
              " CpuDevice(id=4),\n",
              " CpuDevice(id=5),\n",
              " CpuDevice(id=6),\n",
              " CpuDevice(id=7)]"
            ]
          },
          "metadata": {},
          "execution_count": 4
        }
      ]
    },
    {
      "cell_type": "markdown",
      "source": [
        "## B: Setting up TPU"
      ],
      "metadata": {
        "id": "Rmk_qf6mKCZx"
      }
    },
    {
      "cell_type": "markdown",
      "source": [
        "Use this section if you want to use Google Cloud TPU (and don't forget to change the Runtime type in \"Runtime\"-> \"Change runtime type\" -> \"TPU\"."
      ],
      "metadata": {
        "id": "RMq70OC9wVHQ"
      }
    },
    {
      "cell_type": "code",
      "source": [
        "# in order to use TPU you have to run this cell before importing JAX\n",
        "import jax.tools.colab_tpu\n",
        "jax.tools.colab_tpu.setup_tpu()"
      ],
      "metadata": {
        "id": "q9_o0MwOu94x"
      },
      "execution_count": 1,
      "outputs": []
    },
    {
      "cell_type": "code",
      "source": [
        "from jax.lib import xla_bridge\n",
        "print(xla_bridge.get_backend().platform)"
      ],
      "metadata": {
        "colab": {
          "base_uri": "https://localhost:8080/"
        },
        "id": "2aBy_QGmu-61",
        "outputId": "70485c79-7aff-47b5-f92c-9caf030d3626"
      },
      "execution_count": 2,
      "outputs": [
        {
          "output_type": "stream",
          "name": "stdout",
          "text": [
            "tpu\n"
          ]
        }
      ]
    },
    {
      "cell_type": "code",
      "source": [
        "import jax\n",
        "import jax.numpy as jnp"
      ],
      "metadata": {
        "id": "7c2IXWjRvFbj"
      },
      "execution_count": 3,
      "outputs": []
    },
    {
      "cell_type": "code",
      "source": [
        "jax.local_devices()"
      ],
      "metadata": {
        "colab": {
          "base_uri": "https://localhost:8080/"
        },
        "id": "_qLo4vNRvHc-",
        "outputId": "c08d0560-3441-4b31-e697-4499612d1f68"
      },
      "execution_count": 4,
      "outputs": [
        {
          "output_type": "execute_result",
          "data": {
            "text/plain": [
              "[TpuDevice(id=0, process_index=0, coords=(0,0,0), core_on_chip=0),\n",
              " TpuDevice(id=1, process_index=0, coords=(0,0,0), core_on_chip=1),\n",
              " TpuDevice(id=2, process_index=0, coords=(1,0,0), core_on_chip=0),\n",
              " TpuDevice(id=3, process_index=0, coords=(1,0,0), core_on_chip=1),\n",
              " TpuDevice(id=4, process_index=0, coords=(0,1,0), core_on_chip=0),\n",
              " TpuDevice(id=5, process_index=0, coords=(0,1,0), core_on_chip=1),\n",
              " TpuDevice(id=6, process_index=0, coords=(1,1,0), core_on_chip=0),\n",
              " TpuDevice(id=7, process_index=0, coords=(1,1,0), core_on_chip=1)]"
            ]
          },
          "metadata": {},
          "execution_count": 4
        }
      ]
    },
    {
      "cell_type": "markdown",
      "source": [
        "## Parallelizing a function"
      ],
      "metadata": {
        "id": "wzZlvWsjKIC8"
      }
    },
    {
      "cell_type": "code",
      "source": [
        "def dot(v1, v2):\n",
        "  return jnp.vdot(v1, v2)"
      ],
      "metadata": {
        "id": "qxtvsXER1Ums"
      },
      "execution_count": null,
      "outputs": []
    },
    {
      "cell_type": "code",
      "source": [
        "dot(jnp.array([1., 1., 1.]), jnp.array([1., 2., -1]))"
      ],
      "metadata": {
        "colab": {
          "base_uri": "https://localhost:8080/"
        },
        "id": "UuEi71y-1iDg",
        "outputId": "d29427b1-7e91-4f1f-9449-e6a993b390cc"
      },
      "execution_count": null,
      "outputs": [
        {
          "output_type": "execute_result",
          "data": {
            "text/plain": [
              "DeviceArray(2., dtype=float32)"
            ]
          },
          "metadata": {},
          "execution_count": 6
        }
      ]
    },
    {
      "cell_type": "markdown",
      "source": [
        "Generate some **large** random arrays"
      ],
      "metadata": {
        "id": "f6uqvbVsKLdp"
      }
    },
    {
      "cell_type": "code",
      "source": [
        "from jax import random"
      ],
      "metadata": {
        "id": "4cVOwuJyv6yO"
      },
      "execution_count": null,
      "outputs": []
    },
    {
      "cell_type": "code",
      "source": [
        "rng_key = random.PRNGKey(42)"
      ],
      "metadata": {
        "id": "EUTNwutCwiUl"
      },
      "execution_count": null,
      "outputs": []
    },
    {
      "cell_type": "code",
      "source": [
        "vs = random.normal(rng_key, shape=(20_000_000,3))"
      ],
      "metadata": {
        "id": "MSGxkzRGwmiy"
      },
      "execution_count": null,
      "outputs": []
    },
    {
      "cell_type": "code",
      "source": [
        "v1s = vs[:10_000_000,:]\n",
        "v2s = vs[10_000_000:,:]"
      ],
      "metadata": {
        "id": "zLYOfhF19gI4"
      },
      "execution_count": null,
      "outputs": []
    },
    {
      "cell_type": "code",
      "source": [
        "v1s.shape, v2s.shape"
      ],
      "metadata": {
        "colab": {
          "base_uri": "https://localhost:8080/"
        },
        "id": "oBMFv_cc-GV6",
        "outputId": "4176a497-1806-4255-f987-faf17054773e"
      },
      "execution_count": null,
      "outputs": [
        {
          "output_type": "execute_result",
          "data": {
            "text/plain": [
              "((10000000, 3), (10000000, 3))"
            ]
          },
          "metadata": {},
          "execution_count": 11
        }
      ]
    },
    {
      "cell_type": "markdown",
      "source": [
        "Make a compiled vectorized function as a baseline:"
      ],
      "metadata": {
        "id": "fHT8Pi7YPNvC"
      }
    },
    {
      "cell_type": "code",
      "source": [
        "dot_batched = jax.jit(jax.vmap(dot)).lower(v1s,v2s).compile() # you can use AOT-compilation"
      ],
      "metadata": {
        "id": "KsRK7fsv92RN"
      },
      "execution_count": null,
      "outputs": []
    },
    {
      "cell_type": "code",
      "source": [
        "%timeit x_vmap = dot_batched(v1s, v2s).block_until_ready()"
      ],
      "metadata": {
        "colab": {
          "base_uri": "https://localhost:8080/"
        },
        "id": "b-NUKyM6gO1R",
        "outputId": "74c48ed6-9a55-451c-b02e-cf0e5a645398"
      },
      "execution_count": null,
      "outputs": [
        {
          "output_type": "stream",
          "name": "stdout",
          "text": [
            "3.34 ms ± 123 µs per loop (mean ± std. dev. of 7 runs, 100 loops each)\n"
          ]
        }
      ]
    },
    {
      "cell_type": "code",
      "source": [
        "dot_batched = jax.jit(jax.vmap(dot)) # or JIT-compilation"
      ],
      "metadata": {
        "id": "yPKa12rgEan4"
      },
      "execution_count": null,
      "outputs": []
    },
    {
      "cell_type": "code",
      "source": [
        "x_vmap = dot_batched(v1s, v2s)"
      ],
      "metadata": {
        "id": "tQd2syYJllpQ"
      },
      "execution_count": null,
      "outputs": []
    },
    {
      "cell_type": "code",
      "source": [
        "x_vmap.shape"
      ],
      "metadata": {
        "colab": {
          "base_uri": "https://localhost:8080/"
        },
        "id": "9uZUaB6nE5pT",
        "outputId": "f3ac92dd-0dce-4736-d311-9399b95dbff8"
      },
      "execution_count": null,
      "outputs": [
        {
          "output_type": "execute_result",
          "data": {
            "text/plain": [
              "(10000000,)"
            ]
          },
          "metadata": {},
          "execution_count": 16
        }
      ]
    },
    {
      "cell_type": "code",
      "source": [
        "dot_parallel = jax.pmap(dot)"
      ],
      "metadata": {
        "id": "ZkmFPNA-hjbR"
      },
      "execution_count": null,
      "outputs": []
    },
    {
      "cell_type": "code",
      "source": [
        "x_pmap = dot_parallel(v1s,v2s)"
      ],
      "metadata": {
        "colab": {
          "base_uri": "https://localhost:8080/",
          "height": 415
        },
        "id": "J4s0rZIVh0RC",
        "outputId": "c25fe91c-ab0f-4975-def6-4f9b8289e805"
      },
      "execution_count": null,
      "outputs": [
        {
          "output_type": "error",
          "ename": "ValueError",
          "evalue": "ignored",
          "traceback": [
            "\u001b[0;31m---------------------------------------------------------------------------\u001b[0m",
            "\u001b[0;31mUnfilteredStackTrace\u001b[0m                      Traceback (most recent call last)",
            "\u001b[0;32m<ipython-input-18-ae65787b64f8>\u001b[0m in \u001b[0;36m<module>\u001b[0;34m\u001b[0m\n\u001b[0;32m----> 1\u001b[0;31m \u001b[0mx_pmap\u001b[0m \u001b[0;34m=\u001b[0m \u001b[0mdot_parallel\u001b[0m\u001b[0;34m(\u001b[0m\u001b[0mv1s\u001b[0m\u001b[0;34m,\u001b[0m\u001b[0mv2s\u001b[0m\u001b[0;34m)\u001b[0m\u001b[0;34m\u001b[0m\u001b[0;34m\u001b[0m\u001b[0m\n\u001b[0m",
            "\u001b[0;32m/usr/local/lib/python3.8/dist-packages/jax/_src/traceback_util.py\u001b[0m in \u001b[0;36mreraise_with_filtered_traceback\u001b[0;34m(*args, **kwargs)\u001b[0m\n\u001b[1;32m    161\u001b[0m     \u001b[0;32mtry\u001b[0m\u001b[0;34m:\u001b[0m\u001b[0;34m\u001b[0m\u001b[0;34m\u001b[0m\u001b[0m\n\u001b[0;32m--> 162\u001b[0;31m       \u001b[0;32mreturn\u001b[0m \u001b[0mfun\u001b[0m\u001b[0;34m(\u001b[0m\u001b[0;34m*\u001b[0m\u001b[0margs\u001b[0m\u001b[0;34m,\u001b[0m \u001b[0;34m**\u001b[0m\u001b[0mkwargs\u001b[0m\u001b[0;34m)\u001b[0m\u001b[0;34m\u001b[0m\u001b[0;34m\u001b[0m\u001b[0m\n\u001b[0m\u001b[1;32m    163\u001b[0m     \u001b[0;32mexcept\u001b[0m \u001b[0mException\u001b[0m \u001b[0;32mas\u001b[0m \u001b[0me\u001b[0m\u001b[0;34m:\u001b[0m\u001b[0;34m\u001b[0m\u001b[0;34m\u001b[0m\u001b[0m\n",
            "\u001b[0;32m/usr/local/lib/python3.8/dist-packages/jax/_src/api.py\u001b[0m in \u001b[0;36mcache_miss\u001b[0;34m(*args, **kwargs)\u001b[0m\n\u001b[1;32m   2254\u001b[0m     \u001b[0;32mif\u001b[0m \u001b[0misinstance\u001b[0m\u001b[0;34m(\u001b[0m\u001b[0mtop_trace\u001b[0m\u001b[0;34m,\u001b[0m \u001b[0mcore\u001b[0m\u001b[0;34m.\u001b[0m\u001b[0mEvalTrace\u001b[0m\u001b[0;34m)\u001b[0m\u001b[0;34m:\u001b[0m\u001b[0;34m\u001b[0m\u001b[0;34m\u001b[0m\u001b[0m\n\u001b[0;32m-> 2255\u001b[0;31m       \u001b[0mexecute\u001b[0m \u001b[0;34m=\u001b[0m \u001b[0mpxla\u001b[0m\u001b[0;34m.\u001b[0m\u001b[0mxla_pmap_impl_lazy\u001b[0m\u001b[0;34m(\u001b[0m\u001b[0mfun_\u001b[0m\u001b[0;34m,\u001b[0m \u001b[0;34m*\u001b[0m\u001b[0mtracers\u001b[0m\u001b[0;34m,\u001b[0m \u001b[0;34m**\u001b[0m\u001b[0mparams\u001b[0m\u001b[0;34m)\u001b[0m\u001b[0;34m\u001b[0m\u001b[0;34m\u001b[0m\u001b[0m\n\u001b[0m\u001b[1;32m   2256\u001b[0m       \u001b[0mout\u001b[0m \u001b[0;34m=\u001b[0m \u001b[0mmap_bind_continuation\u001b[0m\u001b[0;34m(\u001b[0m\u001b[0mexecute\u001b[0m\u001b[0;34m(\u001b[0m\u001b[0;34m*\u001b[0m\u001b[0mtracers\u001b[0m\u001b[0;34m)\u001b[0m\u001b[0;34m)\u001b[0m\u001b[0;34m\u001b[0m\u001b[0;34m\u001b[0m\u001b[0m\n",
            "\u001b[0;32m/usr/local/lib/python3.8/dist-packages/jax/interpreters/pxla.py\u001b[0m in \u001b[0;36mxla_pmap_impl_lazy\u001b[0;34m(fun, backend, axis_name, axis_size, global_axis_size, devices, name, in_axes, out_axes_thunk, donated_invars, global_arg_shapes, *args)\u001b[0m\n\u001b[1;32m    973\u001b[0m   \u001b[0mabstract_args\u001b[0m \u001b[0;34m=\u001b[0m \u001b[0munsafe_map\u001b[0m\u001b[0;34m(\u001b[0m\u001b[0mxla\u001b[0m\u001b[0;34m.\u001b[0m\u001b[0mabstractify\u001b[0m\u001b[0;34m,\u001b[0m \u001b[0margs\u001b[0m\u001b[0;34m)\u001b[0m\u001b[0;34m\u001b[0m\u001b[0;34m\u001b[0m\u001b[0m\n\u001b[0;32m--> 974\u001b[0;31m   compiled_fun, fingerprint = parallel_callable(\n\u001b[0m\u001b[1;32m    975\u001b[0m       \u001b[0mfun\u001b[0m\u001b[0;34m,\u001b[0m \u001b[0mbackend\u001b[0m\u001b[0;34m,\u001b[0m \u001b[0maxis_name\u001b[0m\u001b[0;34m,\u001b[0m \u001b[0maxis_size\u001b[0m\u001b[0;34m,\u001b[0m \u001b[0mglobal_axis_size\u001b[0m\u001b[0;34m,\u001b[0m \u001b[0mdevices\u001b[0m\u001b[0;34m,\u001b[0m \u001b[0mname\u001b[0m\u001b[0;34m,\u001b[0m\u001b[0;34m\u001b[0m\u001b[0;34m\u001b[0m\u001b[0m\n",
            "\u001b[0;32m/usr/local/lib/python3.8/dist-packages/jax/linear_util.py\u001b[0m in \u001b[0;36mmemoized_fun\u001b[0;34m(fun, *args)\u001b[0m\n\u001b[1;32m    302\u001b[0m     \u001b[0;32melse\u001b[0m\u001b[0;34m:\u001b[0m\u001b[0;34m\u001b[0m\u001b[0;34m\u001b[0m\u001b[0m\n\u001b[0;32m--> 303\u001b[0;31m       \u001b[0mans\u001b[0m \u001b[0;34m=\u001b[0m \u001b[0mcall\u001b[0m\u001b[0;34m(\u001b[0m\u001b[0mfun\u001b[0m\u001b[0;34m,\u001b[0m \u001b[0;34m*\u001b[0m\u001b[0margs\u001b[0m\u001b[0;34m)\u001b[0m\u001b[0;34m\u001b[0m\u001b[0;34m\u001b[0m\u001b[0m\n\u001b[0m\u001b[1;32m    304\u001b[0m       \u001b[0mcache\u001b[0m\u001b[0;34m[\u001b[0m\u001b[0mkey\u001b[0m\u001b[0;34m]\u001b[0m \u001b[0;34m=\u001b[0m \u001b[0;34m(\u001b[0m\u001b[0mans\u001b[0m\u001b[0;34m,\u001b[0m \u001b[0mfun\u001b[0m\u001b[0;34m.\u001b[0m\u001b[0mstores\u001b[0m\u001b[0;34m)\u001b[0m\u001b[0;34m\u001b[0m\u001b[0;34m\u001b[0m\u001b[0m\n",
            "\u001b[0;32m/usr/local/lib/python3.8/dist-packages/jax/interpreters/pxla.py\u001b[0m in \u001b[0;36mparallel_callable\u001b[0;34m(fun, backend_name, axis_name, axis_size, global_axis_size, devices, name, in_axes, out_axes_thunk, donated_invars, global_arg_shapes, *avals)\u001b[0m\n\u001b[1;32m   1227\u001b[0m       in_axes, out_axes_thunk, donated_invars, global_arg_shapes, avals)\n\u001b[0;32m-> 1228\u001b[0;31m   \u001b[0mpmap_executable\u001b[0m \u001b[0;34m=\u001b[0m \u001b[0mpmap_computation\u001b[0m\u001b[0;34m.\u001b[0m\u001b[0mcompile\u001b[0m\u001b[0;34m(\u001b[0m\u001b[0;34m)\u001b[0m\u001b[0;34m\u001b[0m\u001b[0;34m\u001b[0m\u001b[0m\n\u001b[0m\u001b[1;32m   1229\u001b[0m   \u001b[0;32mreturn\u001b[0m \u001b[0mWeakRefList\u001b[0m\u001b[0;34m(\u001b[0m\u001b[0;34m[\u001b[0m\u001b[0mpmap_executable\u001b[0m\u001b[0;34m.\u001b[0m\u001b[0munsafe_call\u001b[0m\u001b[0;34m,\u001b[0m \u001b[0mpmap_executable\u001b[0m\u001b[0;34m.\u001b[0m\u001b[0mfingerprint\u001b[0m\u001b[0;34m]\u001b[0m\u001b[0;34m)\u001b[0m\u001b[0;34m\u001b[0m\u001b[0;34m\u001b[0m\u001b[0m\n",
            "\u001b[0;32m/usr/local/lib/python3.8/dist-packages/jax/_src/profiler.py\u001b[0m in \u001b[0;36mwrapper\u001b[0;34m(*args, **kwargs)\u001b[0m\n\u001b[1;32m    313\u001b[0m     \u001b[0;32mwith\u001b[0m \u001b[0mTraceAnnotation\u001b[0m\u001b[0;34m(\u001b[0m\u001b[0mname\u001b[0m\u001b[0;34m,\u001b[0m \u001b[0;34m**\u001b[0m\u001b[0mdecorator_kwargs\u001b[0m\u001b[0;34m)\u001b[0m\u001b[0;34m:\u001b[0m\u001b[0;34m\u001b[0m\u001b[0;34m\u001b[0m\u001b[0m\n\u001b[0;32m--> 314\u001b[0;31m       \u001b[0;32mreturn\u001b[0m \u001b[0mfunc\u001b[0m\u001b[0;34m(\u001b[0m\u001b[0;34m*\u001b[0m\u001b[0margs\u001b[0m\u001b[0;34m,\u001b[0m \u001b[0;34m**\u001b[0m\u001b[0mkwargs\u001b[0m\u001b[0;34m)\u001b[0m\u001b[0;34m\u001b[0m\u001b[0;34m\u001b[0m\u001b[0m\n\u001b[0m\u001b[1;32m    315\u001b[0m     \u001b[0;32mreturn\u001b[0m \u001b[0mwrapper\u001b[0m\u001b[0;34m\u001b[0m\u001b[0;34m\u001b[0m\u001b[0m\n",
            "\u001b[0;32m/usr/local/lib/python3.8/dist-packages/jax/interpreters/pxla.py\u001b[0m in \u001b[0;36mcompile\u001b[0;34m(self)\u001b[0m\n\u001b[1;32m   1510\u001b[0m     \u001b[0;32mif\u001b[0m \u001b[0mself\u001b[0m\u001b[0;34m.\u001b[0m\u001b[0m_executable\u001b[0m \u001b[0;32mis\u001b[0m \u001b[0;32mNone\u001b[0m\u001b[0;34m:\u001b[0m\u001b[0;34m\u001b[0m\u001b[0;34m\u001b[0m\u001b[0m\n\u001b[0;32m-> 1511\u001b[0;31m       \u001b[0mself\u001b[0m\u001b[0;34m.\u001b[0m\u001b[0m_executable\u001b[0m \u001b[0;34m=\u001b[0m \u001b[0mPmapExecutable\u001b[0m\u001b[0;34m.\u001b[0m\u001b[0mfrom_hlo\u001b[0m\u001b[0;34m(\u001b[0m\u001b[0mself\u001b[0m\u001b[0;34m.\u001b[0m\u001b[0m_hlo\u001b[0m\u001b[0;34m,\u001b[0m \u001b[0;34m**\u001b[0m\u001b[0mself\u001b[0m\u001b[0;34m.\u001b[0m\u001b[0mcompile_args\u001b[0m\u001b[0;34m)\u001b[0m\u001b[0;34m\u001b[0m\u001b[0;34m\u001b[0m\u001b[0m\n\u001b[0m\u001b[1;32m   1512\u001b[0m     \u001b[0;32mreturn\u001b[0m \u001b[0mself\u001b[0m\u001b[0;34m.\u001b[0m\u001b[0m_executable\u001b[0m\u001b[0;34m\u001b[0m\u001b[0;34m\u001b[0m\u001b[0m\n",
            "\u001b[0;32m/usr/local/lib/python3.8/dist-packages/jax/interpreters/pxla.py\u001b[0m in \u001b[0;36mfrom_hlo\u001b[0;34m(xla_computation, pci, replicas, parts, shards, tuple_args, unordered_effects, ordered_effects, host_callbacks, keepalive)\u001b[0m\n\u001b[1;32m   1539\u001b[0m                \"devices are available (num_replicas={}, num_partitions={})\")\n\u001b[0;32m-> 1540\u001b[0;31m         raise ValueError(msg.format(shards.num_global_shards,\n\u001b[0m\u001b[1;32m   1541\u001b[0m                                     \u001b[0mxb\u001b[0m\u001b[0;34m.\u001b[0m\u001b[0mdevice_count\u001b[0m\u001b[0;34m(\u001b[0m\u001b[0mpci\u001b[0m\u001b[0;34m.\u001b[0m\u001b[0mbackend\u001b[0m\u001b[0;34m)\u001b[0m\u001b[0;34m,\u001b[0m\u001b[0;34m\u001b[0m\u001b[0;34m\u001b[0m\u001b[0m\n",
            "\u001b[0;31mUnfilteredStackTrace\u001b[0m: ValueError: compiling computation that requires 10000000 logical devices, but only 8 XLA devices are available (num_replicas=10000000, num_partitions=1)\n\nThe stack trace below excludes JAX-internal frames.\nThe preceding is the original exception that occurred, unmodified.\n\n--------------------",
            "\nThe above exception was the direct cause of the following exception:\n",
            "\u001b[0;31mValueError\u001b[0m                                Traceback (most recent call last)",
            "\u001b[0;32m<ipython-input-18-ae65787b64f8>\u001b[0m in \u001b[0;36m<module>\u001b[0;34m\u001b[0m\n\u001b[0;32m----> 1\u001b[0;31m \u001b[0mx_pmap\u001b[0m \u001b[0;34m=\u001b[0m \u001b[0mdot_parallel\u001b[0m\u001b[0;34m(\u001b[0m\u001b[0mv1s\u001b[0m\u001b[0;34m,\u001b[0m\u001b[0mv2s\u001b[0m\u001b[0;34m)\u001b[0m\u001b[0;34m\u001b[0m\u001b[0;34m\u001b[0m\u001b[0m\n\u001b[0m",
            "\u001b[0;31mValueError\u001b[0m: compiling computation that requires 10000000 logical devices, but only 8 XLA devices are available (num_replicas=10000000, num_partitions=1)"
          ]
        }
      ]
    },
    {
      "cell_type": "code",
      "source": [
        "v1s.shape"
      ],
      "metadata": {
        "colab": {
          "base_uri": "https://localhost:8080/"
        },
        "id": "1DCjJciai7Z_",
        "outputId": "7fa7b82d-96f3-4b1a-caaf-aba2daff7c26"
      },
      "execution_count": null,
      "outputs": [
        {
          "output_type": "execute_result",
          "data": {
            "text/plain": [
              "(10000000, 3)"
            ]
          },
          "metadata": {},
          "execution_count": 19
        }
      ]
    },
    {
      "cell_type": "code",
      "source": [
        "v1sp = v1s.reshape((8, v1s.shape[0]//8, v1s.shape[1]))\n",
        "v2sp = v2s.reshape((8, v2s.shape[0]//8, v2s.shape[1]))    # we use integer division here"
      ],
      "metadata": {
        "id": "0zaUwp4tjroC"
      },
      "execution_count": null,
      "outputs": []
    },
    {
      "cell_type": "code",
      "source": [
        "v1sp.shape"
      ],
      "metadata": {
        "colab": {
          "base_uri": "https://localhost:8080/"
        },
        "id": "ntlAFzYAi9_s",
        "outputId": "b5e00adc-02f6-498c-aa0a-1db2e084075e"
      },
      "execution_count": null,
      "outputs": [
        {
          "output_type": "execute_result",
          "data": {
            "text/plain": [
              "(8, 1250000, 3)"
            ]
          },
          "metadata": {},
          "execution_count": 21
        }
      ]
    },
    {
      "cell_type": "code",
      "source": [
        "v1s[0,:], v1sp[0,0,:]"
      ],
      "metadata": {
        "colab": {
          "base_uri": "https://localhost:8080/"
        },
        "id": "ttr1LezXIvos",
        "outputId": "fea4ea17-d568-4005-f909-2d18326570aa"
      },
      "execution_count": null,
      "outputs": [
        {
          "output_type": "execute_result",
          "data": {
            "text/plain": [
              "(DeviceArray([1.456546  , 1.1449531 , 0.02485494], dtype=float32),\n",
              " DeviceArray([1.456546  , 1.1449531 , 0.02485494], dtype=float32))"
            ]
          },
          "metadata": {},
          "execution_count": 22
        }
      ]
    },
    {
      "cell_type": "code",
      "source": [
        "v1s[1250000,:], v1sp[1,0,:]"
      ],
      "metadata": {
        "colab": {
          "base_uri": "https://localhost:8080/"
        },
        "id": "xQJAXG1MI6ja",
        "outputId": "30da1e60-f8ab-457d-ea16-43a2e16b13d3"
      },
      "execution_count": null,
      "outputs": [
        {
          "output_type": "execute_result",
          "data": {
            "text/plain": [
              "(DeviceArray([ 0.50284576,  0.38336843, -0.35499337], dtype=float32),\n",
              " DeviceArray([ 0.50284576,  0.38336843, -0.35499337], dtype=float32))"
            ]
          },
          "metadata": {},
          "execution_count": 23
        }
      ]
    },
    {
      "cell_type": "code",
      "source": [
        "x_pmap = dot_parallel(v1sp,v2sp)"
      ],
      "metadata": {
        "id": "kED5PhIvj_Yz"
      },
      "execution_count": null,
      "outputs": []
    },
    {
      "cell_type": "code",
      "source": [
        "x_pmap.shape"
      ],
      "metadata": {
        "colab": {
          "base_uri": "https://localhost:8080/"
        },
        "id": "C4SjsR23KaYm",
        "outputId": "c43046a0-64c9-42ec-9c70-919f9984e0cb"
      },
      "execution_count": null,
      "outputs": [
        {
          "output_type": "execute_result",
          "data": {
            "text/plain": [
              "(8,)"
            ]
          },
          "metadata": {},
          "execution_count": 25
        }
      ]
    },
    {
      "cell_type": "code",
      "source": [
        "dot_parallel = jax.pmap(jax.vmap(dot))"
      ],
      "metadata": {
        "id": "-5sG0zdjkNwR"
      },
      "execution_count": null,
      "outputs": []
    },
    {
      "cell_type": "code",
      "source": [
        "x_pmap = dot_parallel(v1sp,v2sp)"
      ],
      "metadata": {
        "id": "gCI71XoukYOv"
      },
      "execution_count": null,
      "outputs": []
    },
    {
      "cell_type": "code",
      "source": [
        "x_pmap.shape"
      ],
      "metadata": {
        "colab": {
          "base_uri": "https://localhost:8080/"
        },
        "id": "W4oj2g-bkgbM",
        "outputId": "3fb99e9f-2886-463a-b89c-f77aabb8ec09"
      },
      "execution_count": null,
      "outputs": [
        {
          "output_type": "execute_result",
          "data": {
            "text/plain": [
              "(8, 1250000)"
            ]
          },
          "metadata": {},
          "execution_count": 28
        }
      ]
    },
    {
      "cell_type": "code",
      "source": [
        "type(x_pmap)"
      ],
      "metadata": {
        "colab": {
          "base_uri": "https://localhost:8080/"
        },
        "id": "dyIOI3cakjL0",
        "outputId": "082f6d33-8134-4e07-acb5-143e34a97c33"
      },
      "execution_count": null,
      "outputs": [
        {
          "output_type": "execute_result",
          "data": {
            "text/plain": [
              "jax.interpreters.pxla._ShardedDeviceArray"
            ]
          },
          "metadata": {},
          "execution_count": 29
        }
      ]
    },
    {
      "cell_type": "code",
      "source": [
        "x_pmap = x_pmap.reshape((x_pmap.shape[0]*x_pmap.shape[1]))\n",
        "x_pmap.shape"
      ],
      "metadata": {
        "colab": {
          "base_uri": "https://localhost:8080/"
        },
        "id": "1W2vIrDxklDX",
        "outputId": "ffa23749-b019-41bf-b54b-588768e4a433"
      },
      "execution_count": null,
      "outputs": [
        {
          "output_type": "execute_result",
          "data": {
            "text/plain": [
              "(10000000,)"
            ]
          },
          "metadata": {},
          "execution_count": 30
        }
      ]
    },
    {
      "cell_type": "code",
      "source": [
        "jax.numpy.all(x_pmap == x_vmap)"
      ],
      "metadata": {
        "colab": {
          "base_uri": "https://localhost:8080/"
        },
        "id": "38UCSdMLmPYS",
        "outputId": "311dc4b8-a6e3-42e0-a6c8-2286655952d2"
      },
      "execution_count": null,
      "outputs": [
        {
          "output_type": "execute_result",
          "data": {
            "text/plain": [
              "DeviceArray(True, dtype=bool)"
            ]
          },
          "metadata": {},
          "execution_count": 31
        }
      ]
    },
    {
      "cell_type": "code",
      "source": [
        "%timeit xp = dot_parallel(v1sp,v2sp).block_until_ready()"
      ],
      "metadata": {
        "colab": {
          "base_uri": "https://localhost:8080/"
        },
        "id": "k2jjZe-mo47n",
        "outputId": "f1bf9bf0-a92f-43ba-9f7d-ca8b23d1bc1c"
      },
      "execution_count": null,
      "outputs": [
        {
          "output_type": "stream",
          "name": "stdout",
          "text": [
            "56.5 ms ± 491 µs per loop (mean ± std. dev. of 7 runs, 10 loops each)\n"
          ]
        }
      ]
    },
    {
      "cell_type": "code",
      "source": [
        "x_pmap"
      ],
      "metadata": {
        "colab": {
          "base_uri": "https://localhost:8080/"
        },
        "id": "-_jLRzyBRDTJ",
        "outputId": "c441c444-7f68-42df-bc7c-eaea9f23af5e"
      },
      "execution_count": null,
      "outputs": [
        {
          "output_type": "execute_result",
          "data": {
            "text/plain": [
              "DeviceArray([ 1.1981742 , -3.0097814 , -2.539115  , ..., -2.7281013 ,\n",
              "              0.26364914,  1.9583547 ], dtype=float32)"
            ]
          },
          "metadata": {},
          "execution_count": 33
        }
      ]
    },
    {
      "cell_type": "code",
      "source": [
        "x_vmap"
      ],
      "metadata": {
        "colab": {
          "base_uri": "https://localhost:8080/"
        },
        "id": "TxECifZoRGYY",
        "outputId": "c6edcacb-ab0b-4310-88db-ab914eaf078b"
      },
      "execution_count": null,
      "outputs": [
        {
          "output_type": "execute_result",
          "data": {
            "text/plain": [
              "DeviceArray([ 1.1981742 , -3.0097814 , -2.539115  , ..., -2.7281013 ,\n",
              "              0.26364914,  1.9583547 ], dtype=float32)"
            ]
          },
          "metadata": {},
          "execution_count": 34
        }
      ]
    },
    {
      "cell_type": "markdown",
      "source": [
        "A very simple example when you can easily switch vmap and pmap:"
      ],
      "metadata": {
        "id": "ReSRcPnlR_7g"
      }
    },
    {
      "cell_type": "code",
      "source": [
        "def dot(v1, v2):\n",
        "  return jnp.vdot(v1, v2)"
      ],
      "metadata": {
        "id": "R28QzddqW6Xm"
      },
      "execution_count": null,
      "outputs": []
    },
    {
      "cell_type": "code",
      "source": [
        "vs = random.normal(rng_key, shape=(16,3))\n",
        "v1s = vs[:8,:]\n",
        "v2s = vs[8:,:]"
      ],
      "metadata": {
        "id": "giEtn52mSIk-"
      },
      "execution_count": null,
      "outputs": []
    },
    {
      "cell_type": "code",
      "source": [
        "jax.vmap(dot)(v1s,v2s)"
      ],
      "metadata": {
        "colab": {
          "base_uri": "https://localhost:8080/"
        },
        "id": "LfT1rhKJTgwq",
        "outputId": "14efcdb7-5055-41fe-c250-985653da3d25"
      },
      "execution_count": null,
      "outputs": [
        {
          "output_type": "execute_result",
          "data": {
            "text/plain": [
              "DeviceArray([ 0.51048726, -0.7174605 , -0.20105815, -0.26437205,\n",
              "             -1.3696793 ,  2.744793  ,  1.7936493 , -1.1743435 ],            dtype=float32)"
            ]
          },
          "metadata": {},
          "execution_count": 37
        }
      ]
    },
    {
      "cell_type": "code",
      "source": [
        "jax.pmap(dot)(v1s,v2s)"
      ],
      "metadata": {
        "colab": {
          "base_uri": "https://localhost:8080/"
        },
        "id": "Z46RrWmhTnEK",
        "outputId": "64967a4b-b5d5-4fb5-ba81-aee43d9553e4"
      },
      "execution_count": null,
      "outputs": [
        {
          "output_type": "execute_result",
          "data": {
            "text/plain": [
              "ShardedDeviceArray([ 0.51048726, -0.7174605 , -0.20105815, -0.26437205,\n",
              "                    -1.3696793 ,  2.744793  ,  1.7936493 , -1.1743435 ],                   dtype=float32)"
            ]
          },
          "metadata": {},
          "execution_count": 38
        }
      ]
    },
    {
      "cell_type": "code",
      "source": [
        "dot_v = jax.jit(jax.vmap(dot))\n",
        "x = dot_v(v1s,v2s)"
      ],
      "metadata": {
        "id": "vNVXUxJpXLaB"
      },
      "execution_count": null,
      "outputs": []
    },
    {
      "cell_type": "code",
      "source": [
        "dot_pjo = jax.jit(jax.pmap(dot))\n",
        "x = dot_pjo(v1s,v2s)"
      ],
      "metadata": {
        "colab": {
          "base_uri": "https://localhost:8080/"
        },
        "id": "TbZv85rgXRR_",
        "outputId": "dffd2483-19a5-48e0-a6f0-d864e86f5bc2"
      },
      "execution_count": null,
      "outputs": [
        {
          "output_type": "stream",
          "name": "stderr",
          "text": [
            "/usr/local/lib/python3.8/dist-packages/jax/_src/dispatch.py:397: UserWarning: The jitted function dot includes a pmap. Using jit-of-pmap can lead to inefficient data movement, as the outer jit does not preserve sharded data representations and instead collects input and output arrays onto a single device. Consider removing the outer jit unless you know what you're doing. See https://github.com/google/jax/issues/2926.\n",
            "  warnings.warn(\n"
          ]
        }
      ]
    },
    {
      "cell_type": "code",
      "source": [
        "dot_pji = jax.pmap(jax.jit(dot))\n",
        "x = dot_pji(v1s,v2s)"
      ],
      "metadata": {
        "id": "OHXNHJTYYJb5"
      },
      "execution_count": null,
      "outputs": []
    },
    {
      "cell_type": "code",
      "source": [
        "dot_p = jax.pmap(dot)\n",
        "x = dot_p(v1s,v2s)"
      ],
      "metadata": {
        "id": "KNrEftwLXZlw"
      },
      "execution_count": null,
      "outputs": []
    },
    {
      "cell_type": "code",
      "source": [
        "%timeit dot_v(v1s,v2s).block_until_ready()"
      ],
      "metadata": {
        "colab": {
          "base_uri": "https://localhost:8080/"
        },
        "id": "Pm9Q-E4UWcHs",
        "outputId": "5f859cc5-af09-4a0a-9748-4a933cc10316"
      },
      "execution_count": null,
      "outputs": [
        {
          "output_type": "stream",
          "name": "stdout",
          "text": [
            "2.81 ms ± 563 µs per loop (mean ± std. dev. of 7 runs, 1000 loops each)\n"
          ]
        }
      ]
    },
    {
      "cell_type": "code",
      "source": [
        "%timeit dot_pjo(v1s,v2s).block_until_ready()"
      ],
      "metadata": {
        "colab": {
          "base_uri": "https://localhost:8080/"
        },
        "id": "IJtuPjyBWiBp",
        "outputId": "4baf9dbb-bed0-4d88-e41c-38ef531bfe78"
      },
      "execution_count": null,
      "outputs": [
        {
          "output_type": "stream",
          "name": "stdout",
          "text": [
            "52 ms ± 15.2 ms per loop (mean ± std. dev. of 7 runs, 100 loops each)\n"
          ]
        }
      ]
    },
    {
      "cell_type": "code",
      "source": [
        "%timeit dot_pji(v1s,v2s).block_until_ready()"
      ],
      "metadata": {
        "colab": {
          "base_uri": "https://localhost:8080/"
        },
        "id": "Q6q8J8TCYQho",
        "outputId": "86c963ab-5555-435a-b481-f9d6ca2223b9"
      },
      "execution_count": null,
      "outputs": [
        {
          "output_type": "stream",
          "name": "stdout",
          "text": [
            "17.9 ms ± 404 µs per loop (mean ± std. dev. of 7 runs, 100 loops each)\n"
          ]
        }
      ]
    },
    {
      "cell_type": "code",
      "source": [
        "%timeit dot_p(v1s,v2s).block_until_ready()"
      ],
      "metadata": {
        "colab": {
          "base_uri": "https://localhost:8080/"
        },
        "id": "KWDwONE-Xsjn",
        "outputId": "67febda9-6a3c-4f83-fa38-97be011bfe71"
      },
      "execution_count": null,
      "outputs": [
        {
          "output_type": "stream",
          "name": "stdout",
          "text": [
            "17.9 ms ± 272 µs per loop (mean ± std. dev. of 7 runs, 100 loops each)\n"
          ]
        }
      ]
    },
    {
      "cell_type": "code",
      "source": [
        "jax.make_jaxpr(dot_v)(v1s,v2s)"
      ],
      "metadata": {
        "colab": {
          "base_uri": "https://localhost:8080/"
        },
        "id": "lJFuKu1XAhFj",
        "outputId": "1b05e881-505f-4eea-9e70-6dc5f248a3d9"
      },
      "execution_count": null,
      "outputs": [
        {
          "output_type": "execute_result",
          "data": {
            "text/plain": [
              "{ lambda ; a:f32[8,3] b:f32[8,3]. let\n",
              "    c:f32[8] = xla_call[\n",
              "      call_jaxpr={ lambda ; d:f32[8,3] e:f32[8,3]. let\n",
              "          f:f32[8] = dot_general[\n",
              "            dimension_numbers=(((1,), (1,)), ((0,), (0,)))\n",
              "            precision=None\n",
              "            preferred_element_type=None\n",
              "          ] d e\n",
              "        in (f,) }\n",
              "      name=dot\n",
              "    ] a b\n",
              "  in (c,) }"
            ]
          },
          "metadata": {},
          "execution_count": 47
        }
      ]
    },
    {
      "cell_type": "code",
      "source": [
        "jax.make_jaxpr(dot_pjo)(v1s,v2s)"
      ],
      "metadata": {
        "colab": {
          "base_uri": "https://localhost:8080/"
        },
        "id": "PJE-4HWRAnko",
        "outputId": "cac8a40b-7026-48e7-9868-a33fbf753a3b"
      },
      "execution_count": null,
      "outputs": [
        {
          "output_type": "execute_result",
          "data": {
            "text/plain": [
              "{ lambda ; a:f32[8,3] b:f32[8,3]. let\n",
              "    c:f32[8] = xla_call[\n",
              "      call_jaxpr={ lambda ; d:f32[8,3] e:f32[8,3]. let\n",
              "          f:f32[8] = xla_pmap[\n",
              "            axis_name=<axis 0x7ff42c7c5700>\n",
              "            axis_size=8\n",
              "            backend=None\n",
              "            call_jaxpr={ lambda ; g:f32[3] h:f32[3]. let\n",
              "                i:f32[] = dot_general[\n",
              "                  dimension_numbers=(((0,), (0,)), ((), ()))\n",
              "                  precision=None\n",
              "                  preferred_element_type=None\n",
              "                ] g h\n",
              "              in (i,) }\n",
              "            devices=None\n",
              "            donated_invars=(False, False)\n",
              "            global_arg_shapes=(None, None)\n",
              "            global_axis_size=None\n",
              "            in_axes=(0, 0)\n",
              "            name=dot\n",
              "            out_axes=(0,)\n",
              "          ] d e\n",
              "        in (f,) }\n",
              "      name=dot\n",
              "    ] a b\n",
              "  in (c,) }"
            ]
          },
          "metadata": {},
          "execution_count": 48
        }
      ]
    },
    {
      "cell_type": "code",
      "source": [
        "jax.make_jaxpr(dot_pji)(v1s,v2s)"
      ],
      "metadata": {
        "colab": {
          "base_uri": "https://localhost:8080/"
        },
        "id": "VH60u2geApK3",
        "outputId": "6f6e4494-295c-49a2-e539-2fb25d7c6c86"
      },
      "execution_count": null,
      "outputs": [
        {
          "output_type": "execute_result",
          "data": {
            "text/plain": [
              "{ lambda ; a:f32[8,3] b:f32[8,3]. let\n",
              "    c:f32[8] = xla_pmap[\n",
              "      axis_name=<axis 0x7ff42e1cf400>\n",
              "      axis_size=8\n",
              "      backend=None\n",
              "      call_jaxpr={ lambda ; d:f32[3] e:f32[3]. let\n",
              "          f:f32[] = xla_call[\n",
              "            call_jaxpr={ lambda ; g:f32[3] h:f32[3]. let\n",
              "                i:f32[] = dot_general[\n",
              "                  dimension_numbers=(((0,), (0,)), ((), ()))\n",
              "                  precision=None\n",
              "                  preferred_element_type=None\n",
              "                ] g h\n",
              "              in (i,) }\n",
              "            name=dot\n",
              "          ] d e\n",
              "        in (f,) }\n",
              "      devices=None\n",
              "      donated_invars=(False, False)\n",
              "      global_arg_shapes=(None, None)\n",
              "      global_axis_size=None\n",
              "      in_axes=(0, 0)\n",
              "      name=dot\n",
              "      out_axes=(0,)\n",
              "    ] a b\n",
              "  in (c,) }"
            ]
          },
          "metadata": {},
          "execution_count": 49
        }
      ]
    },
    {
      "cell_type": "code",
      "source": [
        "jax.make_jaxpr(dot_p)(v1s,v2s)"
      ],
      "metadata": {
        "colab": {
          "base_uri": "https://localhost:8080/"
        },
        "id": "Alc3_10BAotr",
        "outputId": "1a19fdcb-b59b-4435-cf44-da1c333b45c9"
      },
      "execution_count": null,
      "outputs": [
        {
          "output_type": "execute_result",
          "data": {
            "text/plain": [
              "{ lambda ; a:f32[8,3] b:f32[8,3]. let\n",
              "    c:f32[8] = xla_pmap[\n",
              "      axis_name=<axis 0x7ff42c7c5700>\n",
              "      axis_size=8\n",
              "      backend=None\n",
              "      call_jaxpr={ lambda ; d:f32[3] e:f32[3]. let\n",
              "          f:f32[] = dot_general[\n",
              "            dimension_numbers=(((0,), (0,)), ((), ()))\n",
              "            precision=None\n",
              "            preferred_element_type=None\n",
              "          ] d e\n",
              "        in (f,) }\n",
              "      devices=None\n",
              "      donated_invars=(False, False)\n",
              "      global_arg_shapes=(None, None)\n",
              "      global_axis_size=None\n",
              "      in_axes=(0, 0)\n",
              "      name=dot\n",
              "      out_axes=(0,)\n",
              "    ] a b\n",
              "  in (c,) }"
            ]
          },
          "metadata": {},
          "execution_count": 50
        }
      ]
    },
    {
      "cell_type": "markdown",
      "source": [
        "## Controlling pmap() behavior"
      ],
      "metadata": {
        "id": "rB5gg9rvePQb"
      }
    },
    {
      "cell_type": "markdown",
      "source": [
        "### Using in_axes parameter"
      ],
      "metadata": {
        "id": "1_dx8YVoGb-H"
      }
    },
    {
      "cell_type": "markdown",
      "source": [
        "Using a small array just for demonstration purposes"
      ],
      "metadata": {
        "id": "82lZ7bqNT4TN"
      }
    },
    {
      "cell_type": "code",
      "source": [
        "vs = random.normal(rng_key, shape=(16,3))\n",
        "v1s = vs[:8,:]\n",
        "v2s = vs[8:,:]"
      ],
      "metadata": {
        "id": "WKUM9E0jT3sx"
      },
      "execution_count": null,
      "outputs": []
    },
    {
      "cell_type": "code",
      "source": [
        "def dot(v1, v2):\n",
        "  return jnp.vdot(v1, v2)"
      ],
      "metadata": {
        "id": "pmydsax3UEkA"
      },
      "execution_count": null,
      "outputs": []
    },
    {
      "cell_type": "markdown",
      "source": [
        "A default value:"
      ],
      "metadata": {
        "id": "YxGyiGP5mlcK"
      }
    },
    {
      "cell_type": "code",
      "source": [
        "dot_pmapped = jax.pmap(dot, in_axes=(0,0))"
      ],
      "metadata": {
        "id": "_anvIZEhj-bk"
      },
      "execution_count": null,
      "outputs": []
    },
    {
      "cell_type": "code",
      "source": [
        "dot_pmapped(v1s, v2s)"
      ],
      "metadata": {
        "colab": {
          "base_uri": "https://localhost:8080/"
        },
        "id": "ZjEzc-wedMDq",
        "outputId": "e8bea44f-e352-496e-e83f-5bc1cd5afc43"
      },
      "execution_count": null,
      "outputs": [
        {
          "output_type": "execute_result",
          "data": {
            "text/plain": [
              "ShardedDeviceArray([ 0.51048726, -0.7174605 , -0.20105815, -0.26437205,\n",
              "                    -1.3696793 ,  2.744793  ,  1.7936493 , -1.1743435 ],                   dtype=float32)"
            ]
          },
          "metadata": {},
          "execution_count": 54
        }
      ]
    },
    {
      "cell_type": "markdown",
      "source": [
        "What if one of our arrays is transposed (the mapping axis is the second one)?"
      ],
      "metadata": {
        "id": "EdvjNEkoUN-l"
      }
    },
    {
      "cell_type": "code",
      "source": [
        "v1s.T.shape, v2s.shape"
      ],
      "metadata": {
        "colab": {
          "base_uri": "https://localhost:8080/"
        },
        "id": "3CNhCLoZal3p",
        "outputId": "bc3dc3b7-0788-4e11-88b8-b8d2970c5da9"
      },
      "execution_count": null,
      "outputs": [
        {
          "output_type": "execute_result",
          "data": {
            "text/plain": [
              "((3, 8), (8, 3))"
            ]
          },
          "metadata": {},
          "execution_count": 55
        }
      ]
    },
    {
      "cell_type": "code",
      "source": [
        "jax.pmap(dot, in_axes=(1,0))(v1s.T, v2s)"
      ],
      "metadata": {
        "colab": {
          "base_uri": "https://localhost:8080/"
        },
        "id": "Jr-GZ4zmUNXa",
        "outputId": "f52307cd-f11c-42ce-bce3-d1167f32f7be"
      },
      "execution_count": null,
      "outputs": [
        {
          "output_type": "execute_result",
          "data": {
            "text/plain": [
              "ShardedDeviceArray([ 0.51048726, -0.7174605 , -0.20105815, -0.26437205,\n",
              "                    -1.3696793 ,  2.744793  ,  1.7936493 , -1.1743435 ],                   dtype=float32)"
            ]
          },
          "metadata": {},
          "execution_count": 56
        }
      ]
    },
    {
      "cell_type": "code",
      "source": [
        "dot_pmapped(v1s.T, v2s)"
      ],
      "metadata": {
        "colab": {
          "base_uri": "https://localhost:8080/",
          "height": 484
        },
        "id": "4ZTIPUEyUeqJ",
        "outputId": "ca31d1f9-591a-4d78-874c-80fe1e3ac1f0"
      },
      "execution_count": null,
      "outputs": [
        {
          "output_type": "error",
          "ename": "ValueError",
          "evalue": "ignored",
          "traceback": [
            "\u001b[0;31m---------------------------------------------------------------------------\u001b[0m",
            "\u001b[0;31mUnfilteredStackTrace\u001b[0m                      Traceback (most recent call last)",
            "\u001b[0;32m<ipython-input-57-6dcd5f3e5db1>\u001b[0m in \u001b[0;36m<module>\u001b[0;34m\u001b[0m\n\u001b[0;32m----> 1\u001b[0;31m \u001b[0mdot_pmapped\u001b[0m\u001b[0;34m(\u001b[0m\u001b[0mv1s\u001b[0m\u001b[0;34m.\u001b[0m\u001b[0mT\u001b[0m\u001b[0;34m,\u001b[0m \u001b[0mv2s\u001b[0m\u001b[0;34m)\u001b[0m\u001b[0;34m\u001b[0m\u001b[0;34m\u001b[0m\u001b[0m\n\u001b[0m",
            "\u001b[0;32m/usr/local/lib/python3.8/dist-packages/jax/_src/traceback_util.py\u001b[0m in \u001b[0;36mreraise_with_filtered_traceback\u001b[0;34m(*args, **kwargs)\u001b[0m\n\u001b[1;32m    161\u001b[0m     \u001b[0;32mtry\u001b[0m\u001b[0;34m:\u001b[0m\u001b[0;34m\u001b[0m\u001b[0;34m\u001b[0m\u001b[0m\n\u001b[0;32m--> 162\u001b[0;31m       \u001b[0;32mreturn\u001b[0m \u001b[0mfun\u001b[0m\u001b[0;34m(\u001b[0m\u001b[0;34m*\u001b[0m\u001b[0margs\u001b[0m\u001b[0;34m,\u001b[0m \u001b[0;34m**\u001b[0m\u001b[0mkwargs\u001b[0m\u001b[0;34m)\u001b[0m\u001b[0;34m\u001b[0m\u001b[0;34m\u001b[0m\u001b[0m\n\u001b[0m\u001b[1;32m    163\u001b[0m     \u001b[0;32mexcept\u001b[0m \u001b[0mException\u001b[0m \u001b[0;32mas\u001b[0m \u001b[0me\u001b[0m\u001b[0;34m:\u001b[0m\u001b[0;34m\u001b[0m\u001b[0;34m\u001b[0m\u001b[0m\n",
            "\u001b[0;32m/usr/local/lib/python3.8/dist-packages/jax/_src/api.py\u001b[0m in \u001b[0;36mcache_miss\u001b[0;34m(*args, **kwargs)\u001b[0m\n\u001b[1;32m   2232\u001b[0m   \u001b[0;32mdef\u001b[0m \u001b[0mcache_miss\u001b[0m\u001b[0;34m(\u001b[0m\u001b[0;34m*\u001b[0m\u001b[0margs\u001b[0m\u001b[0;34m,\u001b[0m \u001b[0;34m**\u001b[0m\u001b[0mkwargs\u001b[0m\u001b[0;34m)\u001b[0m\u001b[0;34m:\u001b[0m\u001b[0;34m\u001b[0m\u001b[0;34m\u001b[0m\u001b[0m\n\u001b[0;32m-> 2233\u001b[0;31m     p = _prepare_pmap(fun, in_axes, out_axes, static_broadcasted_tuple,\n\u001b[0m\u001b[1;32m   2234\u001b[0m                       donate_tuple, global_arg_shapes, devices, args, kwargs)\n",
            "\u001b[0;32m/usr/local/lib/python3.8/dist-packages/jax/_src/api.py\u001b[0m in \u001b[0;36m_prepare_pmap\u001b[0;34m(fun, in_axes, out_axes, static_broadcasted_tuple, donate_tuple, global_arg_shapes, in_devices, args, kwargs)\u001b[0m\n\u001b[1;32m   2059\u001b[0m       kws=True))\n\u001b[0;32m-> 2060\u001b[0;31m   \u001b[0mlocal_axis_size\u001b[0m \u001b[0;34m=\u001b[0m \u001b[0m_mapped_axis_size\u001b[0m\u001b[0;34m(\u001b[0m\u001b[0mfun\u001b[0m\u001b[0;34m,\u001b[0m \u001b[0min_tree\u001b[0m\u001b[0;34m,\u001b[0m \u001b[0margs\u001b[0m\u001b[0;34m,\u001b[0m \u001b[0min_axes_flat\u001b[0m\u001b[0;34m,\u001b[0m \u001b[0;34m\"pmap\"\u001b[0m\u001b[0;34m)\u001b[0m\u001b[0;34m\u001b[0m\u001b[0;34m\u001b[0m\u001b[0m\n\u001b[0m\u001b[1;32m   2061\u001b[0m \u001b[0;34m\u001b[0m\u001b[0m\n",
            "\u001b[0;32m/usr/local/lib/python3.8/dist-packages/jax/_src/api.py\u001b[0m in \u001b[0;36m_mapped_axis_size\u001b[0;34m(fn, tree, vals, dims, name)\u001b[0m\n\u001b[1;32m   1753\u001b[0m       \u001b[0mmsg\u001b[0m\u001b[0;34m.\u001b[0m\u001b[0mappend\u001b[0m\u001b[0;34m(\u001b[0m\u001b[0;34mf\"  * some axes ({ct} of them) had size {sz}, e.g. axis {ax} of {ex};\\n\"\u001b[0m\u001b[0;34m)\u001b[0m\u001b[0;34m\u001b[0m\u001b[0;34m\u001b[0m\u001b[0m\n\u001b[0;32m-> 1754\u001b[0;31m   \u001b[0;32mraise\u001b[0m \u001b[0mValueError\u001b[0m\u001b[0;34m(\u001b[0m\u001b[0;34m''\u001b[0m\u001b[0;34m.\u001b[0m\u001b[0mjoin\u001b[0m\u001b[0;34m(\u001b[0m\u001b[0mmsg\u001b[0m\u001b[0;34m)\u001b[0m\u001b[0;34m[\u001b[0m\u001b[0;34m:\u001b[0m\u001b[0;34m-\u001b[0m\u001b[0;36m2\u001b[0m\u001b[0;34m]\u001b[0m\u001b[0;34m)\u001b[0m  \u001b[0;31m# remove last semicolon and newline\u001b[0m\u001b[0;34m\u001b[0m\u001b[0;34m\u001b[0m\u001b[0m\n\u001b[0m\u001b[1;32m   1755\u001b[0m \u001b[0;34m\u001b[0m\u001b[0m\n",
            "\u001b[0;31mUnfilteredStackTrace\u001b[0m: ValueError: pmap got inconsistent sizes for array axes to be mapped:\n  * one axis had size 3: axis 0 of argument v1 of type float32[3,8];\n  * one axis had size 8: axis 0 of argument v2 of type float32[8,3]\n\nThe stack trace below excludes JAX-internal frames.\nThe preceding is the original exception that occurred, unmodified.\n\n--------------------",
            "\nThe above exception was the direct cause of the following exception:\n",
            "\u001b[0;31mValueError\u001b[0m                                Traceback (most recent call last)",
            "\u001b[0;32m<ipython-input-57-6dcd5f3e5db1>\u001b[0m in \u001b[0;36m<module>\u001b[0;34m\u001b[0m\n\u001b[0;32m----> 1\u001b[0;31m \u001b[0mdot_pmapped\u001b[0m\u001b[0;34m(\u001b[0m\u001b[0mv1s\u001b[0m\u001b[0;34m.\u001b[0m\u001b[0mT\u001b[0m\u001b[0;34m,\u001b[0m \u001b[0mv2s\u001b[0m\u001b[0;34m)\u001b[0m\u001b[0;34m\u001b[0m\u001b[0;34m\u001b[0m\u001b[0m\n\u001b[0m",
            "\u001b[0;31mValueError\u001b[0m: pmap got inconsistent sizes for array axes to be mapped:\n  * one axis had size 3: axis 0 of argument v1 of type float32[3,8];\n  * one axis had size 8: axis 0 of argument v2 of type float32[8,3]"
          ]
        }
      ]
    },
    {
      "cell_type": "code",
      "source": [
        "v1s.T.shape, v2s.T.shape"
      ],
      "metadata": {
        "colab": {
          "base_uri": "https://localhost:8080/"
        },
        "id": "QQub20ZTauM9",
        "outputId": "d026b6f2-62b0-49c2-a218-e394dffb44ed"
      },
      "execution_count": null,
      "outputs": [
        {
          "output_type": "execute_result",
          "data": {
            "text/plain": [
              "((3, 8), (3, 8))"
            ]
          },
          "metadata": {},
          "execution_count": 58
        }
      ]
    },
    {
      "cell_type": "code",
      "source": [
        "jax.pmap(dot, in_axes=(1,1))(v1s.T, v2s.T)"
      ],
      "metadata": {
        "colab": {
          "base_uri": "https://localhost:8080/"
        },
        "id": "HXY3CZ9uUjIb",
        "outputId": "a357d646-66d3-4539-d844-fc14e90fd494"
      },
      "execution_count": null,
      "outputs": [
        {
          "output_type": "execute_result",
          "data": {
            "text/plain": [
              "ShardedDeviceArray([ 0.51048726, -0.7174605 , -0.20105815, -0.26437205,\n",
              "                    -1.3696793 ,  2.744793  ,  1.7936493 , -1.1743435 ],                   dtype=float32)"
            ]
          },
          "metadata": {},
          "execution_count": 59
        }
      ]
    },
    {
      "cell_type": "code",
      "source": [
        "dot_pmapped(v1s.T, v2s.T)"
      ],
      "metadata": {
        "colab": {
          "base_uri": "https://localhost:8080/"
        },
        "id": "rgsH99-1UoWA",
        "outputId": "df2f4992-8e9b-487c-cae4-7d8d90857eb2"
      },
      "execution_count": null,
      "outputs": [
        {
          "output_type": "execute_result",
          "data": {
            "text/plain": [
              "ShardedDeviceArray([ 0.00782511, -0.31532776,  1.6295187 ], dtype=float32)"
            ]
          },
          "metadata": {},
          "execution_count": 60
        }
      ]
    },
    {
      "cell_type": "markdown",
      "source": [
        "A more complicated case:"
      ],
      "metadata": {
        "id": "gqz7L6uSmqPc"
      }
    },
    {
      "cell_type": "code",
      "source": [
        "def scaled_dot(v1, v2, koeff):\n",
        "  return koeff*jnp.vdot(v1, v2)"
      ],
      "metadata": {
        "id": "q7ZB2g1GdWJz"
      },
      "execution_count": null,
      "outputs": []
    },
    {
      "cell_type": "code",
      "source": [
        "v1s_ = v1s\n",
        "v2s_ = v2s.T\n",
        "k = 1.0"
      ],
      "metadata": {
        "id": "yjHKGd1-diSw"
      },
      "execution_count": null,
      "outputs": []
    },
    {
      "cell_type": "code",
      "source": [
        "v1s_.shape, v2s_.shape"
      ],
      "metadata": {
        "colab": {
          "base_uri": "https://localhost:8080/"
        },
        "id": "LU0SfSJieggS",
        "outputId": "cb9f47af-42b5-48a8-9c4e-6e9748368ce2"
      },
      "execution_count": null,
      "outputs": [
        {
          "output_type": "execute_result",
          "data": {
            "text/plain": [
              "((8, 3), (3, 8))"
            ]
          },
          "metadata": {},
          "execution_count": 63
        }
      ]
    },
    {
      "cell_type": "code",
      "source": [
        "scaled_dot_pmapped = jax.pmap(scaled_dot)"
      ],
      "metadata": {
        "id": "ymOex9oHemQ8"
      },
      "execution_count": null,
      "outputs": []
    },
    {
      "cell_type": "markdown",
      "source": [
        "Default values do not work:"
      ],
      "metadata": {
        "id": "Q-pqO8b_muy4"
      }
    },
    {
      "cell_type": "code",
      "source": [
        "scaled_dot_pmapped(v1s_, v2s_, k)"
      ],
      "metadata": {
        "colab": {
          "base_uri": "https://localhost:8080/",
          "height": 536
        },
        "id": "dbFc89nYfaH8",
        "outputId": "c12cee99-00b9-4343-ad51-5ce9b7588d99"
      },
      "execution_count": null,
      "outputs": [
        {
          "output_type": "error",
          "ename": "ValueError",
          "evalue": "ignored",
          "traceback": [
            "\u001b[0;31m---------------------------------------------------------------------------\u001b[0m",
            "\u001b[0;31mIndexError\u001b[0m                                Traceback (most recent call last)",
            "\u001b[0;32m/usr/local/lib/python3.8/dist-packages/jax/_src/api.py\u001b[0m in \u001b[0;36m_get_axis_size\u001b[0;34m(name, shape, axis)\u001b[0m\n\u001b[1;32m   1701\u001b[0m     \u001b[0;32mtry\u001b[0m\u001b[0;34m:\u001b[0m\u001b[0;34m\u001b[0m\u001b[0;34m\u001b[0m\u001b[0m\n\u001b[0;32m-> 1702\u001b[0;31m       \u001b[0;32mreturn\u001b[0m \u001b[0mshape\u001b[0m\u001b[0;34m[\u001b[0m\u001b[0maxis\u001b[0m\u001b[0;34m]\u001b[0m\u001b[0;34m\u001b[0m\u001b[0;34m\u001b[0m\u001b[0m\n\u001b[0m\u001b[1;32m   1703\u001b[0m     \u001b[0;32mexcept\u001b[0m \u001b[0;34m(\u001b[0m\u001b[0mIndexError\u001b[0m\u001b[0;34m,\u001b[0m \u001b[0mTypeError\u001b[0m\u001b[0;34m)\u001b[0m \u001b[0;32mas\u001b[0m \u001b[0me\u001b[0m\u001b[0;34m:\u001b[0m\u001b[0;34m\u001b[0m\u001b[0;34m\u001b[0m\u001b[0m\n",
            "\u001b[0;31mIndexError\u001b[0m: tuple index out of range",
            "\nThe above exception was the direct cause of the following exception:\n",
            "\u001b[0;31mUnfilteredStackTrace\u001b[0m                      Traceback (most recent call last)",
            "\u001b[0;32m<ipython-input-65-101fdb79805f>\u001b[0m in \u001b[0;36m<module>\u001b[0;34m\u001b[0m\n\u001b[0;32m----> 1\u001b[0;31m \u001b[0mscaled_dot_pmapped\u001b[0m\u001b[0;34m(\u001b[0m\u001b[0mv1s_\u001b[0m\u001b[0;34m,\u001b[0m \u001b[0mv2s_\u001b[0m\u001b[0;34m,\u001b[0m \u001b[0mk\u001b[0m\u001b[0;34m)\u001b[0m\u001b[0;34m\u001b[0m\u001b[0;34m\u001b[0m\u001b[0m\n\u001b[0m",
            "\u001b[0;32m/usr/local/lib/python3.8/dist-packages/jax/_src/traceback_util.py\u001b[0m in \u001b[0;36mreraise_with_filtered_traceback\u001b[0;34m(*args, **kwargs)\u001b[0m\n\u001b[1;32m    161\u001b[0m     \u001b[0;32mtry\u001b[0m\u001b[0;34m:\u001b[0m\u001b[0;34m\u001b[0m\u001b[0;34m\u001b[0m\u001b[0m\n\u001b[0;32m--> 162\u001b[0;31m       \u001b[0;32mreturn\u001b[0m \u001b[0mfun\u001b[0m\u001b[0;34m(\u001b[0m\u001b[0;34m*\u001b[0m\u001b[0margs\u001b[0m\u001b[0;34m,\u001b[0m \u001b[0;34m**\u001b[0m\u001b[0mkwargs\u001b[0m\u001b[0;34m)\u001b[0m\u001b[0;34m\u001b[0m\u001b[0;34m\u001b[0m\u001b[0m\n\u001b[0m\u001b[1;32m    163\u001b[0m     \u001b[0;32mexcept\u001b[0m \u001b[0mException\u001b[0m \u001b[0;32mas\u001b[0m \u001b[0me\u001b[0m\u001b[0;34m:\u001b[0m\u001b[0;34m\u001b[0m\u001b[0;34m\u001b[0m\u001b[0m\n",
            "\u001b[0;32m/usr/local/lib/python3.8/dist-packages/jax/_src/api.py\u001b[0m in \u001b[0;36mcache_miss\u001b[0;34m(*args, **kwargs)\u001b[0m\n\u001b[1;32m   2232\u001b[0m   \u001b[0;32mdef\u001b[0m \u001b[0mcache_miss\u001b[0m\u001b[0;34m(\u001b[0m\u001b[0;34m*\u001b[0m\u001b[0margs\u001b[0m\u001b[0;34m,\u001b[0m \u001b[0;34m**\u001b[0m\u001b[0mkwargs\u001b[0m\u001b[0;34m)\u001b[0m\u001b[0;34m:\u001b[0m\u001b[0;34m\u001b[0m\u001b[0;34m\u001b[0m\u001b[0m\n\u001b[0;32m-> 2233\u001b[0;31m     p = _prepare_pmap(fun, in_axes, out_axes, static_broadcasted_tuple,\n\u001b[0m\u001b[1;32m   2234\u001b[0m                       donate_tuple, global_arg_shapes, devices, args, kwargs)\n",
            "\u001b[0;32m/usr/local/lib/python3.8/dist-packages/jax/_src/api.py\u001b[0m in \u001b[0;36m_prepare_pmap\u001b[0;34m(fun, in_axes, out_axes, static_broadcasted_tuple, donate_tuple, global_arg_shapes, in_devices, args, kwargs)\u001b[0m\n\u001b[1;32m   2059\u001b[0m       kws=True))\n\u001b[0;32m-> 2060\u001b[0;31m   \u001b[0mlocal_axis_size\u001b[0m \u001b[0;34m=\u001b[0m \u001b[0m_mapped_axis_size\u001b[0m\u001b[0;34m(\u001b[0m\u001b[0mfun\u001b[0m\u001b[0;34m,\u001b[0m \u001b[0min_tree\u001b[0m\u001b[0;34m,\u001b[0m \u001b[0margs\u001b[0m\u001b[0;34m,\u001b[0m \u001b[0min_axes_flat\u001b[0m\u001b[0;34m,\u001b[0m \u001b[0;34m\"pmap\"\u001b[0m\u001b[0;34m)\u001b[0m\u001b[0;34m\u001b[0m\u001b[0;34m\u001b[0m\u001b[0m\n\u001b[0m\u001b[1;32m   2061\u001b[0m \u001b[0;34m\u001b[0m\u001b[0m\n",
            "\u001b[0;32m/usr/local/lib/python3.8/dist-packages/jax/_src/api.py\u001b[0m in \u001b[0;36m_mapped_axis_size\u001b[0;34m(fn, tree, vals, dims, name)\u001b[0m\n\u001b[1;32m   1710\u001b[0m \u001b[0;34m\u001b[0m\u001b[0m\n\u001b[0;32m-> 1711\u001b[0;31m   sizes = core.dedup_referents(_get_axis_size(name, np.shape(x), d)\n\u001b[0m\u001b[1;32m   1712\u001b[0m                                for x, d in zip(vals, dims) if d is not None)\n",
            "\u001b[0;32m/usr/local/lib/python3.8/dist-packages/jax/core.py\u001b[0m in \u001b[0;36mdedup_referents\u001b[0;34m(itr)\u001b[0m\n\u001b[1;32m   1137\u001b[0m \u001b[0;32mdef\u001b[0m \u001b[0mdedup_referents\u001b[0m\u001b[0;34m(\u001b[0m\u001b[0mitr\u001b[0m\u001b[0;34m:\u001b[0m \u001b[0mIterable\u001b[0m\u001b[0;34m[\u001b[0m\u001b[0mAny\u001b[0m\u001b[0;34m]\u001b[0m\u001b[0;34m)\u001b[0m \u001b[0;34m->\u001b[0m \u001b[0mList\u001b[0m\u001b[0;34m[\u001b[0m\u001b[0mAny\u001b[0m\u001b[0;34m]\u001b[0m\u001b[0;34m:\u001b[0m\u001b[0;34m\u001b[0m\u001b[0;34m\u001b[0m\u001b[0m\n\u001b[0;32m-> 1138\u001b[0;31m   \u001b[0;32mreturn\u001b[0m \u001b[0mlist\u001b[0m\u001b[0;34m(\u001b[0m\u001b[0;34m{\u001b[0m\u001b[0mHashableWrapper\u001b[0m\u001b[0;34m(\u001b[0m\u001b[0mget_referent\u001b[0m\u001b[0;34m(\u001b[0m\u001b[0mx\u001b[0m\u001b[0;34m)\u001b[0m\u001b[0;34m)\u001b[0m\u001b[0;34m:\u001b[0m\u001b[0mx\u001b[0m \u001b[0;32mfor\u001b[0m \u001b[0mx\u001b[0m \u001b[0;32min\u001b[0m \u001b[0mitr\u001b[0m\u001b[0;34m}\u001b[0m\u001b[0;34m.\u001b[0m\u001b[0mvalues\u001b[0m\u001b[0;34m(\u001b[0m\u001b[0;34m)\u001b[0m\u001b[0;34m)\u001b[0m\u001b[0;34m\u001b[0m\u001b[0;34m\u001b[0m\u001b[0m\n\u001b[0m\u001b[1;32m   1139\u001b[0m \u001b[0;34m\u001b[0m\u001b[0m\n",
            "\u001b[0;32m/usr/local/lib/python3.8/dist-packages/jax/core.py\u001b[0m in \u001b[0;36m<dictcomp>\u001b[0;34m(.0)\u001b[0m\n\u001b[1;32m   1137\u001b[0m \u001b[0;32mdef\u001b[0m \u001b[0mdedup_referents\u001b[0m\u001b[0;34m(\u001b[0m\u001b[0mitr\u001b[0m\u001b[0;34m:\u001b[0m \u001b[0mIterable\u001b[0m\u001b[0;34m[\u001b[0m\u001b[0mAny\u001b[0m\u001b[0;34m]\u001b[0m\u001b[0;34m)\u001b[0m \u001b[0;34m->\u001b[0m \u001b[0mList\u001b[0m\u001b[0;34m[\u001b[0m\u001b[0mAny\u001b[0m\u001b[0;34m]\u001b[0m\u001b[0;34m:\u001b[0m\u001b[0;34m\u001b[0m\u001b[0;34m\u001b[0m\u001b[0m\n\u001b[0;32m-> 1138\u001b[0;31m   \u001b[0;32mreturn\u001b[0m \u001b[0mlist\u001b[0m\u001b[0;34m(\u001b[0m\u001b[0;34m{\u001b[0m\u001b[0mHashableWrapper\u001b[0m\u001b[0;34m(\u001b[0m\u001b[0mget_referent\u001b[0m\u001b[0;34m(\u001b[0m\u001b[0mx\u001b[0m\u001b[0;34m)\u001b[0m\u001b[0;34m)\u001b[0m\u001b[0;34m:\u001b[0m\u001b[0mx\u001b[0m \u001b[0;32mfor\u001b[0m \u001b[0mx\u001b[0m \u001b[0;32min\u001b[0m \u001b[0mitr\u001b[0m\u001b[0;34m}\u001b[0m\u001b[0;34m.\u001b[0m\u001b[0mvalues\u001b[0m\u001b[0;34m(\u001b[0m\u001b[0;34m)\u001b[0m\u001b[0;34m)\u001b[0m\u001b[0;34m\u001b[0m\u001b[0;34m\u001b[0m\u001b[0m\n\u001b[0m\u001b[1;32m   1139\u001b[0m \u001b[0;34m\u001b[0m\u001b[0m\n",
            "\u001b[0;32m/usr/local/lib/python3.8/dist-packages/jax/_src/api.py\u001b[0m in \u001b[0;36m<genexpr>\u001b[0;34m(.0)\u001b[0m\n\u001b[1;32m   1710\u001b[0m \u001b[0;34m\u001b[0m\u001b[0m\n\u001b[0;32m-> 1711\u001b[0;31m   sizes = core.dedup_referents(_get_axis_size(name, np.shape(x), d)\n\u001b[0m\u001b[1;32m   1712\u001b[0m                                for x, d in zip(vals, dims) if d is not None)\n",
            "\u001b[0;32m/usr/local/lib/python3.8/dist-packages/jax/_src/api.py\u001b[0m in \u001b[0;36m_get_axis_size\u001b[0;34m(name, shape, axis)\u001b[0m\n\u001b[1;32m   1705\u001b[0m       \u001b[0;31m# TODO(mattjj): better error message here\u001b[0m\u001b[0;34m\u001b[0m\u001b[0;34m\u001b[0m\u001b[0;34m\u001b[0m\u001b[0m\n\u001b[0;32m-> 1706\u001b[0;31m       raise ValueError(\n\u001b[0m\u001b[1;32m   1707\u001b[0m           \u001b[0;34mf\"{name} was requested to map its argument along axis {axis}, \"\u001b[0m\u001b[0;34m\u001b[0m\u001b[0;34m\u001b[0m\u001b[0m\n",
            "\u001b[0;31mUnfilteredStackTrace\u001b[0m: ValueError: pmap was requested to map its argument along axis 0, which implies that its rank should be at least 1, but is only 0 (its shape is ())\n\nThe stack trace below excludes JAX-internal frames.\nThe preceding is the original exception that occurred, unmodified.\n\n--------------------",
            "\nThe above exception was the direct cause of the following exception:\n",
            "\u001b[0;31mValueError\u001b[0m                                Traceback (most recent call last)",
            "\u001b[0;32m<ipython-input-65-101fdb79805f>\u001b[0m in \u001b[0;36m<module>\u001b[0;34m\u001b[0m\n\u001b[0;32m----> 1\u001b[0;31m \u001b[0mscaled_dot_pmapped\u001b[0m\u001b[0;34m(\u001b[0m\u001b[0mv1s_\u001b[0m\u001b[0;34m,\u001b[0m \u001b[0mv2s_\u001b[0m\u001b[0;34m,\u001b[0m \u001b[0mk\u001b[0m\u001b[0;34m)\u001b[0m\u001b[0;34m\u001b[0m\u001b[0;34m\u001b[0m\u001b[0m\n\u001b[0m",
            "\u001b[0;31mValueError\u001b[0m: pmap was requested to map its argument along axis 0, which implies that its rank should be at least 1, but is only 0 (its shape is ())"
          ]
        }
      ]
    },
    {
      "cell_type": "code",
      "source": [
        "scaled_dot_pmapped = jax.pmap(scaled_dot, in_axes=(0,1,None))"
      ],
      "metadata": {
        "id": "9dTFcAHQfdVf"
      },
      "execution_count": null,
      "outputs": []
    },
    {
      "cell_type": "code",
      "source": [
        "scaled_dot_pmapped(v1s_, v2s_, k)"
      ],
      "metadata": {
        "colab": {
          "base_uri": "https://localhost:8080/"
        },
        "id": "A2f452A9flEO",
        "outputId": "d45bef40-a9d1-4ca7-f74d-bd78bb2a4c67"
      },
      "execution_count": null,
      "outputs": [
        {
          "output_type": "execute_result",
          "data": {
            "text/plain": [
              "ShardedDeviceArray([ 0.51048726, -0.7174605 , -0.20105815, -0.26437205,\n",
              "                    -1.3696793 ,  2.744793  ,  1.7936493 , -1.1743435 ],                   dtype=float32)"
            ]
          },
          "metadata": {},
          "execution_count": 67
        }
      ]
    },
    {
      "cell_type": "markdown",
      "source": [
        "Using more complex parameter structure:"
      ],
      "metadata": {
        "id": "PVSBhIYAmyi4"
      }
    },
    {
      "cell_type": "code",
      "source": [
        "def scaled_dot(data, koeff):\n",
        "  return koeff*jnp.vdot(data['a'], data['b'])"
      ],
      "metadata": {
        "id": "6cuNZDUZiMEH"
      },
      "execution_count": null,
      "outputs": []
    },
    {
      "cell_type": "code",
      "source": [
        "scaled_dot_pmapped = jax.pmap(scaled_dot, in_axes=({'a':0,'b':1},None))"
      ],
      "metadata": {
        "id": "pfdMJ7eeijRq"
      },
      "execution_count": null,
      "outputs": []
    },
    {
      "cell_type": "code",
      "source": [
        "scaled_dot_pmapped({'a':v1s_, 'b': v2s_}, k)"
      ],
      "metadata": {
        "colab": {
          "base_uri": "https://localhost:8080/"
        },
        "id": "lMjD-rsCivBv",
        "outputId": "62aab5c6-8355-4a7b-cfb5-28ba34ae31da"
      },
      "execution_count": null,
      "outputs": [
        {
          "output_type": "execute_result",
          "data": {
            "text/plain": [
              "ShardedDeviceArray([ 0.51048726, -0.7174605 , -0.20105815, -0.26437205,\n",
              "                    -1.3696793 ,  2.744793  ,  1.7936493 , -1.1743435 ],                   dtype=float32)"
            ]
          },
          "metadata": {},
          "execution_count": 70
        }
      ]
    },
    {
      "cell_type": "markdown",
      "source": [
        "### Using out_axes parameter"
      ],
      "metadata": {
        "id": "72VWPGXrm5du"
      }
    },
    {
      "cell_type": "code",
      "source": [
        "def scale(v, koeff):\n",
        "  return koeff*v"
      ],
      "metadata": {
        "id": "dv3wsrlJm7BB"
      },
      "execution_count": null,
      "outputs": []
    },
    {
      "cell_type": "code",
      "source": [
        "scale_pmapped = jax.pmap(scale, \n",
        "                         in_axes=(0,None), \n",
        "                         out_axes=(1))"
      ],
      "metadata": {
        "id": "C34aK9bgnBed"
      },
      "execution_count": null,
      "outputs": []
    },
    {
      "cell_type": "code",
      "source": [
        "res = scale_pmapped(v1s, 2.0)"
      ],
      "metadata": {
        "id": "DodCkW4oiz2p"
      },
      "execution_count": null,
      "outputs": []
    },
    {
      "cell_type": "code",
      "source": [
        "v1s.shape, res.shape"
      ],
      "metadata": {
        "colab": {
          "base_uri": "https://localhost:8080/"
        },
        "id": "0UTVvz2ZgPQj",
        "outputId": "06876d57-8aa2-438f-8e9e-a84a03dc423a"
      },
      "execution_count": null,
      "outputs": [
        {
          "output_type": "execute_result",
          "data": {
            "text/plain": [
              "((8, 3), (3, 8))"
            ]
          },
          "metadata": {},
          "execution_count": 74
        }
      ]
    },
    {
      "cell_type": "code",
      "source": [
        "scale_pmapped = jax.pmap(scale, in_axes=(0,None))"
      ],
      "metadata": {
        "id": "DGrRn25qnYrj"
      },
      "execution_count": null,
      "outputs": []
    },
    {
      "cell_type": "code",
      "source": [
        "scale_pmapped(v1s, 2.0)"
      ],
      "metadata": {
        "colab": {
          "base_uri": "https://localhost:8080/"
        },
        "id": "4qzPVn_znZ3o",
        "outputId": "5e730c73-4719-4b81-b52e-f89b8a1c81ab"
      },
      "execution_count": null,
      "outputs": [
        {
          "output_type": "execute_result",
          "data": {
            "text/plain": [
              "ShardedDeviceArray([[-0.44077486, -1.7589345 , -1.7889494 ],\n",
              "                    [-0.5077695 , -0.6062154 ,  0.8972974 ],\n",
              "                    [-1.2127566 ,  0.33352432, -0.9126665 ],\n",
              "                    [-0.41174212,  1.8439273 ,  1.8103753 ],\n",
              "                    [ 0.550015  , -2.7737749 , -1.8786148 ],\n",
              "                    [-0.13278721, -2.1072452 ,  2.6899092 ],\n",
              "                    [-0.3347797 ,  2.1231527 , -3.6858454 ],\n",
              "                    [-0.24115095,  2.8006103 , -1.3478842 ]],                   dtype=float32)"
            ]
          },
          "metadata": {},
          "execution_count": 76
        }
      ]
    },
    {
      "cell_type": "code",
      "source": [
        "scale_pmapped = jax.pmap(scale, \n",
        "                         in_axes=(0,None), \n",
        "                         out_axes=None)"
      ],
      "metadata": {
        "id": "K5Jps90J6HLw"
      },
      "execution_count": null,
      "outputs": []
    },
    {
      "cell_type": "markdown",
      "source": [
        "## A more real-life case with larger tensors and mixing vmap and pmap"
      ],
      "metadata": {
        "id": "ru8LmRBtYavl"
      }
    },
    {
      "cell_type": "code",
      "source": [
        "vs = random.normal(rng_key, shape=(20_000_000,3))\n",
        "v1s = vs[:10_000_000,:].T\n",
        "v2s = vs[10_000_000:,:].T"
      ],
      "metadata": {
        "id": "wGaZtjJ1hqw7"
      },
      "execution_count": null,
      "outputs": []
    },
    {
      "cell_type": "code",
      "source": [
        "v1s.shape, v2s.shape"
      ],
      "metadata": {
        "colab": {
          "base_uri": "https://localhost:8080/"
        },
        "id": "hasxnv11h-bb",
        "outputId": "685aaa62-d6dd-434f-f68d-9603bf30b8a7"
      },
      "execution_count": null,
      "outputs": [
        {
          "output_type": "execute_result",
          "data": {
            "text/plain": [
              "((3, 10000000), (3, 10000000))"
            ]
          },
          "metadata": {},
          "execution_count": 93
        }
      ]
    },
    {
      "cell_type": "code",
      "source": [
        "v1sp = v1s.reshape((v1s.shape[0], 8, v1s.shape[1]//8))\n",
        "v2sp = v2s.reshape((v2s.shape[0], 8, v2s.shape[1]//8))\n",
        "v1sp.shape, v2sp.shape"
      ],
      "metadata": {
        "colab": {
          "base_uri": "https://localhost:8080/"
        },
        "id": "lOkDY2wromwx",
        "outputId": "ba047b11-10d7-44f4-909c-3c7aadf4d4b3"
      },
      "execution_count": null,
      "outputs": [
        {
          "output_type": "execute_result",
          "data": {
            "text/plain": [
              "((3, 8, 1250000), (3, 8, 1250000))"
            ]
          },
          "metadata": {},
          "execution_count": 104
        }
      ]
    },
    {
      "cell_type": "code",
      "source": [
        "dot_parallel = jax.pmap(\n",
        "    jax.vmap(dot, in_axes=(1,1)),\n",
        "    in_axes=(1,1)\n",
        ")"
      ],
      "metadata": {
        "id": "wRgFXKt-o0aQ"
      },
      "execution_count": null,
      "outputs": []
    },
    {
      "cell_type": "code",
      "source": [
        "x_pmap = dot_parallel(v1sp,v2sp)"
      ],
      "metadata": {
        "id": "tEa0RhW0pW5X"
      },
      "execution_count": null,
      "outputs": []
    },
    {
      "cell_type": "code",
      "source": [
        "x_pmap.shape"
      ],
      "metadata": {
        "colab": {
          "base_uri": "https://localhost:8080/"
        },
        "id": "Wxz83U68pb0I",
        "outputId": "1fe59c24-584e-4578-9f7d-ce25e24e28b6"
      },
      "execution_count": null,
      "outputs": [
        {
          "output_type": "execute_result",
          "data": {
            "text/plain": [
              "(8, 1250000)"
            ]
          },
          "metadata": {},
          "execution_count": 107
        }
      ]
    },
    {
      "cell_type": "code",
      "source": [
        "x_pmap = x_pmap.reshape((x_pmap.shape[0]*x_pmap.shape[1]))\n",
        "x_pmap.shape"
      ],
      "metadata": {
        "colab": {
          "base_uri": "https://localhost:8080/"
        },
        "id": "1kEHvzk5pmLe",
        "outputId": "527665b0-5316-453b-d8b8-3b19fe22ea90"
      },
      "execution_count": null,
      "outputs": [
        {
          "output_type": "execute_result",
          "data": {
            "text/plain": [
              "(10000000,)"
            ]
          },
          "metadata": {},
          "execution_count": 108
        }
      ]
    },
    {
      "cell_type": "code",
      "source": [
        "jax.numpy.all(x_pmap == x_vmap)"
      ],
      "metadata": {
        "colab": {
          "base_uri": "https://localhost:8080/"
        },
        "id": "m-AaCUnGpp4l",
        "outputId": "38b02f92-9ab9-45c6-9a12-3aa90c4fcbe5"
      },
      "execution_count": null,
      "outputs": [
        {
          "output_type": "execute_result",
          "data": {
            "text/plain": [
              "DeviceArray(True, dtype=bool)"
            ]
          },
          "metadata": {},
          "execution_count": 109
        }
      ]
    },
    {
      "cell_type": "code",
      "source": [
        "x_pmap[:3]"
      ],
      "metadata": {
        "colab": {
          "base_uri": "https://localhost:8080/"
        },
        "id": "Yd_Y1-YOpvdU",
        "outputId": "3ce5dc64-ac54-455f-89f5-7a154d1994b1"
      },
      "execution_count": null,
      "outputs": [
        {
          "output_type": "execute_result",
          "data": {
            "text/plain": [
              "DeviceArray([ 1.1981742, -3.0097814, -2.539115 ], dtype=float32)"
            ]
          },
          "metadata": {},
          "execution_count": 110
        }
      ]
    },
    {
      "cell_type": "code",
      "source": [
        "x_vmap[:3]"
      ],
      "metadata": {
        "colab": {
          "base_uri": "https://localhost:8080/"
        },
        "id": "0VbvxplMpy22",
        "outputId": "9461f760-ef52-4ebd-8b20-d8422ef81a18"
      },
      "execution_count": null,
      "outputs": [
        {
          "output_type": "execute_result",
          "data": {
            "text/plain": [
              "DeviceArray([ 1.1981742, -3.0097814, -2.539115 ], dtype=float32)"
            ]
          },
          "metadata": {},
          "execution_count": 111
        }
      ]
    },
    {
      "cell_type": "markdown",
      "source": [
        "## Using collective ops and the axis_name parameter"
      ],
      "metadata": {
        "id": "7zxdlwUP14or"
      }
    },
    {
      "cell_type": "markdown",
      "source": [
        "### Normalization examples"
      ],
      "metadata": {
        "id": "dF2ONW2AhMVd"
      }
    },
    {
      "cell_type": "markdown",
      "source": [
        "A small array example"
      ],
      "metadata": {
        "id": "POmEA_DwhRD6"
      }
    },
    {
      "cell_type": "code",
      "source": [
        "arr = jnp.array(range(8))"
      ],
      "metadata": {
        "id": "DrWA7KPZ196e"
      },
      "execution_count": null,
      "outputs": []
    },
    {
      "cell_type": "code",
      "source": [
        "arr"
      ],
      "metadata": {
        "colab": {
          "base_uri": "https://localhost:8080/"
        },
        "id": "iGDJGEfn245M",
        "outputId": "c80470d6-1a39-48d6-aadc-f27d9f8334a5"
      },
      "execution_count": null,
      "outputs": [
        {
          "output_type": "execute_result",
          "data": {
            "text/plain": [
              "DeviceArray([0, 1, 2, 3, 4, 5, 6, 7], dtype=int32)"
            ]
          },
          "metadata": {},
          "execution_count": 6
        }
      ]
    },
    {
      "cell_type": "code",
      "source": [
        "norm = jax.pmap(\n",
        "    lambda x: x/jax.lax.psum(x, axis_name='p'),\n",
        "    axis_name='p')"
      ],
      "metadata": {
        "id": "AYLt3IU8_pFE"
      },
      "execution_count": null,
      "outputs": []
    },
    {
      "cell_type": "code",
      "source": [
        "norm(arr)"
      ],
      "metadata": {
        "colab": {
          "base_uri": "https://localhost:8080/"
        },
        "id": "2KXDuNJi_zv7",
        "outputId": "f1b663fe-91a7-4579-9646-8cce67e8277e"
      },
      "execution_count": null,
      "outputs": [
        {
          "output_type": "execute_result",
          "data": {
            "text/plain": [
              "ShardedDeviceArray([0.        , 0.03571429, 0.07142857, 0.10714287,\n",
              "                    0.14285715, 0.17857143, 0.21428573, 0.25      ],                   dtype=float32)"
            ]
          },
          "metadata": {},
          "execution_count": 8
        }
      ]
    },
    {
      "cell_type": "code",
      "source": [
        "jnp.sum(norm(arr))"
      ],
      "metadata": {
        "colab": {
          "base_uri": "https://localhost:8080/"
        },
        "id": "5VzX8Gc4_1vo",
        "outputId": "6db72582-a60a-4a9a-d16d-e21d4806cb49"
      },
      "execution_count": null,
      "outputs": [
        {
          "output_type": "execute_result",
          "data": {
            "text/plain": [
              "DeviceArray(1., dtype=float32)"
            ]
          },
          "metadata": {},
          "execution_count": 9
        }
      ]
    },
    {
      "cell_type": "markdown",
      "source": [
        "A large array (more elements than XLA devices) example"
      ],
      "metadata": {
        "id": "BAsivlcghTHm"
      }
    },
    {
      "cell_type": "code",
      "source": [
        "arr = jnp.array(range(200))"
      ],
      "metadata": {
        "id": "MEDDfwp21SH8"
      },
      "execution_count": null,
      "outputs": []
    },
    {
      "cell_type": "code",
      "source": [
        "arr = arr.reshape(8, 25)\n",
        "arr.shape"
      ],
      "metadata": {
        "colab": {
          "base_uri": "https://localhost:8080/"
        },
        "id": "4otHYX5R1VKR",
        "outputId": "4f951440-6fd4-4ae4-a82f-a069434d0369"
      },
      "execution_count": null,
      "outputs": [
        {
          "output_type": "execute_result",
          "data": {
            "text/plain": [
              "(8, 25)"
            ]
          },
          "metadata": {},
          "execution_count": 14
        }
      ]
    },
    {
      "cell_type": "code",
      "source": [
        "norm = jax.pmap(\n",
        "    lambda x: x/jax.lax.psum(jnp.sum(x), axis_name='p'),\n",
        "    axis_name='p')"
      ],
      "metadata": {
        "id": "4n21Oyvp1Z-t"
      },
      "execution_count": null,
      "outputs": []
    },
    {
      "cell_type": "code",
      "source": [
        "narr = norm(arr)\n",
        "narr.shape"
      ],
      "metadata": {
        "colab": {
          "base_uri": "https://localhost:8080/"
        },
        "id": "fCHy2q-n1eah",
        "outputId": "a6584802-3ef8-45f0-9a0f-d6defdeeb937"
      },
      "execution_count": null,
      "outputs": [
        {
          "output_type": "execute_result",
          "data": {
            "text/plain": [
              "(8, 25)"
            ]
          },
          "metadata": {},
          "execution_count": 26
        }
      ]
    },
    {
      "cell_type": "code",
      "source": [
        "jnp.sum(narr)"
      ],
      "metadata": {
        "colab": {
          "base_uri": "https://localhost:8080/"
        },
        "id": "SUEfvESE4bn_",
        "outputId": "82892d4f-2db5-410b-d489-48cef38af3fa"
      },
      "execution_count": null,
      "outputs": [
        {
          "output_type": "execute_result",
          "data": {
            "text/plain": [
              "DeviceArray(1., dtype=float32)"
            ]
          },
          "metadata": {},
          "execution_count": 27
        }
      ]
    },
    {
      "cell_type": "markdown",
      "source": [
        "Using groups"
      ],
      "metadata": {
        "id": "0lFI5h1XhyqI"
      }
    },
    {
      "cell_type": "code",
      "source": [
        "norm = jax.pmap(\n",
        "    lambda x: x/jax.lax.psum(\n",
        "        jnp.sum(x),\n",
        "        axis_name='p',\n",
        "        axis_index_groups=[[0,1], [2,3], [4,5], [6,7]]\n",
        "    ),\n",
        "    axis_name='p')"
      ],
      "metadata": {
        "id": "y3Zt5UpD-l3L"
      },
      "execution_count": null,
      "outputs": []
    },
    {
      "cell_type": "code",
      "source": [
        "narr = norm(arr)\n",
        "narr.shape"
      ],
      "metadata": {
        "colab": {
          "base_uri": "https://localhost:8080/"
        },
        "id": "58qiMx2e_E8l",
        "outputId": "c47cfd33-7e59-4e09-c276-e9456b9cecc8"
      },
      "execution_count": null,
      "outputs": [
        {
          "output_type": "execute_result",
          "data": {
            "text/plain": [
              "(8, 25)"
            ]
          },
          "metadata": {},
          "execution_count": 37
        }
      ]
    },
    {
      "cell_type": "code",
      "source": [
        "jnp.sum(narr)"
      ],
      "metadata": {
        "colab": {
          "base_uri": "https://localhost:8080/"
        },
        "id": "iDxWZ8xN_VqZ",
        "outputId": "818bb7aa-e7c9-4db6-9d5b-5d8ce9081b3f"
      },
      "execution_count": null,
      "outputs": [
        {
          "output_type": "execute_result",
          "data": {
            "text/plain": [
              "DeviceArray(4., dtype=float32)"
            ]
          },
          "metadata": {},
          "execution_count": 38
        }
      ]
    },
    {
      "cell_type": "code",
      "source": [
        "jnp.sum(narr[:2]), jnp.sum(narr[2:4]), jnp.sum(narr[4:6]), jnp.sum(narr[6:])"
      ],
      "metadata": {
        "colab": {
          "base_uri": "https://localhost:8080/"
        },
        "id": "zTRiyInw_lmT",
        "outputId": "913e3fc4-0837-462d-fefe-25bd765acccd"
      },
      "execution_count": null,
      "outputs": [
        {
          "output_type": "execute_result",
          "data": {
            "text/plain": [
              "(DeviceArray(1., dtype=float32),\n",
              " DeviceArray(1., dtype=float32),\n",
              " DeviceArray(1.0000001, dtype=float32),\n",
              " DeviceArray(1., dtype=float32))"
            ]
          },
          "metadata": {},
          "execution_count": 39
        }
      ]
    },
    {
      "cell_type": "markdown",
      "source": [
        "### Using nested pmap() and vmap()"
      ],
      "metadata": {
        "id": "mAFZXq76DQbe"
      }
    },
    {
      "cell_type": "code",
      "source": [
        "arr = jnp.array(range(200))\n",
        "arr = arr.reshape(8, 25)\n",
        "arr.shape"
      ],
      "metadata": {
        "colab": {
          "base_uri": "https://localhost:8080/"
        },
        "id": "xY7giT0-DP_C",
        "outputId": "a83f3782-0fca-4a53-ef80-55ec61dbc363"
      },
      "execution_count": null,
      "outputs": [
        {
          "output_type": "execute_result",
          "data": {
            "text/plain": [
              "(8, 25)"
            ]
          },
          "metadata": {},
          "execution_count": 5
        }
      ]
    },
    {
      "cell_type": "markdown",
      "source": [
        "Understanding different axes"
      ],
      "metadata": {
        "id": "uNs_Sri4hf7c"
      }
    },
    {
      "cell_type": "code",
      "source": [
        "f = jax.pmap(\n",
        "    jax.vmap(\n",
        "        lambda x: jax.lax.pmax(x, axis_name='p'),    # finding a maximum across pmax axis\n",
        "        axis_name='v'\n",
        "    ),\n",
        "    axis_name='p')"
      ],
      "metadata": {
        "id": "S54zj0qMFxNb"
      },
      "execution_count": null,
      "outputs": []
    },
    {
      "cell_type": "code",
      "source": [
        "f(arr)"
      ],
      "metadata": {
        "colab": {
          "base_uri": "https://localhost:8080/"
        },
        "id": "ZiMDUbLlFzl8",
        "outputId": "b813ac63-9d7b-4bfc-caba-d09d46ea7832"
      },
      "execution_count": null,
      "outputs": [
        {
          "output_type": "execute_result",
          "data": {
            "text/plain": [
              "ShardedDeviceArray([[175, 176, 177, 178, 179, 180, 181, 182, 183, 184,\n",
              "                     185, 186, 187, 188, 189, 190, 191, 192, 193, 194,\n",
              "                     195, 196, 197, 198, 199],\n",
              "                    [175, 176, 177, 178, 179, 180, 181, 182, 183, 184,\n",
              "                     185, 186, 187, 188, 189, 190, 191, 192, 193, 194,\n",
              "                     195, 196, 197, 198, 199],\n",
              "                    [175, 176, 177, 178, 179, 180, 181, 182, 183, 184,\n",
              "                     185, 186, 187, 188, 189, 190, 191, 192, 193, 194,\n",
              "                     195, 196, 197, 198, 199],\n",
              "                    [175, 176, 177, 178, 179, 180, 181, 182, 183, 184,\n",
              "                     185, 186, 187, 188, 189, 190, 191, 192, 193, 194,\n",
              "                     195, 196, 197, 198, 199],\n",
              "                    [175, 176, 177, 178, 179, 180, 181, 182, 183, 184,\n",
              "                     185, 186, 187, 188, 189, 190, 191, 192, 193, 194,\n",
              "                     195, 196, 197, 198, 199],\n",
              "                    [175, 176, 177, 178, 179, 180, 181, 182, 183, 184,\n",
              "                     185, 186, 187, 188, 189, 190, 191, 192, 193, 194,\n",
              "                     195, 196, 197, 198, 199],\n",
              "                    [175, 176, 177, 178, 179, 180, 181, 182, 183, 184,\n",
              "                     185, 186, 187, 188, 189, 190, 191, 192, 193, 194,\n",
              "                     195, 196, 197, 198, 199],\n",
              "                    [175, 176, 177, 178, 179, 180, 181, 182, 183, 184,\n",
              "                     185, 186, 187, 188, 189, 190, 191, 192, 193, 194,\n",
              "                     195, 196, 197, 198, 199]], dtype=int32)"
            ]
          },
          "metadata": {},
          "execution_count": 7
        }
      ]
    },
    {
      "cell_type": "code",
      "source": [
        "f = jax.pmap(\n",
        "    jax.vmap(\n",
        "        lambda x: jax.lax.pmax(x, axis_name=('p','v')),    # Finding global maximum across two axes\n",
        "        axis_name='v'\n",
        "    ),\n",
        "    axis_name='p')"
      ],
      "metadata": {
        "id": "47d7KE6PfwqW"
      },
      "execution_count": null,
      "outputs": []
    },
    {
      "cell_type": "code",
      "source": [
        "f(arr)"
      ],
      "metadata": {
        "colab": {
          "base_uri": "https://localhost:8080/"
        },
        "id": "-blZXHawf0sp",
        "outputId": "ecdc0987-18a6-4807-dbfb-1df097cbf707"
      },
      "execution_count": null,
      "outputs": [
        {
          "output_type": "execute_result",
          "data": {
            "text/plain": [
              "ShardedDeviceArray([[199, 199, 199, 199, 199, 199, 199, 199, 199, 199,\n",
              "                     199, 199, 199, 199, 199, 199, 199, 199, 199, 199,\n",
              "                     199, 199, 199, 199, 199],\n",
              "                    [199, 199, 199, 199, 199, 199, 199, 199, 199, 199,\n",
              "                     199, 199, 199, 199, 199, 199, 199, 199, 199, 199,\n",
              "                     199, 199, 199, 199, 199],\n",
              "                    [199, 199, 199, 199, 199, 199, 199, 199, 199, 199,\n",
              "                     199, 199, 199, 199, 199, 199, 199, 199, 199, 199,\n",
              "                     199, 199, 199, 199, 199],\n",
              "                    [199, 199, 199, 199, 199, 199, 199, 199, 199, 199,\n",
              "                     199, 199, 199, 199, 199, 199, 199, 199, 199, 199,\n",
              "                     199, 199, 199, 199, 199],\n",
              "                    [199, 199, 199, 199, 199, 199, 199, 199, 199, 199,\n",
              "                     199, 199, 199, 199, 199, 199, 199, 199, 199, 199,\n",
              "                     199, 199, 199, 199, 199],\n",
              "                    [199, 199, 199, 199, 199, 199, 199, 199, 199, 199,\n",
              "                     199, 199, 199, 199, 199, 199, 199, 199, 199, 199,\n",
              "                     199, 199, 199, 199, 199],\n",
              "                    [199, 199, 199, 199, 199, 199, 199, 199, 199, 199,\n",
              "                     199, 199, 199, 199, 199, 199, 199, 199, 199, 199,\n",
              "                     199, 199, 199, 199, 199],\n",
              "                    [199, 199, 199, 199, 199, 199, 199, 199, 199, 199,\n",
              "                     199, 199, 199, 199, 199, 199, 199, 199, 199, 199,\n",
              "                     199, 199, 199, 199, 199]], dtype=int32)"
            ]
          },
          "metadata": {},
          "execution_count": 11
        }
      ]
    },
    {
      "cell_type": "markdown",
      "source": [
        "Using both axes"
      ],
      "metadata": {
        "id": "DfLX3pMphlg1"
      }
    },
    {
      "cell_type": "code",
      "source": [
        "f = jax.pmap(\n",
        "    jax.vmap(\n",
        "        lambda x: jax.lax.pmax(x, axis_name='v')/jax.lax.pmax(x, axis_name='p'),\n",
        "        axis_name='v'\n",
        "    ),\n",
        "    axis_name='p')"
      ],
      "metadata": {
        "id": "WhVL-R8qDd7_"
      },
      "execution_count": null,
      "outputs": []
    },
    {
      "cell_type": "code",
      "source": [
        "f(arr)"
      ],
      "metadata": {
        "colab": {
          "base_uri": "https://localhost:8080/"
        },
        "id": "rpNlgksOEEpJ",
        "outputId": "36b8733f-1c6d-4554-8a8e-0985ffa192c5"
      },
      "execution_count": null,
      "outputs": [
        {
          "output_type": "execute_result",
          "data": {
            "text/plain": [
              "ShardedDeviceArray([[0.13714285, 0.13636364, 0.1355932 , 0.13483146,\n",
              "                     0.1340782 , 0.13333334, 0.13259669, 0.13186814,\n",
              "                     0.13114755, 0.13043478, 0.12972972, 0.12903225,\n",
              "                     0.12834224, 0.12765957, 0.12698412, 0.12631579,\n",
              "                     0.12565446, 0.125     , 0.12435233, 0.12371133,\n",
              "                     0.12307693, 0.12244899, 0.12182741, 0.12121212,\n",
              "                     0.12060301],\n",
              "                    [0.28      , 0.2784091 , 0.27683613, 0.2752809 ,\n",
              "                     0.273743  , 0.27222222, 0.27071825, 0.26923078,\n",
              "                     0.2677596 , 0.26630434, 0.26486486, 0.26344085,\n",
              "                     0.2620321 , 0.2606383 , 0.25925925, 0.25789472,\n",
              "                     0.2565445 , 0.25520834, 0.253886  , 0.2525773 ,\n",
              "                     0.25128207, 0.25000003, 0.24873096, 0.24747474,\n",
              "                     0.24623115],\n",
              "                    [0.42285714, 0.42045456, 0.41807905, 0.41573033,\n",
              "                     0.4134078 , 0.41111112, 0.4088398 , 0.4065934 ,\n",
              "                     0.40437162, 0.4021739 , 0.39999998, 0.39784947,\n",
              "                     0.39572194, 0.393617  , 0.3915344 , 0.38947368,\n",
              "                     0.38743457, 0.3854167 , 0.3834197 , 0.3814433 ,\n",
              "                     0.3794872 , 0.37755105, 0.37563452, 0.37373737,\n",
              "                     0.37185928],\n",
              "                    [0.5657143 , 0.5625    , 0.559322  , 0.55617976,\n",
              "                     0.55307263, 0.55      , 0.54696137, 0.54395604,\n",
              "                     0.5409836 , 0.5380435 , 0.5351351 , 0.5322581 ,\n",
              "                     0.5294118 , 0.5265957 , 0.5238095 , 0.5210526 ,\n",
              "                     0.5183246 , 0.515625  , 0.51295334, 0.5103093 ,\n",
              "                     0.50769234, 0.5051021 , 0.5025381 , 0.5       ,\n",
              "                     0.49748743],\n",
              "                    [0.70857143, 0.7045455 , 0.7005649 , 0.6966292 ,\n",
              "                     0.6927374 , 0.6888889 , 0.6850829 , 0.6813187 ,\n",
              "                     0.6775957 , 0.67391306, 0.6702702 , 0.6666667 ,\n",
              "                     0.6631016 , 0.65957445, 0.65608466, 0.6526315 ,\n",
              "                     0.6492147 , 0.6458334 , 0.64248705, 0.63917524,\n",
              "                     0.63589746, 0.6326531 , 0.6294416 , 0.6262626 ,\n",
              "                     0.6231156 ],\n",
              "                    [0.85142857, 0.84659094, 0.84180784, 0.83707863,\n",
              "                     0.8324022 , 0.8277778 , 0.82320446, 0.81868136,\n",
              "                     0.8142077 , 0.8097826 , 0.8054054 , 0.8010753 ,\n",
              "                     0.79679143, 0.7925532 , 0.78835976, 0.7842105 ,\n",
              "                     0.7801047 , 0.7760417 , 0.7720207 , 0.7680412 ,\n",
              "                     0.7641026 , 0.76020414, 0.75634515, 0.75252527,\n",
              "                     0.7487437 ],\n",
              "                    [0.9942857 , 0.9886364 , 0.98305076, 0.9775281 ,\n",
              "                     0.972067  , 0.9666667 , 0.961326  , 0.95604396,\n",
              "                     0.95081973, 0.9456522 , 0.9405405 , 0.9354839 ,\n",
              "                     0.9304813 , 0.92553186, 0.92063487, 0.9157894 ,\n",
              "                     0.91099477, 0.90625   , 0.9015544 , 0.8969072 ,\n",
              "                     0.8923077 , 0.88775516, 0.8832487 , 0.8787879 ,\n",
              "                     0.8743718 ],\n",
              "                    [1.1371429 , 1.1306819 , 1.1242937 , 1.1179775 ,\n",
              "                     1.1117318 , 1.1055555 , 1.0994476 , 1.0934067 ,\n",
              "                     1.0874318 , 1.0815217 , 1.0756756 , 1.0698925 ,\n",
              "                     1.0641712 , 1.0585107 , 1.05291   , 1.0473684 ,\n",
              "                     1.0418848 , 1.0364584 , 1.0310881 , 1.0257732 ,\n",
              "                     1.0205128 , 1.0153062 , 1.0101522 , 1.0050505 ,\n",
              "                     1.        ]], dtype=float32)"
            ]
          },
          "metadata": {},
          "execution_count": 9
        }
      ]
    },
    {
      "cell_type": "markdown",
      "source": [
        "Global normalization using two axes at once"
      ],
      "metadata": {
        "id": "D4o8QRgXhoJP"
      }
    },
    {
      "cell_type": "code",
      "source": [
        "norm = jax.pmap(\n",
        "    jax.vmap(\n",
        "        lambda x: x/jax.lax.psum(x, axis_name=('p','v')),\n",
        "        axis_name='v'\n",
        "    ),\n",
        "    axis_name='p')"
      ],
      "metadata": {
        "id": "eqZ8GBcFfttm"
      },
      "execution_count": null,
      "outputs": []
    },
    {
      "cell_type": "code",
      "source": [
        "narr = norm(arr)\n",
        "narr.shape"
      ],
      "metadata": {
        "colab": {
          "base_uri": "https://localhost:8080/"
        },
        "id": "GKZKJTyKiBCy",
        "outputId": "4210dfba-def9-45e7-e303-aeabc11ef691"
      },
      "execution_count": null,
      "outputs": [
        {
          "output_type": "execute_result",
          "data": {
            "text/plain": [
              "(8, 25)"
            ]
          },
          "metadata": {},
          "execution_count": 17
        }
      ]
    },
    {
      "cell_type": "code",
      "source": [
        "jnp.sum(narr)"
      ],
      "metadata": {
        "colab": {
          "base_uri": "https://localhost:8080/"
        },
        "id": "Weeis4uNiGmI",
        "outputId": "18ce7b7e-07c2-4747-ce9b-b64d7b35fd99"
      },
      "execution_count": null,
      "outputs": [
        {
          "output_type": "execute_result",
          "data": {
            "text/plain": [
              "DeviceArray(1., dtype=float32)"
            ]
          },
          "metadata": {},
          "execution_count": 18
        }
      ]
    },
    {
      "cell_type": "code",
      "source": [
        "narr"
      ],
      "metadata": {
        "colab": {
          "base_uri": "https://localhost:8080/"
        },
        "id": "NIc0LfUeiON_",
        "outputId": "f8d77dd8-cef9-425f-c317-36ef01613ea6"
      },
      "execution_count": null,
      "outputs": [
        {
          "output_type": "execute_result",
          "data": {
            "text/plain": [
              "ShardedDeviceArray([[0.0000000e+00, 5.0251256e-05, 1.0050251e-04,\n",
              "                     1.5075377e-04, 2.0100502e-04, 2.5125628e-04,\n",
              "                     3.0150753e-04, 3.5175879e-04, 4.0201005e-04,\n",
              "                     4.5226130e-04, 5.0251256e-04, 5.5276381e-04,\n",
              "                     6.0301507e-04, 6.5326632e-04, 7.0351758e-04,\n",
              "                     7.5376884e-04, 8.0402009e-04, 8.5427135e-04,\n",
              "                     9.0452260e-04, 9.5477386e-04, 1.0050251e-03,\n",
              "                     1.0552764e-03, 1.1055276e-03, 1.1557789e-03,\n",
              "                     1.2060301e-03],\n",
              "                    [1.2562814e-03, 1.3065326e-03, 1.3567839e-03,\n",
              "                     1.4070352e-03, 1.4572864e-03, 1.5075377e-03,\n",
              "                     1.5577889e-03, 1.6080402e-03, 1.6582914e-03,\n",
              "                     1.7085427e-03, 1.7587940e-03, 1.8090452e-03,\n",
              "                     1.8592965e-03, 1.9095477e-03, 1.9597989e-03,\n",
              "                     2.0100502e-03, 2.0603016e-03, 2.1105527e-03,\n",
              "                     2.1608039e-03, 2.2110553e-03, 2.2613066e-03,\n",
              "                     2.3115578e-03, 2.3618089e-03, 2.4120603e-03,\n",
              "                     2.4623116e-03],\n",
              "                    [2.5125628e-03, 2.5628139e-03, 2.6130653e-03,\n",
              "                     2.6633167e-03, 2.7135678e-03, 2.7638189e-03,\n",
              "                     2.8140703e-03, 2.8643217e-03, 2.9145728e-03,\n",
              "                     2.9648240e-03, 3.0150753e-03, 3.0653267e-03,\n",
              "                     3.1155779e-03, 3.1658290e-03, 3.2160804e-03,\n",
              "                     3.2663317e-03, 3.3165829e-03, 3.3668340e-03,\n",
              "                     3.4170854e-03, 3.4673368e-03, 3.5175879e-03,\n",
              "                     3.5678390e-03, 3.6180904e-03, 3.6683418e-03,\n",
              "                     3.7185929e-03],\n",
              "                    [3.7688441e-03, 3.8190954e-03, 3.8693468e-03,\n",
              "                     3.9195977e-03, 3.9698491e-03, 4.0201005e-03,\n",
              "                     4.0703518e-03, 4.1206032e-03, 4.1708541e-03,\n",
              "                     4.2211055e-03, 4.2713569e-03, 4.3216078e-03,\n",
              "                     4.3718591e-03, 4.4221105e-03, 4.4723619e-03,\n",
              "                     4.5226132e-03, 4.5728642e-03, 4.6231155e-03,\n",
              "                     4.6733669e-03, 4.7236178e-03, 4.7738692e-03,\n",
              "                     4.8241206e-03, 4.8743719e-03, 4.9246233e-03,\n",
              "                     4.9748742e-03],\n",
              "                    [5.0251256e-03, 5.0753769e-03, 5.1256279e-03,\n",
              "                     5.1758792e-03, 5.2261306e-03, 5.2763820e-03,\n",
              "                     5.3266333e-03, 5.3768842e-03, 5.4271356e-03,\n",
              "                     5.4773870e-03, 5.5276379e-03, 5.5778893e-03,\n",
              "                     5.6281406e-03, 5.6783920e-03, 5.7286434e-03,\n",
              "                     5.7788943e-03, 5.8291457e-03, 5.8793970e-03,\n",
              "                     5.9296479e-03, 5.9798993e-03, 6.0301507e-03,\n",
              "                     6.0804021e-03, 6.1306534e-03, 6.1809043e-03,\n",
              "                     6.2311557e-03],\n",
              "                    [6.2814071e-03, 6.3316580e-03, 6.3819094e-03,\n",
              "                     6.4321607e-03, 6.4824121e-03, 6.5326635e-03,\n",
              "                     6.5829144e-03, 6.6331658e-03, 6.6834171e-03,\n",
              "                     6.7336680e-03, 6.7839194e-03, 6.8341708e-03,\n",
              "                     6.8844222e-03, 6.9346735e-03, 6.9849244e-03,\n",
              "                     7.0351758e-03, 7.0854272e-03, 7.1356781e-03,\n",
              "                     7.1859295e-03, 7.2361808e-03, 7.2864322e-03,\n",
              "                     7.3366836e-03, 7.3869345e-03, 7.4371858e-03,\n",
              "                     7.4874372e-03],\n",
              "                    [7.5376881e-03, 7.5879395e-03, 7.6381909e-03,\n",
              "                     7.6884422e-03, 7.7386936e-03, 7.7889445e-03,\n",
              "                     7.8391954e-03, 7.8894468e-03, 7.9396982e-03,\n",
              "                     7.9899495e-03, 8.0402009e-03, 8.0904523e-03,\n",
              "                     8.1407037e-03, 8.1909550e-03, 8.2412064e-03,\n",
              "                     8.2914568e-03, 8.3417082e-03, 8.3919596e-03,\n",
              "                     8.4422110e-03, 8.4924623e-03, 8.5427137e-03,\n",
              "                     8.5929651e-03, 8.6432155e-03, 8.6934669e-03,\n",
              "                     8.7437183e-03],\n",
              "                    [8.7939696e-03, 8.8442210e-03, 8.8944724e-03,\n",
              "                     8.9447238e-03, 8.9949751e-03, 9.0452265e-03,\n",
              "                     9.0954769e-03, 9.1457283e-03, 9.1959797e-03,\n",
              "                     9.2462311e-03, 9.2964824e-03, 9.3467338e-03,\n",
              "                     9.3969852e-03, 9.4472356e-03, 9.4974870e-03,\n",
              "                     9.5477384e-03, 9.5979897e-03, 9.6482411e-03,\n",
              "                     9.6984925e-03, 9.7487438e-03, 9.7989952e-03,\n",
              "                     9.8492466e-03, 9.8994970e-03, 9.9497484e-03,\n",
              "                     9.9999998e-03]], dtype=float32)"
            ]
          },
          "metadata": {},
          "execution_count": 19
        }
      ]
    },
    {
      "cell_type": "markdown",
      "source": [
        "Nested pmap"
      ],
      "metadata": {
        "id": "Cs_oFSYjkaIN"
      }
    },
    {
      "cell_type": "code",
      "source": [
        "arr = jnp.array(range(8)).reshape(2,4)\n",
        "arr"
      ],
      "metadata": {
        "colab": {
          "base_uri": "https://localhost:8080/"
        },
        "id": "W-dMX9EckckK",
        "outputId": "0ef6221d-1d9d-4a6d-eaf9-2c81a57fd79e"
      },
      "execution_count": null,
      "outputs": [
        {
          "output_type": "execute_result",
          "data": {
            "text/plain": [
              "DeviceArray([[0, 1, 2, 3],\n",
              "             [4, 5, 6, 7]], dtype=int32)"
            ]
          },
          "metadata": {},
          "execution_count": 21
        }
      ]
    },
    {
      "cell_type": "code",
      "source": [
        "n = jax.pmap(\n",
        "    jax.pmap(\n",
        "        lambda x: x/jax.lax.psum(x, axis_name=('rows','cols')),\n",
        "        axis_name='cols'\n",
        "    ),\n",
        "    axis_name='rows')"
      ],
      "metadata": {
        "id": "YVEFRvlYkvcW"
      },
      "execution_count": null,
      "outputs": []
    },
    {
      "cell_type": "code",
      "source": [
        "n(arr)"
      ],
      "metadata": {
        "colab": {
          "base_uri": "https://localhost:8080/"
        },
        "id": "LVcHVBl9k7Tg",
        "outputId": "74964762-8139-4f4c-902a-4ebd7f64442b"
      },
      "execution_count": null,
      "outputs": [
        {
          "output_type": "execute_result",
          "data": {
            "text/plain": [
              "ShardedDeviceArray([[0.        , 0.03571429, 0.07142857, 0.10714287],\n",
              "                    [0.14285715, 0.17857143, 0.21428573, 0.25      ]],                   dtype=float32)"
            ]
          },
          "metadata": {},
          "execution_count": 27
        }
      ]
    },
    {
      "cell_type": "code",
      "source": [
        "jnp.sum(n(arr))"
      ],
      "metadata": {
        "colab": {
          "base_uri": "https://localhost:8080/"
        },
        "id": "gAVypn8Lk-Ov",
        "outputId": "97a1573d-13ef-48b9-cb75-1771ad8b3712"
      },
      "execution_count": null,
      "outputs": [
        {
          "output_type": "execute_result",
          "data": {
            "text/plain": [
              "DeviceArray(1., dtype=float32)"
            ]
          },
          "metadata": {},
          "execution_count": 25
        }
      ]
    },
    {
      "cell_type": "markdown",
      "source": [
        "The same example using the decorator style"
      ],
      "metadata": {
        "id": "vY_seo4knd9M"
      }
    },
    {
      "cell_type": "code",
      "source": [
        "from functools import partial"
      ],
      "metadata": {
        "id": "RiikZf-lni6V"
      },
      "execution_count": null,
      "outputs": []
    },
    {
      "cell_type": "code",
      "source": [
        "@partial(jax.pmap, axis_name='rows')\n",
        "@partial(jax.pmap, axis_name='cols')\n",
        "def n(x):\n",
        "  return x/jax.lax.psum(x, axis_name=('rows','cols'))"
      ],
      "metadata": {
        "id": "uBtUfQgonjer"
      },
      "execution_count": null,
      "outputs": []
    },
    {
      "cell_type": "code",
      "source": [
        "jnp.sum(n(arr))"
      ],
      "metadata": {
        "colab": {
          "base_uri": "https://localhost:8080/"
        },
        "id": "XQeCcTBxnwdu",
        "outputId": "fe3403e1-32a6-4a06-c87d-fb5179da3a86"
      },
      "execution_count": null,
      "outputs": [
        {
          "output_type": "execute_result",
          "data": {
            "text/plain": [
              "DeviceArray(1., dtype=float32)"
            ]
          },
          "metadata": {},
          "execution_count": 31
        }
      ]
    },
    {
      "cell_type": "markdown",
      "source": [
        "## Data-parallel neural network training"
      ],
      "metadata": {
        "id": "DVXNIzeGNkaF"
      }
    },
    {
      "cell_type": "markdown",
      "source": [
        "### Preparing data"
      ],
      "metadata": {
        "id": "K0voYQTnSloK"
      }
    },
    {
      "cell_type": "code",
      "source": [
        "import tensorflow as tf\n",
        "import tensorflow_datasets as tfds\n",
        "\n",
        "data_dir = '/tmp/tfds'\n",
        "\n",
        "data, info = tfds.load(name=\"mnist\",\n",
        "                       data_dir=data_dir,\n",
        "                       as_supervised=True, \n",
        "                       with_info=True)\n",
        "\n",
        "data_train = data['train']\n",
        "data_test  = data['test']"
      ],
      "metadata": {
        "id": "M3B-FAZOOKOH",
        "colab": {
          "base_uri": "https://localhost:8080/",
          "height": 84,
          "referenced_widgets": [
            "d68384c4c26146e9938dd25f92d1d188",
            "f8ad438683274097a45055d3dcda4d62",
            "2c1cef9f4697455b8126647258ebc626",
            "6911edb1cc574086a59b0e263661c161",
            "34a45562761444f488334a7f72e4be08",
            "ac75a7ba05a54e90a15e64619935d4a8",
            "e01fc20bdac547ecb41a0eff34c2ca8a",
            "01cc69e1c71f4eb9bc0f703d0745e5c6",
            "fd6d441a247042ea9c340598a1106013",
            "c731614754194a75a7a3e66a0df7bdfa",
            "de9d4736f7f4444a8ae3fb1201a72a81"
          ]
        },
        "outputId": "6365a3a1-cba0-4f39-e557-db81ecd1fe32"
      },
      "execution_count": 5,
      "outputs": [
        {
          "output_type": "stream",
          "name": "stdout",
          "text": [
            "Downloading and preparing dataset Unknown size (download: Unknown size, generated: Unknown size, total: Unknown size) to /tmp/tfds/mnist/3.0.1...\n"
          ]
        },
        {
          "output_type": "display_data",
          "data": {
            "text/plain": [
              "Dl Completed...:   0%|          | 0/5 [00:00<?, ? file/s]"
            ],
            "application/vnd.jupyter.widget-view+json": {
              "version_major": 2,
              "version_minor": 0,
              "model_id": "d68384c4c26146e9938dd25f92d1d188"
            }
          },
          "metadata": {}
        },
        {
          "output_type": "stream",
          "name": "stdout",
          "text": [
            "Dataset mnist downloaded and prepared to /tmp/tfds/mnist/3.0.1. Subsequent calls will reuse this data.\n"
          ]
        }
      ]
    },
    {
      "cell_type": "code",
      "source": [
        "HEIGHT = 28\n",
        "WIDTH  = 28\n",
        "CHANNELS = 1\n",
        "NUM_PIXELS = HEIGHT * WIDTH * CHANNELS \n",
        "NUM_LABELS = info.features['label'].num_classes\n",
        "NUM_DEVICES = jax.device_count()\n",
        "BATCH_SIZE  = 32"
      ],
      "metadata": {
        "id": "GQW9KLknOSc4"
      },
      "execution_count": 6,
      "outputs": []
    },
    {
      "cell_type": "code",
      "source": [
        "def preprocess(img, label):\n",
        "  \"\"\"Resize and preprocess images.\"\"\"\n",
        "  return (tf.cast(img, tf.float32)/255.0), label\n",
        "\n",
        "train_data = tfds.as_numpy(\n",
        "    data_train.map(preprocess).batch(NUM_DEVICES*BATCH_SIZE).prefetch(1)\n",
        ")\n",
        "test_data  = tfds.as_numpy(\n",
        "    data_test.map(preprocess).batch(NUM_DEVICES*BATCH_SIZE).prefetch(1)\n",
        ")"
      ],
      "metadata": {
        "id": "XEL-NZOjOV0_"
      },
      "execution_count": 7,
      "outputs": []
    },
    {
      "cell_type": "code",
      "source": [
        "len(train_data)"
      ],
      "metadata": {
        "colab": {
          "base_uri": "https://localhost:8080/"
        },
        "id": "bcwCdU2-GU80",
        "outputId": "5a287a0f-dc11-4a0e-8321-05f064abed4a"
      },
      "execution_count": 8,
      "outputs": [
        {
          "output_type": "execute_result",
          "data": {
            "text/plain": [
              "235"
            ]
          },
          "metadata": {},
          "execution_count": 8
        }
      ]
    },
    {
      "cell_type": "markdown",
      "source": [
        "### Preparing MLP"
      ],
      "metadata": {
        "id": "ilU3LzAeSolR"
      }
    },
    {
      "cell_type": "code",
      "source": [
        "import jax\n",
        "import jax.numpy as jnp\n",
        "from jax import grad, jit, vmap, value_and_grad\n",
        "from jax import random\n",
        "from jax.nn import swish, logsumexp, one_hot"
      ],
      "metadata": {
        "id": "Q7B2PFjwOben"
      },
      "execution_count": 9,
      "outputs": []
    },
    {
      "cell_type": "code",
      "source": [
        "LAYER_SIZES = [28*28, 512, 10]\n",
        "PARAM_SCALE = 0.01"
      ],
      "metadata": {
        "id": "aG1Ixe95OiIv"
      },
      "execution_count": 10,
      "outputs": []
    },
    {
      "cell_type": "code",
      "source": [
        "def init_network_params(sizes, key=random.PRNGKey(0), scale=1e-2):\n",
        "  \"\"\"Initialize all layers for a fully-connected neural network with given sizes\"\"\"\n",
        "\n",
        "  def random_layer_params(m, n, key, scale=1e-2):\n",
        "    \"\"\"A helper function to randomly initialize weights and biases of a dense layer\"\"\" \n",
        "    w_key, b_key = random.split(key)\n",
        "    return scale * random.normal(w_key, (n, m)), scale * random.normal(b_key, (n,))\n",
        "\n",
        "  keys = random.split(key, len(sizes))\n",
        "  return [random_layer_params(m, n, k, scale) for m, n, k in zip(sizes[:-1], sizes[1:], keys)]\n",
        "\n",
        "init_params = init_network_params(LAYER_SIZES, random.PRNGKey(0), scale=PARAM_SCALE)"
      ],
      "metadata": {
        "id": "DIwXobuPOprS"
      },
      "execution_count": 11,
      "outputs": []
    },
    {
      "cell_type": "code",
      "source": [
        "def predict(params, image):\n",
        "  \"\"\"Function for per-example predictions.\"\"\"\n",
        "  activations = image\n",
        "  for w, b in params[:-1]:\n",
        "    outputs = jnp.dot(w, activations) + b\n",
        "    activations = swish(outputs)\n",
        "  \n",
        "  final_w, final_b = params[-1]\n",
        "  logits = jnp.dot(final_w, activations) + final_b\n",
        "  return logits\n",
        "\n",
        "batched_predict = vmap(predict, in_axes=(None, 0))\n"
      ],
      "metadata": {
        "id": "DjyD2_EmNlC5"
      },
      "execution_count": 12,
      "outputs": []
    },
    {
      "cell_type": "markdown",
      "source": [
        "### Loss and update functions"
      ],
      "metadata": {
        "id": "TdwS4P06Sr-P"
      }
    },
    {
      "cell_type": "code",
      "source": [
        "INIT_LR = 1.0\n",
        "DECAY_RATE = 0.95\n",
        "DECAY_STEPS = 5\n",
        "NUM_EPOCHS  = 20"
      ],
      "metadata": {
        "id": "bwg667wGO3Yy"
      },
      "execution_count": 13,
      "outputs": []
    },
    {
      "cell_type": "code",
      "source": [
        "from functools import partial"
      ],
      "metadata": {
        "id": "T7vWgrxUKqkH"
      },
      "execution_count": 14,
      "outputs": []
    },
    {
      "cell_type": "code",
      "source": [
        "def loss(params, images, targets):\n",
        "  \"\"\"Categorical cross entropy loss function.\"\"\"\n",
        "  logits = batched_predict(params, images)\n",
        "  log_preds = logits - logsumexp(logits) # logsumexp trick https://gregorygundersen.com/blog/2020/02/09/log-sum-exp/\n",
        "  return -jnp.mean(targets*log_preds)\n",
        "\n",
        "@partial(jax.pmap, axis_name='devices', in_axes=(None, 0, 0, None), out_axes=(None,0))\n",
        "def update(params, x, y, epoch_number):\n",
        "  loss_value, grads = value_and_grad(loss)(params, x, y)\n",
        "  grads = [(jax.lax.psum(dw, 'devices'), jax.lax.psum(db, 'devices')) \n",
        "    for dw, db in grads]\n",
        "  lr = INIT_LR * DECAY_RATE ** (epoch_number / DECAY_STEPS)\n",
        "  return [(w - lr * dw, b - lr * db)\n",
        "          for (w, b), (dw, db) in zip(params, grads)], loss_value"
      ],
      "metadata": {
        "id": "0V3nOttiO7da"
      },
      "execution_count": 44,
      "outputs": []
    },
    {
      "cell_type": "markdown",
      "source": [
        "### Section for debugging purposes"
      ],
      "metadata": {
        "id": "GKMrN2vOPLiW"
      }
    },
    {
      "cell_type": "code",
      "source": [
        "train_data_iter = iter(train_data)\n",
        "x, y = next(train_data_iter)"
      ],
      "metadata": {
        "id": "9l5wT9U0O-7J"
      },
      "execution_count": 45,
      "outputs": []
    },
    {
      "cell_type": "code",
      "source": [
        "x.shape, y.shape"
      ],
      "metadata": {
        "colab": {
          "base_uri": "https://localhost:8080/"
        },
        "id": "fm2cdhekRNFC",
        "outputId": "59656f38-e76e-4dbb-ea13-7cc8005d3553"
      },
      "execution_count": 46,
      "outputs": [
        {
          "output_type": "execute_result",
          "data": {
            "text/plain": [
              "((256, 28, 28, 1), (256,))"
            ]
          },
          "metadata": {},
          "execution_count": 46
        }
      ]
    },
    {
      "cell_type": "code",
      "source": [
        "x = jnp.reshape(x, (NUM_DEVICES, BATCH_SIZE, NUM_PIXELS))\n",
        "y = jnp.reshape(one_hot(y, NUM_LABELS), (NUM_DEVICES, BATCH_SIZE, NUM_LABELS))\n",
        "x.shape, y.shape"
      ],
      "metadata": {
        "colab": {
          "base_uri": "https://localhost:8080/"
        },
        "id": "MpJ5tnZ4PQMN",
        "outputId": "bd79451a-b689-49d4-f23b-33b04f1e9aee"
      },
      "execution_count": 47,
      "outputs": [
        {
          "output_type": "execute_result",
          "data": {
            "text/plain": [
              "((8, 32, 784), (8, 32, 10))"
            ]
          },
          "metadata": {},
          "execution_count": 47
        }
      ]
    },
    {
      "cell_type": "code",
      "source": [
        "updated_params, loss_value = update(init_params, x, y, 0)"
      ],
      "metadata": {
        "id": "vSKemd9_QW1_"
      },
      "execution_count": 48,
      "outputs": []
    },
    {
      "cell_type": "code",
      "source": [
        "loss_value"
      ],
      "metadata": {
        "colab": {
          "base_uri": "https://localhost:8080/"
        },
        "id": "E3VpMr--Rf67",
        "outputId": "83399c70-1a3f-4895-920a-6ce95789b91d"
      },
      "execution_count": 49,
      "outputs": [
        {
          "output_type": "execute_result",
          "data": {
            "text/plain": [
              "ShardedDeviceArray([0.5771865 , 0.5766423 , 0.5766001 , 0.57689124,\n",
              "                    0.57701343, 0.57676095, 0.57668227, 0.5764269 ],                   dtype=float32)"
            ]
          },
          "metadata": {},
          "execution_count": 49
        }
      ]
    },
    {
      "cell_type": "markdown",
      "source": [
        "### Training loop"
      ],
      "metadata": {
        "id": "4PFlq7EcS3q_"
      }
    },
    {
      "cell_type": "code",
      "source": [
        "@jit\n",
        "def batch_accuracy(params, images, targets):\n",
        "  images = jnp.reshape(images, (len(images), NUM_PIXELS))\n",
        "  predicted_class = jnp.argmax(batched_predict(params, images), axis=1)\n",
        "  return jnp.mean(predicted_class == targets)\n",
        "\n",
        "def accuracy(params, data):\n",
        "  accs = []\n",
        "  for images, targets in data:\n",
        "    accs.append(batch_accuracy(params, images, targets))\n",
        "  return jnp.mean(jnp.array(accs))"
      ],
      "metadata": {
        "id": "Zw4DIGl5InbS"
      },
      "execution_count": 50,
      "outputs": []
    },
    {
      "cell_type": "code",
      "source": [
        "import time\n",
        "\n",
        "params = init_params\n",
        "for epoch in range(NUM_EPOCHS):\n",
        "  start_time = time.time()\n",
        "  losses = []\n",
        "  for x, y in train_data:\n",
        "    num_elements = len(y)\n",
        "    x = jnp.reshape(x, (NUM_DEVICES, num_elements//NUM_DEVICES, NUM_PIXELS))\n",
        "    y = jnp.reshape(one_hot(y, NUM_LABELS), (NUM_DEVICES, num_elements//NUM_DEVICES, NUM_LABELS))\n",
        "    params, loss_value = update(params, x, y, epoch)\n",
        "    losses.append(jnp.sum(loss_value))\n",
        "  epoch_time = time.time() - start_time\n",
        "\n",
        "  train_acc = accuracy(params, train_data)\n",
        "  test_acc = accuracy(params, test_data)\n",
        "  print(\"Epoch {} in {:0.2f} sec\".format(epoch, epoch_time))\n",
        "  print(\"Training set loss {}\".format(jnp.mean(jnp.array(losses))))\n",
        "  print(\"Training set accuracy {}\".format(train_acc))\n",
        "  print(\"Test set accuracy {}\".format(test_acc))"
      ],
      "metadata": {
        "colab": {
          "base_uri": "https://localhost:8080/"
        },
        "id": "skYy98qTFUpP",
        "outputId": "e478b1b4-1e24-423d-ea11-6f9cf2d8c815"
      },
      "execution_count": 51,
      "outputs": [
        {
          "output_type": "stream",
          "name": "stdout",
          "text": [
            "Epoch 0 in 8.95 sec\n",
            "Training set loss 3.3886349201202393\n",
            "Training set accuracy 0.9229609370231628\n",
            "Test set accuracy 0.9217773675918579\n",
            "Epoch 1 in 9.18 sec\n",
            "Training set loss 3.0531487464904785\n",
            "Training set accuracy 0.9479831457138062\n",
            "Test set accuracy 0.9482421875\n",
            "Epoch 2 in 10.76 sec\n",
            "Training set loss 2.983154535293579\n",
            "Training set accuracy 0.9597517848014832\n",
            "Test set accuracy 0.9580078125\n",
            "Epoch 3 in 10.26 sec\n",
            "Training set loss 2.948392391204834\n",
            "Training set accuracy 0.9668937921524048\n",
            "Test set accuracy 0.96484375\n",
            "Epoch 4 in 20.50 sec\n",
            "Training set loss 2.928722858428955\n",
            "Training set accuracy 0.9714649319648743\n",
            "Test set accuracy 0.9706054925918579\n",
            "Epoch 5 in 10.26 sec\n",
            "Training set loss 2.913074254989624\n",
            "Training set accuracy 0.9739250540733337\n",
            "Test set accuracy 0.973339855670929\n",
            "Epoch 6 in 10.87 sec\n",
            "Training set loss 2.9012343883514404\n",
            "Training set accuracy 0.9771497845649719\n",
            "Test set accuracy 0.975292980670929\n",
            "Epoch 7 in 10.69 sec\n",
            "Training set loss 2.891705274581909\n",
            "Training set accuracy 0.9794880151748657\n",
            "Test set accuracy 0.9751953482627869\n",
            "Epoch 8 in 20.49 sec\n",
            "Training set loss 2.8835349082946777\n",
            "Training set accuracy 0.9813164472579956\n",
            "Test set accuracy 0.9766601920127869\n",
            "Epoch 9 in 11.16 sec\n",
            "Training set loss 2.8766467571258545\n",
            "Training set accuracy 0.9828124642372131\n",
            "Test set accuracy 0.97705078125\n",
            "Epoch 10 in 10.31 sec\n",
            "Training set loss 2.8705313205718994\n",
            "Training set accuracy 0.9838264584541321\n",
            "Test set accuracy 0.9784179925918579\n",
            "Epoch 11 in 11.04 sec\n",
            "Training set loss 2.8653604984283447\n",
            "Training set accuracy 0.9851396083831787\n",
            "Test set accuracy 0.97900390625\n",
            "Epoch 12 in 8.77 sec\n",
            "Training set loss 2.8611690998077393\n",
            "Training set accuracy 0.986120343208313\n",
            "Test set accuracy 0.97900390625\n",
            "Epoch 13 in 20.49 sec\n",
            "Training set loss 2.8567447662353516\n",
            "Training set accuracy 0.9867187142372131\n",
            "Test set accuracy 0.9791015982627869\n",
            "Epoch 14 in 11.06 sec\n",
            "Training set loss 2.853097438812256\n",
            "Training set accuracy 0.9877492785453796\n",
            "Test set accuracy 0.97998046875\n",
            "Epoch 15 in 8.86 sec\n",
            "Training set loss 2.8497848510742188\n",
            "Training set accuracy 0.9884640574455261\n",
            "Test set accuracy 0.9810547232627869\n",
            "Epoch 16 in 11.17 sec\n",
            "Training set loss 2.8475968837738037\n",
            "Training set accuracy 0.9889128804206848\n",
            "Test set accuracy 0.9810547232627869\n",
            "Epoch 17 in 9.01 sec\n",
            "Training set loss 2.8452184200286865\n",
            "Training set accuracy 0.9895278811454773\n",
            "Test set accuracy 0.980761706829071\n",
            "Epoch 18 in 20.50 sec\n",
            "Training set loss 2.8419547080993652\n",
            "Training set accuracy 0.9902426600456238\n",
            "Test set accuracy 0.981152355670929\n",
            "Epoch 19 in 20.49 sec\n",
            "Training set loss 2.83945631980896\n",
            "Training set accuracy 0.9909241795539856\n",
            "Test set accuracy 0.9814453125\n"
          ]
        }
      ]
    },
    {
      "cell_type": "code",
      "source": [],
      "metadata": {
        "id": "zacBQRSbNSkB"
      },
      "execution_count": null,
      "outputs": []
    }
  ],
  "metadata": {
    "accelerator": "TPU",
    "colab": {
      "provenance": [],
      "toc_visible": true
    },
    "kernelspec": {
      "display_name": "Python 3",
      "name": "python3"
    },
    "language_info": {
      "name": "python"
    },
    "gpuClass": "standard",
    "widgets": {
      "application/vnd.jupyter.widget-state+json": {
        "d68384c4c26146e9938dd25f92d1d188": {
          "model_module": "@jupyter-widgets/controls",
          "model_name": "HBoxModel",
          "model_module_version": "1.5.0",
          "state": {
            "_dom_classes": [],
            "_model_module": "@jupyter-widgets/controls",
            "_model_module_version": "1.5.0",
            "_model_name": "HBoxModel",
            "_view_count": null,
            "_view_module": "@jupyter-widgets/controls",
            "_view_module_version": "1.5.0",
            "_view_name": "HBoxView",
            "box_style": "",
            "children": [
              "IPY_MODEL_f8ad438683274097a45055d3dcda4d62",
              "IPY_MODEL_2c1cef9f4697455b8126647258ebc626",
              "IPY_MODEL_6911edb1cc574086a59b0e263661c161"
            ],
            "layout": "IPY_MODEL_34a45562761444f488334a7f72e4be08"
          }
        },
        "f8ad438683274097a45055d3dcda4d62": {
          "model_module": "@jupyter-widgets/controls",
          "model_name": "HTMLModel",
          "model_module_version": "1.5.0",
          "state": {
            "_dom_classes": [],
            "_model_module": "@jupyter-widgets/controls",
            "_model_module_version": "1.5.0",
            "_model_name": "HTMLModel",
            "_view_count": null,
            "_view_module": "@jupyter-widgets/controls",
            "_view_module_version": "1.5.0",
            "_view_name": "HTMLView",
            "description": "",
            "description_tooltip": null,
            "layout": "IPY_MODEL_ac75a7ba05a54e90a15e64619935d4a8",
            "placeholder": "​",
            "style": "IPY_MODEL_e01fc20bdac547ecb41a0eff34c2ca8a",
            "value": "Dl Completed...: 100%"
          }
        },
        "2c1cef9f4697455b8126647258ebc626": {
          "model_module": "@jupyter-widgets/controls",
          "model_name": "FloatProgressModel",
          "model_module_version": "1.5.0",
          "state": {
            "_dom_classes": [],
            "_model_module": "@jupyter-widgets/controls",
            "_model_module_version": "1.5.0",
            "_model_name": "FloatProgressModel",
            "_view_count": null,
            "_view_module": "@jupyter-widgets/controls",
            "_view_module_version": "1.5.0",
            "_view_name": "ProgressView",
            "bar_style": "success",
            "description": "",
            "description_tooltip": null,
            "layout": "IPY_MODEL_01cc69e1c71f4eb9bc0f703d0745e5c6",
            "max": 5,
            "min": 0,
            "orientation": "horizontal",
            "style": "IPY_MODEL_fd6d441a247042ea9c340598a1106013",
            "value": 5
          }
        },
        "6911edb1cc574086a59b0e263661c161": {
          "model_module": "@jupyter-widgets/controls",
          "model_name": "HTMLModel",
          "model_module_version": "1.5.0",
          "state": {
            "_dom_classes": [],
            "_model_module": "@jupyter-widgets/controls",
            "_model_module_version": "1.5.0",
            "_model_name": "HTMLModel",
            "_view_count": null,
            "_view_module": "@jupyter-widgets/controls",
            "_view_module_version": "1.5.0",
            "_view_name": "HTMLView",
            "description": "",
            "description_tooltip": null,
            "layout": "IPY_MODEL_c731614754194a75a7a3e66a0df7bdfa",
            "placeholder": "​",
            "style": "IPY_MODEL_de9d4736f7f4444a8ae3fb1201a72a81",
            "value": " 5/5 [00:00&lt;00:00,  8.28 file/s]"
          }
        },
        "34a45562761444f488334a7f72e4be08": {
          "model_module": "@jupyter-widgets/base",
          "model_name": "LayoutModel",
          "model_module_version": "1.2.0",
          "state": {
            "_model_module": "@jupyter-widgets/base",
            "_model_module_version": "1.2.0",
            "_model_name": "LayoutModel",
            "_view_count": null,
            "_view_module": "@jupyter-widgets/base",
            "_view_module_version": "1.2.0",
            "_view_name": "LayoutView",
            "align_content": null,
            "align_items": null,
            "align_self": null,
            "border": null,
            "bottom": null,
            "display": null,
            "flex": null,
            "flex_flow": null,
            "grid_area": null,
            "grid_auto_columns": null,
            "grid_auto_flow": null,
            "grid_auto_rows": null,
            "grid_column": null,
            "grid_gap": null,
            "grid_row": null,
            "grid_template_areas": null,
            "grid_template_columns": null,
            "grid_template_rows": null,
            "height": null,
            "justify_content": null,
            "justify_items": null,
            "left": null,
            "margin": null,
            "max_height": null,
            "max_width": null,
            "min_height": null,
            "min_width": null,
            "object_fit": null,
            "object_position": null,
            "order": null,
            "overflow": null,
            "overflow_x": null,
            "overflow_y": null,
            "padding": null,
            "right": null,
            "top": null,
            "visibility": null,
            "width": null
          }
        },
        "ac75a7ba05a54e90a15e64619935d4a8": {
          "model_module": "@jupyter-widgets/base",
          "model_name": "LayoutModel",
          "model_module_version": "1.2.0",
          "state": {
            "_model_module": "@jupyter-widgets/base",
            "_model_module_version": "1.2.0",
            "_model_name": "LayoutModel",
            "_view_count": null,
            "_view_module": "@jupyter-widgets/base",
            "_view_module_version": "1.2.0",
            "_view_name": "LayoutView",
            "align_content": null,
            "align_items": null,
            "align_self": null,
            "border": null,
            "bottom": null,
            "display": null,
            "flex": null,
            "flex_flow": null,
            "grid_area": null,
            "grid_auto_columns": null,
            "grid_auto_flow": null,
            "grid_auto_rows": null,
            "grid_column": null,
            "grid_gap": null,
            "grid_row": null,
            "grid_template_areas": null,
            "grid_template_columns": null,
            "grid_template_rows": null,
            "height": null,
            "justify_content": null,
            "justify_items": null,
            "left": null,
            "margin": null,
            "max_height": null,
            "max_width": null,
            "min_height": null,
            "min_width": null,
            "object_fit": null,
            "object_position": null,
            "order": null,
            "overflow": null,
            "overflow_x": null,
            "overflow_y": null,
            "padding": null,
            "right": null,
            "top": null,
            "visibility": null,
            "width": null
          }
        },
        "e01fc20bdac547ecb41a0eff34c2ca8a": {
          "model_module": "@jupyter-widgets/controls",
          "model_name": "DescriptionStyleModel",
          "model_module_version": "1.5.0",
          "state": {
            "_model_module": "@jupyter-widgets/controls",
            "_model_module_version": "1.5.0",
            "_model_name": "DescriptionStyleModel",
            "_view_count": null,
            "_view_module": "@jupyter-widgets/base",
            "_view_module_version": "1.2.0",
            "_view_name": "StyleView",
            "description_width": ""
          }
        },
        "01cc69e1c71f4eb9bc0f703d0745e5c6": {
          "model_module": "@jupyter-widgets/base",
          "model_name": "LayoutModel",
          "model_module_version": "1.2.0",
          "state": {
            "_model_module": "@jupyter-widgets/base",
            "_model_module_version": "1.2.0",
            "_model_name": "LayoutModel",
            "_view_count": null,
            "_view_module": "@jupyter-widgets/base",
            "_view_module_version": "1.2.0",
            "_view_name": "LayoutView",
            "align_content": null,
            "align_items": null,
            "align_self": null,
            "border": null,
            "bottom": null,
            "display": null,
            "flex": null,
            "flex_flow": null,
            "grid_area": null,
            "grid_auto_columns": null,
            "grid_auto_flow": null,
            "grid_auto_rows": null,
            "grid_column": null,
            "grid_gap": null,
            "grid_row": null,
            "grid_template_areas": null,
            "grid_template_columns": null,
            "grid_template_rows": null,
            "height": null,
            "justify_content": null,
            "justify_items": null,
            "left": null,
            "margin": null,
            "max_height": null,
            "max_width": null,
            "min_height": null,
            "min_width": null,
            "object_fit": null,
            "object_position": null,
            "order": null,
            "overflow": null,
            "overflow_x": null,
            "overflow_y": null,
            "padding": null,
            "right": null,
            "top": null,
            "visibility": null,
            "width": null
          }
        },
        "fd6d441a247042ea9c340598a1106013": {
          "model_module": "@jupyter-widgets/controls",
          "model_name": "ProgressStyleModel",
          "model_module_version": "1.5.0",
          "state": {
            "_model_module": "@jupyter-widgets/controls",
            "_model_module_version": "1.5.0",
            "_model_name": "ProgressStyleModel",
            "_view_count": null,
            "_view_module": "@jupyter-widgets/base",
            "_view_module_version": "1.2.0",
            "_view_name": "StyleView",
            "bar_color": null,
            "description_width": ""
          }
        },
        "c731614754194a75a7a3e66a0df7bdfa": {
          "model_module": "@jupyter-widgets/base",
          "model_name": "LayoutModel",
          "model_module_version": "1.2.0",
          "state": {
            "_model_module": "@jupyter-widgets/base",
            "_model_module_version": "1.2.0",
            "_model_name": "LayoutModel",
            "_view_count": null,
            "_view_module": "@jupyter-widgets/base",
            "_view_module_version": "1.2.0",
            "_view_name": "LayoutView",
            "align_content": null,
            "align_items": null,
            "align_self": null,
            "border": null,
            "bottom": null,
            "display": null,
            "flex": null,
            "flex_flow": null,
            "grid_area": null,
            "grid_auto_columns": null,
            "grid_auto_flow": null,
            "grid_auto_rows": null,
            "grid_column": null,
            "grid_gap": null,
            "grid_row": null,
            "grid_template_areas": null,
            "grid_template_columns": null,
            "grid_template_rows": null,
            "height": null,
            "justify_content": null,
            "justify_items": null,
            "left": null,
            "margin": null,
            "max_height": null,
            "max_width": null,
            "min_height": null,
            "min_width": null,
            "object_fit": null,
            "object_position": null,
            "order": null,
            "overflow": null,
            "overflow_x": null,
            "overflow_y": null,
            "padding": null,
            "right": null,
            "top": null,
            "visibility": null,
            "width": null
          }
        },
        "de9d4736f7f4444a8ae3fb1201a72a81": {
          "model_module": "@jupyter-widgets/controls",
          "model_name": "DescriptionStyleModel",
          "model_module_version": "1.5.0",
          "state": {
            "_model_module": "@jupyter-widgets/controls",
            "_model_module_version": "1.5.0",
            "_model_name": "DescriptionStyleModel",
            "_view_count": null,
            "_view_module": "@jupyter-widgets/base",
            "_view_module_version": "1.2.0",
            "_view_name": "StyleView",
            "description_width": ""
          }
        }
      }
    }
  },
  "nbformat": 4,
  "nbformat_minor": 0
}