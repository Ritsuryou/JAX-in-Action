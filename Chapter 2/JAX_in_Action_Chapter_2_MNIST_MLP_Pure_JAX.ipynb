{
  "nbformat": 4,
  "nbformat_minor": 0,
  "metadata": {
    "colab": {
      "name": "JAX in Action - Chapter 2 - MNIST - MLP / Pure JAX",
      "provenance": [],
      "collapsed_sections": [],
      "machine_shape": "hm"
    },
    "kernelspec": {
      "name": "python3",
      "display_name": "Python 3"
    },
    "language_info": {
      "name": "python"
    },
    "accelerator": "GPU",
    "widgets": {
      "application/vnd.jupyter.widget-state+json": {
        "096b4ca293414b61b56c3ae4288c247a": {
          "model_module": "@jupyter-widgets/controls",
          "model_name": "HBoxModel",
          "model_module_version": "1.5.0",
          "state": {
            "_dom_classes": [],
            "_model_module": "@jupyter-widgets/controls",
            "_model_module_version": "1.5.0",
            "_model_name": "HBoxModel",
            "_view_count": null,
            "_view_module": "@jupyter-widgets/controls",
            "_view_module_version": "1.5.0",
            "_view_name": "HBoxView",
            "box_style": "",
            "children": [
              "IPY_MODEL_6dbd4507b54a4fb9b3de441f8b9b16c3",
              "IPY_MODEL_f6660a983a7342c9bacb81c97d2265ce",
              "IPY_MODEL_2042ac244ff043c980ac948b724deb96"
            ],
            "layout": "IPY_MODEL_a44ae428e2e640d98f1c78181f1bd334"
          }
        },
        "6dbd4507b54a4fb9b3de441f8b9b16c3": {
          "model_module": "@jupyter-widgets/controls",
          "model_name": "HTMLModel",
          "model_module_version": "1.5.0",
          "state": {
            "_dom_classes": [],
            "_model_module": "@jupyter-widgets/controls",
            "_model_module_version": "1.5.0",
            "_model_name": "HTMLModel",
            "_view_count": null,
            "_view_module": "@jupyter-widgets/controls",
            "_view_module_version": "1.5.0",
            "_view_name": "HTMLView",
            "description": "",
            "description_tooltip": null,
            "layout": "IPY_MODEL_9b35576d60a1404aafd583497ea770b8",
            "placeholder": "​",
            "style": "IPY_MODEL_df0466b56ce3442cb3327292dc9a6d73",
            "value": "Dl Completed...: 100%"
          }
        },
        "f6660a983a7342c9bacb81c97d2265ce": {
          "model_module": "@jupyter-widgets/controls",
          "model_name": "FloatProgressModel",
          "model_module_version": "1.5.0",
          "state": {
            "_dom_classes": [],
            "_model_module": "@jupyter-widgets/controls",
            "_model_module_version": "1.5.0",
            "_model_name": "FloatProgressModel",
            "_view_count": null,
            "_view_module": "@jupyter-widgets/controls",
            "_view_module_version": "1.5.0",
            "_view_name": "ProgressView",
            "bar_style": "success",
            "description": "",
            "description_tooltip": null,
            "layout": "IPY_MODEL_78e13dd1ab7341fe853829a9f16aa84b",
            "max": 4,
            "min": 0,
            "orientation": "horizontal",
            "style": "IPY_MODEL_5ec88cd598a24f8aa4df520d6ccf462e",
            "value": 4
          }
        },
        "2042ac244ff043c980ac948b724deb96": {
          "model_module": "@jupyter-widgets/controls",
          "model_name": "HTMLModel",
          "model_module_version": "1.5.0",
          "state": {
            "_dom_classes": [],
            "_model_module": "@jupyter-widgets/controls",
            "_model_module_version": "1.5.0",
            "_model_name": "HTMLModel",
            "_view_count": null,
            "_view_module": "@jupyter-widgets/controls",
            "_view_module_version": "1.5.0",
            "_view_name": "HTMLView",
            "description": "",
            "description_tooltip": null,
            "layout": "IPY_MODEL_7cd0d0de74f2419d8681dfaccb35f4e3",
            "placeholder": "​",
            "style": "IPY_MODEL_06fd830b65df4bd98dea49666f99a480",
            "value": " 4/4 [00:00&lt;00:00,  6.19 file/s]"
          }
        },
        "a44ae428e2e640d98f1c78181f1bd334": {
          "model_module": "@jupyter-widgets/base",
          "model_name": "LayoutModel",
          "model_module_version": "1.2.0",
          "state": {
            "_model_module": "@jupyter-widgets/base",
            "_model_module_version": "1.2.0",
            "_model_name": "LayoutModel",
            "_view_count": null,
            "_view_module": "@jupyter-widgets/base",
            "_view_module_version": "1.2.0",
            "_view_name": "LayoutView",
            "align_content": null,
            "align_items": null,
            "align_self": null,
            "border": null,
            "bottom": null,
            "display": null,
            "flex": null,
            "flex_flow": null,
            "grid_area": null,
            "grid_auto_columns": null,
            "grid_auto_flow": null,
            "grid_auto_rows": null,
            "grid_column": null,
            "grid_gap": null,
            "grid_row": null,
            "grid_template_areas": null,
            "grid_template_columns": null,
            "grid_template_rows": null,
            "height": null,
            "justify_content": null,
            "justify_items": null,
            "left": null,
            "margin": null,
            "max_height": null,
            "max_width": null,
            "min_height": null,
            "min_width": null,
            "object_fit": null,
            "object_position": null,
            "order": null,
            "overflow": null,
            "overflow_x": null,
            "overflow_y": null,
            "padding": null,
            "right": null,
            "top": null,
            "visibility": null,
            "width": null
          }
        },
        "9b35576d60a1404aafd583497ea770b8": {
          "model_module": "@jupyter-widgets/base",
          "model_name": "LayoutModel",
          "model_module_version": "1.2.0",
          "state": {
            "_model_module": "@jupyter-widgets/base",
            "_model_module_version": "1.2.0",
            "_model_name": "LayoutModel",
            "_view_count": null,
            "_view_module": "@jupyter-widgets/base",
            "_view_module_version": "1.2.0",
            "_view_name": "LayoutView",
            "align_content": null,
            "align_items": null,
            "align_self": null,
            "border": null,
            "bottom": null,
            "display": null,
            "flex": null,
            "flex_flow": null,
            "grid_area": null,
            "grid_auto_columns": null,
            "grid_auto_flow": null,
            "grid_auto_rows": null,
            "grid_column": null,
            "grid_gap": null,
            "grid_row": null,
            "grid_template_areas": null,
            "grid_template_columns": null,
            "grid_template_rows": null,
            "height": null,
            "justify_content": null,
            "justify_items": null,
            "left": null,
            "margin": null,
            "max_height": null,
            "max_width": null,
            "min_height": null,
            "min_width": null,
            "object_fit": null,
            "object_position": null,
            "order": null,
            "overflow": null,
            "overflow_x": null,
            "overflow_y": null,
            "padding": null,
            "right": null,
            "top": null,
            "visibility": null,
            "width": null
          }
        },
        "df0466b56ce3442cb3327292dc9a6d73": {
          "model_module": "@jupyter-widgets/controls",
          "model_name": "DescriptionStyleModel",
          "model_module_version": "1.5.0",
          "state": {
            "_model_module": "@jupyter-widgets/controls",
            "_model_module_version": "1.5.0",
            "_model_name": "DescriptionStyleModel",
            "_view_count": null,
            "_view_module": "@jupyter-widgets/base",
            "_view_module_version": "1.2.0",
            "_view_name": "StyleView",
            "description_width": ""
          }
        },
        "78e13dd1ab7341fe853829a9f16aa84b": {
          "model_module": "@jupyter-widgets/base",
          "model_name": "LayoutModel",
          "model_module_version": "1.2.0",
          "state": {
            "_model_module": "@jupyter-widgets/base",
            "_model_module_version": "1.2.0",
            "_model_name": "LayoutModel",
            "_view_count": null,
            "_view_module": "@jupyter-widgets/base",
            "_view_module_version": "1.2.0",
            "_view_name": "LayoutView",
            "align_content": null,
            "align_items": null,
            "align_self": null,
            "border": null,
            "bottom": null,
            "display": null,
            "flex": null,
            "flex_flow": null,
            "grid_area": null,
            "grid_auto_columns": null,
            "grid_auto_flow": null,
            "grid_auto_rows": null,
            "grid_column": null,
            "grid_gap": null,
            "grid_row": null,
            "grid_template_areas": null,
            "grid_template_columns": null,
            "grid_template_rows": null,
            "height": null,
            "justify_content": null,
            "justify_items": null,
            "left": null,
            "margin": null,
            "max_height": null,
            "max_width": null,
            "min_height": null,
            "min_width": null,
            "object_fit": null,
            "object_position": null,
            "order": null,
            "overflow": null,
            "overflow_x": null,
            "overflow_y": null,
            "padding": null,
            "right": null,
            "top": null,
            "visibility": null,
            "width": null
          }
        },
        "5ec88cd598a24f8aa4df520d6ccf462e": {
          "model_module": "@jupyter-widgets/controls",
          "model_name": "ProgressStyleModel",
          "model_module_version": "1.5.0",
          "state": {
            "_model_module": "@jupyter-widgets/controls",
            "_model_module_version": "1.5.0",
            "_model_name": "ProgressStyleModel",
            "_view_count": null,
            "_view_module": "@jupyter-widgets/base",
            "_view_module_version": "1.2.0",
            "_view_name": "StyleView",
            "bar_color": null,
            "description_width": ""
          }
        },
        "7cd0d0de74f2419d8681dfaccb35f4e3": {
          "model_module": "@jupyter-widgets/base",
          "model_name": "LayoutModel",
          "model_module_version": "1.2.0",
          "state": {
            "_model_module": "@jupyter-widgets/base",
            "_model_module_version": "1.2.0",
            "_model_name": "LayoutModel",
            "_view_count": null,
            "_view_module": "@jupyter-widgets/base",
            "_view_module_version": "1.2.0",
            "_view_name": "LayoutView",
            "align_content": null,
            "align_items": null,
            "align_self": null,
            "border": null,
            "bottom": null,
            "display": null,
            "flex": null,
            "flex_flow": null,
            "grid_area": null,
            "grid_auto_columns": null,
            "grid_auto_flow": null,
            "grid_auto_rows": null,
            "grid_column": null,
            "grid_gap": null,
            "grid_row": null,
            "grid_template_areas": null,
            "grid_template_columns": null,
            "grid_template_rows": null,
            "height": null,
            "justify_content": null,
            "justify_items": null,
            "left": null,
            "margin": null,
            "max_height": null,
            "max_width": null,
            "min_height": null,
            "min_width": null,
            "object_fit": null,
            "object_position": null,
            "order": null,
            "overflow": null,
            "overflow_x": null,
            "overflow_y": null,
            "padding": null,
            "right": null,
            "top": null,
            "visibility": null,
            "width": null
          }
        },
        "06fd830b65df4bd98dea49666f99a480": {
          "model_module": "@jupyter-widgets/controls",
          "model_name": "DescriptionStyleModel",
          "model_module_version": "1.5.0",
          "state": {
            "_model_module": "@jupyter-widgets/controls",
            "_model_module_version": "1.5.0",
            "_model_name": "DescriptionStyleModel",
            "_view_count": null,
            "_view_module": "@jupyter-widgets/base",
            "_view_module_version": "1.2.0",
            "_view_name": "StyleView",
            "description_width": ""
          }
        }
      }
    }
  },
  "cells": [
    {
      "cell_type": "code",
      "execution_count": null,
      "metadata": {
        "id": "ETA6fo_89KbM",
        "colab": {
          "base_uri": "https://localhost:8080/",
          "height": 191,
          "referenced_widgets": [
            "096b4ca293414b61b56c3ae4288c247a",
            "6dbd4507b54a4fb9b3de441f8b9b16c3",
            "f6660a983a7342c9bacb81c97d2265ce",
            "2042ac244ff043c980ac948b724deb96",
            "a44ae428e2e640d98f1c78181f1bd334",
            "9b35576d60a1404aafd583497ea770b8",
            "df0466b56ce3442cb3327292dc9a6d73",
            "78e13dd1ab7341fe853829a9f16aa84b",
            "5ec88cd598a24f8aa4df520d6ccf462e",
            "7cd0d0de74f2419d8681dfaccb35f4e3",
            "06fd830b65df4bd98dea49666f99a480"
          ]
        },
        "outputId": "81703b42-0b88-4a2d-a2b2-b55b101ce9e3"
      },
      "outputs": [
        {
          "output_type": "stream",
          "name": "stdout",
          "text": [
            "\u001b[1mDownloading and preparing dataset mnist/3.0.1 (download: 11.06 MiB, generated: 21.00 MiB, total: 32.06 MiB) to /tmp/tfds/mnist/3.0.1...\u001b[0m\n"
          ]
        },
        {
          "output_type": "stream",
          "name": "stderr",
          "text": [
            "WARNING:absl:Dataset mnist is hosted on GCS. It will automatically be downloaded to your\n",
            "local data directory. If you'd instead prefer to read directly from our public\n",
            "GCS bucket (recommended if you're running on GCP), you can instead pass\n",
            "`try_gcs=True` to `tfds.load` or set `data_dir=gs://tfds-data/datasets`.\n",
            "\n"
          ]
        },
        {
          "output_type": "display_data",
          "data": {
            "text/plain": [
              "Dl Completed...:   0%|          | 0/4 [00:00<?, ? file/s]"
            ],
            "application/vnd.jupyter.widget-view+json": {
              "version_major": 2,
              "version_minor": 0,
              "model_id": "096b4ca293414b61b56c3ae4288c247a"
            }
          },
          "metadata": {}
        },
        {
          "output_type": "stream",
          "name": "stdout",
          "text": [
            "\n",
            "\u001b[1mDataset mnist downloaded and prepared to /tmp/tfds/mnist/3.0.1. Subsequent calls will reuse this data.\u001b[0m\n"
          ]
        }
      ],
      "source": [
        "import tensorflow as tf\n",
        "# Ensure TF does not see GPU and grab all GPU memory.\n",
        "#tf.config.set_visible_devices([], device_type='GPU')\n",
        "\n",
        "import tensorflow_datasets as tfds\n",
        "\n",
        "data_dir = '/tmp/tfds'\n",
        "\n",
        "# as_supervised=True gives us the (image, label) as a tuple instead of a dict\n",
        "data, info = tfds.load(name=\"mnist\",\n",
        "                       data_dir=data_dir,\n",
        "                       as_supervised=True, \n",
        "                       with_info=True)\n",
        "\n",
        "data_train = data['train']\n",
        "data_test  = data['test']"
      ]
    },
    {
      "cell_type": "code",
      "source": [
        "info"
      ],
      "metadata": {
        "colab": {
          "base_uri": "https://localhost:8080/"
        },
        "id": "jfeRh5gRE70P",
        "outputId": "5279dec6-6cda-442f-defb-c356678f10f1"
      },
      "execution_count": null,
      "outputs": [
        {
          "output_type": "execute_result",
          "data": {
            "text/plain": [
              "tfds.core.DatasetInfo(\n",
              "    name='mnist',\n",
              "    version=3.0.1,\n",
              "    description='The MNIST database of handwritten digits.',\n",
              "    homepage='http://yann.lecun.com/exdb/mnist/',\n",
              "    features=FeaturesDict({\n",
              "        'image': Image(shape=(28, 28, 1), dtype=tf.uint8),\n",
              "        'label': ClassLabel(shape=(), dtype=tf.int64, num_classes=10),\n",
              "    }),\n",
              "    total_num_examples=70000,\n",
              "    splits={\n",
              "        'test': 10000,\n",
              "        'train': 60000,\n",
              "    },\n",
              "    supervised_keys=('image', 'label'),\n",
              "    citation=\"\"\"@article{lecun2010mnist,\n",
              "      title={MNIST handwritten digit database},\n",
              "      author={LeCun, Yann and Cortes, Corinna and Burges, CJ},\n",
              "      journal={ATT Labs [Online]. Available: http://yann.lecun.com/exdb/mnist},\n",
              "      volume={2},\n",
              "      year={2010}\n",
              "    }\"\"\",\n",
              "    redistribution_info=,\n",
              ")"
            ]
          },
          "metadata": {},
          "execution_count": 2
        }
      ]
    },
    {
      "cell_type": "code",
      "source": [
        "import numpy as np\n",
        "import matplotlib.pyplot as plt\n",
        "plt.rcParams['figure.figsize'] = [10, 5]\n",
        "\n",
        "ROWS = 3\n",
        "COLS = 10\n",
        "\n",
        "i = 0\n",
        "fig, ax = plt.subplots(ROWS, COLS)\n",
        "for image, label in data_train.take(ROWS*COLS):\n",
        "    ax[int(i/COLS), i%COLS].axis('off')\n",
        "    ax[int(i/COLS), i%COLS].set_title(str(label.numpy()))\n",
        "    ax[int(i/COLS), i%COLS].imshow(np.reshape(image, (28,28)), cmap='gray')\n",
        "    i += 1\n",
        " \n",
        "plt.show()"
      ],
      "metadata": {
        "colab": {
          "base_uri": "https://localhost:8080/",
          "height": 286
        },
        "id": "jh2FYWKsU1qd",
        "outputId": "fc5e3d95-f66a-46a9-a12d-879dfb4e7c56"
      },
      "execution_count": null,
      "outputs": [
        {
          "output_type": "display_data",
          "data": {
            "text/plain": [
              "<Figure size 720x360 with 30 Axes>"
            ],
            "image/png": "[encoded data removed]"
          },
          "metadata": {
            "needs_background": "light"
          }
        }
      ]
    },
    {
      "cell_type": "code",
      "source": [
        "HEIGHT = 28\n",
        "WIDTH  = 28\n",
        "CHANNELS = 1\n",
        "NUM_PIXELS = HEIGHT * WIDTH * CHANNELS \n",
        "NUM_LABELS = info.features['label'].num_classes"
      ],
      "metadata": {
        "id": "qr0plhNsWatv"
      },
      "execution_count": null,
      "outputs": []
    },
    {
      "cell_type": "code",
      "source": [
        "import jax.numpy as jnp"
      ],
      "metadata": {
        "id": "wGSrWPCqXBNC"
      },
      "execution_count": null,
      "outputs": []
    },
    {
      "cell_type": "code",
      "source": [
        "def preprocess(img, label):\n",
        "  \"\"\"Resize and preprocess images.\"\"\"\n",
        "  return (tf.cast(img, tf.float32)/255.0), label"
      ],
      "metadata": {
        "id": "k4Sna9QeE5Ea"
      },
      "execution_count": null,
      "outputs": []
    },
    {
      "cell_type": "code",
      "source": [
        "data_train_vis = data_train.map(preprocess)"
      ],
      "metadata": {
        "id": "QhkUPmYCXE6h"
      },
      "execution_count": null,
      "outputs": []
    },
    {
      "cell_type": "code",
      "source": [
        "i = 0\n",
        "fig, ax = plt.subplots(ROWS, COLS)\n",
        "for image, label in data_train_vis.take(ROWS*COLS):\n",
        "    ax[int(i/COLS), i%COLS].axis('off')\n",
        "    ax[int(i/COLS), i%COLS].set_title(str(label.numpy()))\n",
        "    ax[int(i/COLS), i%COLS].imshow(np.reshape(image, (28,28)), cmap='gray')\n",
        "    i += 1\n",
        " \n",
        "plt.show()"
      ],
      "metadata": {
        "colab": {
          "base_uri": "https://localhost:8080/",
          "height": 286
        },
        "id": "1r9_g4xZ4AO6",
        "outputId": "3f96f1ba-3d7a-4b15-adea-e116403e880d"
      },
      "execution_count": null,
      "outputs": [
        {
          "output_type": "display_data",
          "data": {
            "text/plain": [
              "<Figure size 720x360 with 30 Axes>"
            ],
            "image/png": "[encoded data removed]"
          },
          "metadata": {
            "needs_background": "light"
          }
        }
      ]
    },
    {
      "cell_type": "code",
      "source": [
        "train_data = tfds.as_numpy(data_train.map(preprocess).batch(32).prefetch(1))\n",
        "test_data  = tfds.as_numpy(data_test.map(preprocess).batch(32).prefetch(1))"
      ],
      "metadata": {
        "id": "QNar9uOB3JsH"
      },
      "execution_count": null,
      "outputs": []
    },
    {
      "cell_type": "code",
      "source": [
        "LAYER_SIZES = [28*28, 512, 10]\n",
        "PARAM_SCALE = 0.01"
      ],
      "metadata": {
        "id": "adQ9pbzJ94Hk"
      },
      "execution_count": null,
      "outputs": []
    },
    {
      "cell_type": "code",
      "source": [
        "import jax\n",
        "import jax.numpy as jnp\n",
        "from jax import grad, jit, vmap, value_and_grad\n",
        "from jax import random\n",
        "from jax.nn import swish, logsumexp, one_hot"
      ],
      "metadata": {
        "id": "k9xOkoxB-cK0"
      },
      "execution_count": null,
      "outputs": []
    },
    {
      "cell_type": "code",
      "source": [
        "def init_network_params(sizes, key=random.PRNGKey(0), scale=1e-2):\n",
        "  \"\"\"Initialize all layers for a fully-connected neural network with given sizes\"\"\"\n",
        "\n",
        "  def random_layer_params(m, n, key, scale=1e-2):\n",
        "    \"\"\"A helper function to randomly initialize weights and biases of a dense layer\"\"\" \n",
        "    w_key, b_key = random.split(key)\n",
        "    return scale * random.normal(w_key, (n, m)), scale * random.normal(b_key, (n,))\n",
        "\n",
        "  keys = random.split(key, len(sizes))\n",
        "  return [random_layer_params(m, n, k, scale) for m, n, k in zip(sizes[:-1], sizes[1:], keys)]"
      ],
      "metadata": {
        "id": "mFvGPufs-GPM"
      },
      "execution_count": null,
      "outputs": []
    },
    {
      "cell_type": "code",
      "source": [
        "params = init_network_params(LAYER_SIZES, random.PRNGKey(0), scale=PARAM_SCALE)"
      ],
      "metadata": {
        "id": "yW0rZY1TFPjV"
      },
      "execution_count": null,
      "outputs": []
    },
    {
      "cell_type": "code",
      "source": [
        "def predict(params, image):\n",
        "  \"\"\"Function for per-example predictions.\"\"\"\n",
        "  activations = image\n",
        "  for w, b in params[:-1]:\n",
        "    outputs = jnp.dot(w, activations) + b\n",
        "    activations = swish(outputs)\n",
        "  \n",
        "  final_w, final_b = params[-1]\n",
        "  logits = jnp.dot(final_w, activations) + final_b\n",
        "  return logits"
      ],
      "metadata": {
        "id": "QlvPfkFhDr1W"
      },
      "execution_count": null,
      "outputs": []
    },
    {
      "cell_type": "code",
      "source": [
        "random_flattened_image = random.normal(random.PRNGKey(1), (28*28*1,))\n",
        "preds = predict(params, random_flattened_image)\n",
        "print(preds.shape)"
      ],
      "metadata": {
        "colab": {
          "base_uri": "https://localhost:8080/"
        },
        "id": "H-QGZGpOFcfE",
        "outputId": "b7445a98-802d-41de-dc0d-cc1569594be8"
      },
      "execution_count": null,
      "outputs": [
        {
          "output_type": "stream",
          "name": "stdout",
          "text": [
            "(10,)\n"
          ]
        }
      ]
    },
    {
      "cell_type": "code",
      "source": [
        "random_flattened_images = random.normal(random.PRNGKey(1), (32, 28*28*1))\n",
        "try:\n",
        "  preds = predict(params, random_flattened_images)\n",
        "except TypeError as e:\n",
        "  print(e)"
      ],
      "metadata": {
        "colab": {
          "base_uri": "https://localhost:8080/"
        },
        "id": "IpmcxCDtHL99",
        "outputId": "b8594ae6-eabb-4faf-f193-fb4f6e86674c"
      },
      "execution_count": null,
      "outputs": [
        {
          "output_type": "stream",
          "name": "stdout",
          "text": [
            "Incompatible shapes for dot: got (512, 784) and (32, 784).\n"
          ]
        }
      ]
    },
    {
      "cell_type": "code",
      "source": [
        "batched_predict = vmap(predict, in_axes=(None, 0))"
      ],
      "metadata": {
        "id": "1_lEUexBQBLi"
      },
      "execution_count": null,
      "outputs": []
    },
    {
      "cell_type": "code",
      "source": [
        "# `batched_predict` has the same call signature as `predict`\n",
        "batched_preds = batched_predict(params, random_flattened_images)\n",
        "print(batched_preds.shape)"
      ],
      "metadata": {
        "colab": {
          "base_uri": "https://localhost:8080/"
        },
        "id": "bor-1S51HWU3",
        "outputId": "b01a1b70-7136-48ed-d422-5f502475f023"
      },
      "execution_count": null,
      "outputs": [
        {
          "output_type": "stream",
          "name": "stdout",
          "text": [
            "(32, 10)\n"
          ]
        }
      ]
    },
    {
      "cell_type": "code",
      "source": [
        "jax.devices()"
      ],
      "metadata": {
        "colab": {
          "base_uri": "https://localhost:8080/"
        },
        "id": "z1W4a--k0uJC",
        "outputId": "ff695866-c9d6-44f4-bc63-1b3a1aa72b47"
      },
      "execution_count": null,
      "outputs": [
        {
          "output_type": "execute_result",
          "data": {
            "text/plain": [
              "[GpuDevice(id=0, process_index=0)]"
            ]
          },
          "metadata": {},
          "execution_count": 27
        }
      ]
    },
    {
      "cell_type": "code",
      "source": [
        "INIT_LR = 1.0\n",
        "DECAY_RATE = 0.95\n",
        "DECAY_STEPS = 5"
      ],
      "metadata": {
        "id": "4MgIpDHBIV2g"
      },
      "execution_count": null,
      "outputs": []
    },
    {
      "cell_type": "code",
      "source": [
        "def loss(params, images, targets):\n",
        "  \"\"\"Categorical cross entropy loss function.\"\"\"\n",
        "  logits = batched_predict(params, images)\n",
        "  log_preds = logits - logsumexp(logits) # logsumexp trick https://gregorygundersen.com/blog/2020/02/09/log-sum-exp/\n",
        "  return -jnp.mean(targets*log_preds)\n",
        "\n",
        "@jit\n",
        "def update(params, x, y, epoch_number):\n",
        "  loss_value, grads = value_and_grad(loss)(params, x, y)\n",
        "  lr = INIT_LR * DECAY_RATE ** (epoch_number / DECAY_STEPS)\n",
        "  return [(w - lr * dw, b - lr * db)\n",
        "          for (w, b), (dw, db) in zip(params, grads)], loss_value"
      ],
      "metadata": {
        "id": "w0yt8f0TH0L1"
      },
      "execution_count": null,
      "outputs": []
    },
    {
      "cell_type": "code",
      "source": [
        "num_epochs = 25"
      ],
      "metadata": {
        "id": "Ghj4FxExIsNv"
      },
      "execution_count": null,
      "outputs": []
    },
    {
      "cell_type": "code",
      "source": [
        "@jit\n",
        "def batch_accuracy(params, images, targets):\n",
        "  images = jnp.reshape(images, (len(images), NUM_PIXELS))\n",
        "  predicted_class = jnp.argmax(batched_predict(params, images), axis=1)\n",
        "  return jnp.mean(predicted_class == targets)\n",
        "\n",
        "def accuracy(params, data):\n",
        "  accs = []\n",
        "  for images, targets in data:\n",
        "    accs.append(batch_accuracy(params, images, targets))\n",
        "  return jnp.mean(jnp.array(accs))\n",
        "  \n",
        "import time\n",
        "\n",
        "for epoch in range(num_epochs):\n",
        "  start_time = time.time()\n",
        "  losses = []\n",
        "  for x, y in train_data:\n",
        "    x = jnp.reshape(x, (len(x), NUM_PIXELS))\n",
        "    y = jax.nn.one_hot(y, NUM_LABELS)\n",
        "    params, loss_value = update(params, x, y, epoch)\n",
        "    losses.append(loss_value)\n",
        "  epoch_time = time.time() - start_time\n",
        "\n",
        "  start_time = time.time()\n",
        "  train_acc = accuracy(params, train_data)\n",
        "  test_acc = accuracy(params, test_data)\n",
        "  eval_time = time.time() - start_time\n",
        "  print(\"Epoch {} in {:0.2f} sec\".format(epoch, epoch_time))\n",
        "  print(\"Eval in {:0.2f} sec\".format(eval_time))\n",
        "  print(\"Training set loss {}\".format(jnp.mean(jnp.array(losses))))\n",
        "  print(\"Training set accuracy {}\".format(train_acc))\n",
        "  print(\"Test set accuracy {}\".format(test_acc))"
      ],
      "metadata": {
        "colab": {
          "base_uri": "https://localhost:8080/"
        },
        "id": "0K9DAHaVIHII",
        "outputId": "fd9bb1c7-804c-4a2f-b73b-d83f082b4377"
      },
      "execution_count": null,
      "outputs": [
        {
          "output_type": "stream",
          "name": "stdout",
          "text": [
            "Epoch 0 in 2.15 sec\n",
            "Eval in 2.52 sec\n",
            "Training set loss 0.41040700674057007\n",
            "Training set accuracy 0.9299499988555908\n",
            "Test set accuracy 0.931010365486145\n",
            "Epoch 1 in 1.68 sec\n",
            "Eval in 2.06 sec\n",
            "Training set loss 0.37730318307876587\n",
            "Training set accuracy 0.9500166773796082\n",
            "Test set accuracy 0.9497803449630737\n",
            "Epoch 2 in 1.69 sec\n",
            "Eval in 2.01 sec\n",
            "Training set loss 0.3708733022212982\n",
            "Training set accuracy 0.9603500366210938\n",
            "Test set accuracy 0.9593650102615356\n",
            "Epoch 3 in 1.67 sec\n",
            "Eval in 2.09 sec\n",
            "Training set loss 0.36748188734054565\n",
            "Training set accuracy 0.9666333198547363\n",
            "Test set accuracy 0.9640575051307678\n",
            "Epoch 4 in 1.68 sec\n",
            "Eval in 2.10 sec\n",
            "Training set loss 0.3651924729347229\n",
            "Training set accuracy 0.9704166650772095\n",
            "Test set accuracy 0.9673522114753723\n",
            "Epoch 5 in 1.70 sec\n",
            "Eval in 2.14 sec\n",
            "Training set loss 0.36349743604660034\n",
            "Training set accuracy 0.9737333655357361\n",
            "Test set accuracy 0.9694488644599915\n",
            "Epoch 6 in 1.72 sec\n",
            "Eval in 2.10 sec\n",
            "Training set loss 0.36217668652534485\n",
            "Training set accuracy 0.9761999845504761\n",
            "Test set accuracy 0.9710463285446167\n",
            "Epoch 7 in 1.70 sec\n",
            "Eval in 2.04 sec\n",
            "Training set loss 0.36110663414001465\n",
            "Training set accuracy 0.978516697883606\n",
            "Test set accuracy 0.9734424948692322\n",
            "Epoch 8 in 1.72 sec\n",
            "Eval in 2.07 sec\n",
            "Training set loss 0.36021512746810913\n",
            "Training set accuracy 0.9803000092506409\n",
            "Test set accuracy 0.9747403860092163\n",
            "Epoch 9 in 1.67 sec\n",
            "Eval in 2.11 sec\n",
            "Training set loss 0.35945671796798706\n",
            "Training set accuracy 0.982200026512146\n",
            "Test set accuracy 0.9754392504692078\n",
            "Epoch 10 in 1.71 sec\n",
            "Eval in 2.07 sec\n",
            "Training set loss 0.35880008339881897\n",
            "Training set accuracy 0.9835500121116638\n",
            "Test set accuracy 0.976138174533844\n",
            "Epoch 11 in 2.57 sec\n",
            "Eval in 2.03 sec\n",
            "Training set loss 0.3582228422164917\n",
            "Training set accuracy 0.9847000241279602\n",
            "Test set accuracy 0.9768370389938354\n",
            "Epoch 12 in 1.70 sec\n",
            "Eval in 2.13 sec\n",
            "Training set loss 0.35770881175994873\n",
            "Training set accuracy 0.9854833483695984\n",
            "Test set accuracy 0.9776357412338257\n",
            "Epoch 13 in 1.70 sec\n",
            "Eval in 2.06 sec\n",
            "Training set loss 0.35724619030952454\n",
            "Training set accuracy 0.9863499999046326\n",
            "Test set accuracy 0.9782348275184631\n",
            "Epoch 14 in 1.68 sec\n",
            "Eval in 2.07 sec\n",
            "Training set loss 0.35682621598243713\n",
            "Training set accuracy 0.9873999953269958\n",
            "Test set accuracy 0.9789336919784546\n",
            "Epoch 15 in 1.70 sec\n",
            "Eval in 2.07 sec\n",
            "Training set loss 0.35644233226776123\n",
            "Training set accuracy 0.9879833459854126\n",
            "Test set accuracy 0.9794328808784485\n",
            "Epoch 16 in 1.69 sec\n",
            "Eval in 2.06 sec\n",
            "Training set loss 0.35608944296836853\n",
            "Training set accuracy 0.9884499907493591\n",
            "Test set accuracy 0.979632556438446\n",
            "Epoch 17 in 1.72 sec\n",
            "Eval in 2.09 sec\n",
            "Training set loss 0.3557635545730591\n",
            "Training set accuracy 0.9891666769981384\n",
            "Test set accuracy 0.9798322319984436\n",
            "Epoch 18 in 1.69 sec\n",
            "Eval in 2.10 sec\n",
            "Training set loss 0.35546138882637024\n",
            "Training set accuracy 0.989716649055481\n",
            "Test set accuracy 0.9802315831184387\n",
            "Epoch 19 in 1.73 sec\n",
            "Eval in 2.08 sec\n",
            "Training set loss 0.3551803529262543\n",
            "Training set accuracy 0.9902833700180054\n",
            "Test set accuracy 0.9803314805030823\n",
            "Epoch 20 in 1.67 sec\n",
            "Eval in 2.05 sec\n",
            "Training set loss 0.35491806268692017\n",
            "Training set accuracy 0.990850031375885\n",
            "Test set accuracy 0.9806309938430786\n",
            "Epoch 21 in 1.70 sec\n",
            "Eval in 2.18 sec\n",
            "Training set loss 0.3546726703643799\n",
            "Training set accuracy 0.9912333488464355\n",
            "Test set accuracy 0.9808306694030762\n",
            "Epoch 22 in 1.72 sec\n",
            "Eval in 2.24 sec\n",
            "Training set loss 0.35444244742393494\n",
            "Training set accuracy 0.9916833639144897\n",
            "Test set accuracy 0.980930507183075\n",
            "Epoch 23 in 1.69 sec\n",
            "Eval in 2.07 sec\n",
            "Training set loss 0.35422590374946594\n",
            "Training set accuracy 0.9921666979789734\n",
            "Test set accuracy 0.9811301827430725\n",
            "Epoch 24 in 1.69 sec\n",
            "Eval in 2.06 sec\n",
            "Training set loss 0.3540217876434326\n",
            "Training set accuracy 0.9924833178520203\n",
            "Test set accuracy 0.9812300205230713\n"
          ]
        }
      ]
    },
    {
      "cell_type": "code",
      "source": [
        ""
      ],
      "metadata": {
        "id": "C95WsgsPdxze"
      },
      "execution_count": null,
      "outputs": []
    }
  ]
}